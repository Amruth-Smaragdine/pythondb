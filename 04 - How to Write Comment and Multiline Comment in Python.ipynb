{
 "cells": [
  {
   "cell_type": "markdown",
   "metadata": {},
   "source": [
    "# How to Write Comment and Multiline Comment in Python"
   ]
  },
  {
   "cell_type": "code",
   "execution_count": 2,
   "metadata": {},
   "outputs": [
    {
     "name": "stdout",
     "output_type": "stream",
     "text": [
      "A single line comment can start with a '#' and is normally placed at the begining of the program\n",
      "\n",
      "Single line comments can also be entered at any line just beside the start of code segment, for which a developer wants to leave helpful hints for future reference\n",
      "\n",
      "Though it is optional, comments are one amongst the 'Best industry programing practices'.\n"
     ]
    }
   ],
   "source": [
    "# An example of a one line comment\n",
    "print (\"A single line comment can start with a '#' and is normally placed at the begining of the program\\n\")\n",
    "print (\"Single line comments can also be entered at any line just beside the start of code segment, for which a developer wants to leave helpful hints for future reference\\n\")\n",
    "print (\"Though it is optional, comments are one amongst the 'Best industry programing practices'.\")"
   ]
  },
  {
   "cell_type": "code",
   "execution_count": 17,
   "metadata": {},
   "outputs": [
    {
     "name": "stdout",
     "output_type": "stream",
     "text": [
      "The result of addition of 2 and 3 is: 5\n"
     ]
    },
    {
     "data": {
      "text/plain": [
       "'\\n    Here is a multi-line comment, which helps the developer leave all his comments of a function.\\n    An application developer normally makes use of such multi line comments when a function is defined.\\n    It is suggested that these series of lines are mentioned just after the \\'def\\' statement.\\n    This multi-line comment appears when the an developer tries to access the document string (__doc__).\\n    \\n    This is an example \"Document String\" for a sample to add two numbers\\n    '"
      ]
     },
     "execution_count": 17,
     "metadata": {},
     "output_type": "execute_result"
    }
   ],
   "source": [
    "def addition(x, y):\n",
    "    \"\"\"\n",
    "    Here is a multi-line comment, which helps the developer leave all his comments of a function.\n",
    "    An application developer normally makes use of such multi line comments when a function is defined.\n",
    "    It is suggested that these series of lines are mentioned just after the 'def' statement.\n",
    "    This multi-line comment appears when the an developer tries to access the document string (__doc__).\n",
    "    \n",
    "    This is an example \"Document String\" for a sample to add two numbers\n",
    "    \"\"\"\n",
    "    print (\"The result of addition of {} and {} is: {}\".format(x, y, x + y))\n",
    "\n",
    "addition(2, 3)\n",
    "addition.__doc__"
   ]
  }
 ],
 "metadata": {
  "kernelspec": {
   "display_name": "Python 3",
   "language": "python",
   "name": "python3"
  },
  "language_info": {
   "codemirror_mode": {
    "name": "ipython",
    "version": 3
   },
   "file_extension": ".py",
   "mimetype": "text/x-python",
   "name": "python",
   "nbconvert_exporter": "python",
   "pygments_lexer": "ipython3",
   "version": "3.7.6"
  }
 },
 "nbformat": 4,
 "nbformat_minor": 4
}
