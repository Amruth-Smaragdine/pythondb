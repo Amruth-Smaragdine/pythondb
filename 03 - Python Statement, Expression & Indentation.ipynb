{
 "cells": [
  {
   "cell_type": "markdown",
   "metadata": {},
   "source": [
    "# Python Statement, Expression & Indentation"
   ]
  },
  {
   "cell_type": "code",
   "execution_count": 1,
   "metadata": {},
   "outputs": [
    {
     "name": "stdout",
     "output_type": "stream",
     "text": [
      "--Return--\n",
      "> <ipython-input-1-53e771752b7e>(2)<module>()->None\n",
      "-> pdb.set_trace()\n",
      "(Pdb) p locals()\n",
      "{'__name__': '__main__', '__doc__': 'Automatically created module for IPython interactive environment', '__package__': None, '__loader__': None, '__spec__': None, '__builtin__': <module 'builtins' (built-in)>, '__builtins__': <module 'builtins' (built-in)>, '_ih': ['', 'import pdb\\npdb.set_trace()\\na = 3\\nb = 6\\nx = a ** 2 + b ** 2 + 2 * ( a + b )\\nprint (x)'], '_oh': {}, '_dh': ['C:\\\\Users\\\\Smaragdine\\\\PythonSelfLearning'], 'In': ['', 'import pdb\\npdb.set_trace()\\na = 3\\nb = 6\\nx = a ** 2 + b ** 2 + 2 * ( a + b )\\nprint (x)'], 'Out': {}, 'get_ipython': <bound method InteractiveShell.get_ipython of <ipykernel.zmqshell.ZMQInteractiveShell object at 0x00000237A27DC788>>, 'exit': <IPython.core.autocall.ZMQExitAutocall object at 0x00000237A4BAB4C8>, 'quit': <IPython.core.autocall.ZMQExitAutocall object at 0x00000237A4BAB4C8>, '_': '', '__': '', '___': '', '_i': '', '_ii': '', '_iii': '', '_i1': 'import pdb\\npdb.set_trace()\\na = 3\\nb = 6\\nx = a ** 2 + b ** 2 + 2 * ( a + b )\\nprint (x)', 'pdb': <module 'pdb' from 'D:\\\\ProgramData\\\\Anaconda3\\\\lib\\\\pdb.py'>, '__return__': None}\n",
      "(Pdb) c\n",
      "63\n"
     ]
    }
   ],
   "source": [
    "import pdb\n",
    "pdb.set_trace()\n",
    "a = 3\n",
    "b = 6\n",
    "x = a ** 2 + b ** 2 + 2 * ( a + b )\n",
    "print (x)"
   ]
  },
  {
   "cell_type": "code",
   "execution_count": 2,
   "metadata": {},
   "outputs": [],
   "source": [
    "# Complete list of modules in Python.\n",
    "# help (\"modules\")                    # This can be used in case one needs information of all Python modules\n",
    "                                      # Intentionally commented as the execution takes lot of processing time. \n",
    "\n",
    "# Following code will give us similar output as above, but few are ignored.\n",
    "# for ListModules in help(\"modules\"):    # Intentionally commented following three lines. Execution will take time.\n",
    "#     print (ListModules)\n",
    "# print (len(ListModules))"
   ]
  },
  {
   "cell_type": "code",
   "execution_count": 12,
   "metadata": {},
   "outputs": [
    {
     "name": "stdout",
     "output_type": "stream",
     "text": [
      "Variable1: 9\n",
      "Variable1 ID: 140710005547664\n",
      "Variable2: 9\n",
      "Variable2 ID: 140710005547664\n"
     ]
    }
   ],
   "source": [
    "\"\"\"\n",
    "Code displays following output:\n",
    "\n",
    "Variable1: 9\n",
    "Variable1 ID: 140710005547664\n",
    "Variable2: 9\n",
    "Variable2 ID: 140710005547664\n",
    "\"\"\"\n",
    "Variable1 = 9\n",
    "print (\"Variable1:\", Variable1)\n",
    "print (\"Variable1 ID:\", id(Variable1))\n",
    "Variable2 = 9\n",
    "print (\"Variable2:\", Variable2)\n",
    "print (\"Variable2 ID:\", id(Variable2))"
   ]
  },
  {
   "cell_type": "code",
   "execution_count": 10,
   "metadata": {},
   "outputs": [
    {
     "name": "stdout",
     "output_type": "stream",
     "text": [
      "IntegerVar1 value: 9\n",
      "IntegerVar1 ID: 140710005547664\n",
      "IntegerVar1 value: 18\n",
      "IntegerVar1 ID: 140710005547952\n"
     ]
    }
   ],
   "source": [
    "\"\"\"\n",
    "Code Displays following output:\n",
    "\n",
    "IntegerVar1 value: 9\n",
    "IntegerVar1 ID: 140710005547664\n",
    "IntegerVar1 value: 18\n",
    "IntegerVar1 ID: 140710005547952\n",
    "\"\"\"\n",
    "IntegerVar1 = 9\n",
    "print (\"IntegerVar1 value:\", IntegerVar1)\n",
    "print (\"IntegerVar1 ID:\", id(IntegerVar1))\n",
    "IntegerVar1 = 18\n",
    "print (\"IntegerVar1 value:\", IntegerVar1)\n",
    "print (\"IntegerVar1 ID:\", id(IntegerVar1))"
   ]
  },
  {
   "cell_type": "code",
   "execution_count": 13,
   "metadata": {},
   "outputs": [
    {
     "name": "stdout",
     "output_type": "stream",
     "text": [
      "StrVariable1: Amruth\n",
      "StrVariable1 ID: 2438027583856\n",
      "StrVariable2: Amruth\n",
      "StrVariable2 ID: 2438027583856\n"
     ]
    }
   ],
   "source": [
    "\"\"\"\n",
    "Code Displays following output:\n",
    "\n",
    "StrVariable1: Amruth\n",
    "StrVariable1 ID: 2438027583856\n",
    "StrVariable2: Amruth\n",
    "StrVariable2 ID: 2438027583856\n",
    "StringVar1 = 'Smaragdine'\n",
    "\"\"\"\n",
    "StrVariable1 = 'Amruth'\n",
    "print (\"StrVariable1:\", StrVariable1)\n",
    "print (\"StrVariable1 ID:\", id(StrVariable1))\n",
    "StrVariable2 = 'Amruth'\n",
    "print (\"StrVariable2:\", StrVariable2)\n",
    "print (\"StrVariable2 ID:\", id(StrVariable2))"
   ]
  },
  {
   "cell_type": "code",
   "execution_count": 9,
   "metadata": {},
   "outputs": [
    {
     "name": "stdout",
     "output_type": "stream",
     "text": [
      "StringVar1 value: Smaragdine\n",
      "StringVar1 ID: 2438010093616\n",
      "StringVar1 value: Technologies\n",
      "StringVar1 ID: 2438028623984\n"
     ]
    }
   ],
   "source": [
    "\"\"\"\n",
    "Code displays following output:\n",
    "\n",
    "StringVar1 value: Smaragdine\n",
    "StringVar1 ID: 2438010093616\n",
    "StringVar1 value: Technologies\n",
    "StringVar1 ID: 2438028623984\n",
    "\"\"\"\n",
    "StringVar1 = 'Smaragdine'\n",
    "print (\"StringVar1 value:\", StringVar1)\n",
    "print (\"StringVar1 ID:\", id(StringVar1))\n",
    "StringVar1 = 'Technologies'\n",
    "print (\"StringVar1 value:\", StringVar1)\n",
    "print (\"StringVar1 ID:\", id(StringVar1))"
   ]
  },
  {
   "cell_type": "code",
   "execution_count": 16,
   "metadata": {},
   "outputs": [
    {
     "name": "stdout",
     "output_type": "stream",
     "text": [
      "FloatVar1 value: 1.8\n",
      "FloatVar1 ID: 2438030221552\n",
      "FloatVar2 value: 1.8\n",
      "FloatVar2 ID: 2438030224112\n"
     ]
    }
   ],
   "source": [
    "\"\"\"\n",
    "Code displays following output:\n",
    "\n",
    "FloatVar1 value: 1.8\n",
    "FloatVar1 ID: 2438030221552\n",
    "FloatVar2 value: 1.8\n",
    "FloatVar2 ID: 2438030224112\n",
    "\"\"\"\n",
    "FloatVar1 = 1.8\n",
    "print (\"FloatVar1 value:\", FloatVar1)\n",
    "print (\"FloatVar1 ID:\", id(FloatVar1))\n",
    "FloatVar2 = 1.8\n",
    "print (\"FloatVar2 value:\", FloatVar2)\n",
    "print (\"FloatVar2 ID:\", id(FloatVar2))"
   ]
  },
  {
   "cell_type": "code",
   "execution_count": 8,
   "metadata": {},
   "outputs": [
    {
     "name": "stdout",
     "output_type": "stream",
     "text": [
      "FloatVariable1 value: 12.6\n",
      "FloatVariable1 ID: 2438024873200\n",
      "FloatVariable1 value: 15.3\n",
      "FloatVariable1 ID: 2438010608496\n"
     ]
    }
   ],
   "source": [
    "\"\"\"\n",
    "Code displays following output:\n",
    "\n",
    "FloatVariable1 value: 12.6\n",
    "FloatVariable1 ID: 2438024873200\n",
    "FloatVariable1 value: 15.3\n",
    "FloatVariable1 ID: 2438010608496\n",
    "\"\"\"\n",
    "FloatVariable1 = 12.6\n",
    "print (\"FloatVariable1 value:\", FloatVariable1)\n",
    "print (\"FloatVariable1 ID:\", id(FloatVariable1))\n",
    "FloatVariable1 = 15.3\n",
    "print (\"FloatVariable1 value:\", FloatVariable1)\n",
    "print (\"FloatVariable1 ID:\", id(FloatVariable1))"
   ]
  },
  {
   "cell_type": "code",
   "execution_count": 33,
   "metadata": {},
   "outputs": [
    {
     "name": "stdout",
     "output_type": "stream",
     "text": [
      "Output of 'pow (2, 10)': 1024\n",
      "Output of 'eval (\"10 ** 2\")' is : 100\n"
     ]
    }
   ],
   "source": [
    "print (\"Output of 'pow (2, 10)':\", pow (2, 10))\n",
    "print (\"Output of\", \"'\" + 'eval (\"10 ** 2\")' \"'\", \"is :\", eval (\"10 ** 2\"))"
   ]
  },
  {
   "cell_type": "code",
   "execution_count": 35,
   "metadata": {},
   "outputs": [
    {
     "name": "stdout",
     "output_type": "stream",
     "text": [
      "Type of Variable 'IntegerVar9' is: <class 'int'>\n",
      "Type of Variable 'FloatVar9' is: <class 'float'>\n",
      "Type of Variable 'StringVar9' is: <class 'str'>\n",
      "Type of Variable 'MyList9' is: <class 'list'>\n",
      "Type of Variable 'MyTuple9' is: <class 'tuple'>\n",
      "Type of Variable 'MySet9' is: <class 'set'>\n",
      "Type of Variable 'MyDict9' is: <class 'dict'>\n"
     ]
    }
   ],
   "source": [
    "# Different Data Types:\n",
    "\n",
    "IntegerVar9 = 9\n",
    "FloatVar9 = 9.9\n",
    "StringVar9 = 'Smaragdine'\n",
    "MyList9 = [3, 6, 9, 12, 15, 18]\n",
    "MyTuple9 = (3, 6, 9, 12, 15, 18)\n",
    "MySet9 = {3, 6, 9, 12, 15, 18}\n",
    "MyDict9 = {3 : \"Three\", 6 : \"Six\", 9 : \"Nine\"}\n",
    "\n",
    "print (\"Type of Variable 'IntegerVar9' is:\", type (IntegerVar9))\n",
    "print (\"Type of Variable 'FloatVar9' is:\", type (FloatVar9))\n",
    "print (\"Type of Variable 'StringVar9' is:\", type (StringVar9))\n",
    "print (\"Type of Variable 'MyList9' is:\", type (MyList9))\n",
    "print (\"Type of Variable 'MyTuple9' is:\", type (MyTuple9))\n",
    "print (\"Type of Variable 'MySet9' is:\", type (MySet9))\n",
    "print (\"Type of Variable 'MyDict9' is:\", type (MyDict9))"
   ]
  },
  {
   "cell_type": "code",
   "execution_count": 37,
   "metadata": {},
   "outputs": [
    {
     "data": {
      "text/plain": [
       "['__abs__',\n",
       " '__add__',\n",
       " '__and__',\n",
       " '__bool__',\n",
       " '__ceil__',\n",
       " '__class__',\n",
       " '__delattr__',\n",
       " '__dir__',\n",
       " '__divmod__',\n",
       " '__doc__',\n",
       " '__eq__',\n",
       " '__float__',\n",
       " '__floor__',\n",
       " '__floordiv__',\n",
       " '__format__',\n",
       " '__ge__',\n",
       " '__getattribute__',\n",
       " '__getnewargs__',\n",
       " '__gt__',\n",
       " '__hash__',\n",
       " '__index__',\n",
       " '__init__',\n",
       " '__init_subclass__',\n",
       " '__int__',\n",
       " '__invert__',\n",
       " '__le__',\n",
       " '__lshift__',\n",
       " '__lt__',\n",
       " '__mod__',\n",
       " '__mul__',\n",
       " '__ne__',\n",
       " '__neg__',\n",
       " '__new__',\n",
       " '__or__',\n",
       " '__pos__',\n",
       " '__pow__',\n",
       " '__radd__',\n",
       " '__rand__',\n",
       " '__rdivmod__',\n",
       " '__reduce__',\n",
       " '__reduce_ex__',\n",
       " '__repr__',\n",
       " '__rfloordiv__',\n",
       " '__rlshift__',\n",
       " '__rmod__',\n",
       " '__rmul__',\n",
       " '__ror__',\n",
       " '__round__',\n",
       " '__rpow__',\n",
       " '__rrshift__',\n",
       " '__rshift__',\n",
       " '__rsub__',\n",
       " '__rtruediv__',\n",
       " '__rxor__',\n",
       " '__setattr__',\n",
       " '__sizeof__',\n",
       " '__str__',\n",
       " '__sub__',\n",
       " '__subclasshook__',\n",
       " '__truediv__',\n",
       " '__trunc__',\n",
       " '__xor__',\n",
       " 'bit_length',\n",
       " 'conjugate',\n",
       " 'denominator',\n",
       " 'from_bytes',\n",
       " 'imag',\n",
       " 'numerator',\n",
       " 'real',\n",
       " 'to_bytes']"
      ]
     },
     "execution_count": 37,
     "metadata": {},
     "output_type": "execute_result"
    }
   ],
   "source": [
    "dir(int)"
   ]
  },
  {
   "cell_type": "code",
   "execution_count": 38,
   "metadata": {},
   "outputs": [
    {
     "data": {
      "text/plain": [
       "['__abs__',\n",
       " '__add__',\n",
       " '__bool__',\n",
       " '__class__',\n",
       " '__delattr__',\n",
       " '__dir__',\n",
       " '__divmod__',\n",
       " '__doc__',\n",
       " '__eq__',\n",
       " '__float__',\n",
       " '__floordiv__',\n",
       " '__format__',\n",
       " '__ge__',\n",
       " '__getattribute__',\n",
       " '__getformat__',\n",
       " '__getnewargs__',\n",
       " '__gt__',\n",
       " '__hash__',\n",
       " '__init__',\n",
       " '__init_subclass__',\n",
       " '__int__',\n",
       " '__le__',\n",
       " '__lt__',\n",
       " '__mod__',\n",
       " '__mul__',\n",
       " '__ne__',\n",
       " '__neg__',\n",
       " '__new__',\n",
       " '__pos__',\n",
       " '__pow__',\n",
       " '__radd__',\n",
       " '__rdivmod__',\n",
       " '__reduce__',\n",
       " '__reduce_ex__',\n",
       " '__repr__',\n",
       " '__rfloordiv__',\n",
       " '__rmod__',\n",
       " '__rmul__',\n",
       " '__round__',\n",
       " '__rpow__',\n",
       " '__rsub__',\n",
       " '__rtruediv__',\n",
       " '__set_format__',\n",
       " '__setattr__',\n",
       " '__sizeof__',\n",
       " '__str__',\n",
       " '__sub__',\n",
       " '__subclasshook__',\n",
       " '__truediv__',\n",
       " '__trunc__',\n",
       " 'as_integer_ratio',\n",
       " 'conjugate',\n",
       " 'fromhex',\n",
       " 'hex',\n",
       " 'imag',\n",
       " 'is_integer',\n",
       " 'real']"
      ]
     },
     "execution_count": 38,
     "metadata": {},
     "output_type": "execute_result"
    }
   ],
   "source": [
    "dir (float)"
   ]
  },
  {
   "cell_type": "code",
   "execution_count": 40,
   "metadata": {},
   "outputs": [
    {
     "data": {
      "text/plain": [
       "['__add__',\n",
       " '__class__',\n",
       " '__contains__',\n",
       " '__delattr__',\n",
       " '__dir__',\n",
       " '__doc__',\n",
       " '__eq__',\n",
       " '__format__',\n",
       " '__ge__',\n",
       " '__getattribute__',\n",
       " '__getitem__',\n",
       " '__getnewargs__',\n",
       " '__gt__',\n",
       " '__hash__',\n",
       " '__init__',\n",
       " '__init_subclass__',\n",
       " '__iter__',\n",
       " '__le__',\n",
       " '__len__',\n",
       " '__lt__',\n",
       " '__mod__',\n",
       " '__mul__',\n",
       " '__ne__',\n",
       " '__new__',\n",
       " '__reduce__',\n",
       " '__reduce_ex__',\n",
       " '__repr__',\n",
       " '__rmod__',\n",
       " '__rmul__',\n",
       " '__setattr__',\n",
       " '__sizeof__',\n",
       " '__str__',\n",
       " '__subclasshook__',\n",
       " 'capitalize',\n",
       " 'casefold',\n",
       " 'center',\n",
       " 'count',\n",
       " 'encode',\n",
       " 'endswith',\n",
       " 'expandtabs',\n",
       " 'find',\n",
       " 'format',\n",
       " 'format_map',\n",
       " 'index',\n",
       " 'isalnum',\n",
       " 'isalpha',\n",
       " 'isascii',\n",
       " 'isdecimal',\n",
       " 'isdigit',\n",
       " 'isidentifier',\n",
       " 'islower',\n",
       " 'isnumeric',\n",
       " 'isprintable',\n",
       " 'isspace',\n",
       " 'istitle',\n",
       " 'isupper',\n",
       " 'join',\n",
       " 'ljust',\n",
       " 'lower',\n",
       " 'lstrip',\n",
       " 'maketrans',\n",
       " 'partition',\n",
       " 'replace',\n",
       " 'rfind',\n",
       " 'rindex',\n",
       " 'rjust',\n",
       " 'rpartition',\n",
       " 'rsplit',\n",
       " 'rstrip',\n",
       " 'split',\n",
       " 'splitlines',\n",
       " 'startswith',\n",
       " 'strip',\n",
       " 'swapcase',\n",
       " 'title',\n",
       " 'translate',\n",
       " 'upper',\n",
       " 'zfill']"
      ]
     },
     "execution_count": 40,
     "metadata": {},
     "output_type": "execute_result"
    }
   ],
   "source": [
    "dir(str)"
   ]
  },
  {
   "cell_type": "code",
   "execution_count": 41,
   "metadata": {},
   "outputs": [
    {
     "data": {
      "text/plain": [
       "['__add__',\n",
       " '__class__',\n",
       " '__contains__',\n",
       " '__delattr__',\n",
       " '__delitem__',\n",
       " '__dir__',\n",
       " '__doc__',\n",
       " '__eq__',\n",
       " '__format__',\n",
       " '__ge__',\n",
       " '__getattribute__',\n",
       " '__getitem__',\n",
       " '__gt__',\n",
       " '__hash__',\n",
       " '__iadd__',\n",
       " '__imul__',\n",
       " '__init__',\n",
       " '__init_subclass__',\n",
       " '__iter__',\n",
       " '__le__',\n",
       " '__len__',\n",
       " '__lt__',\n",
       " '__mul__',\n",
       " '__ne__',\n",
       " '__new__',\n",
       " '__reduce__',\n",
       " '__reduce_ex__',\n",
       " '__repr__',\n",
       " '__reversed__',\n",
       " '__rmul__',\n",
       " '__setattr__',\n",
       " '__setitem__',\n",
       " '__sizeof__',\n",
       " '__str__',\n",
       " '__subclasshook__',\n",
       " 'append',\n",
       " 'clear',\n",
       " 'copy',\n",
       " 'count',\n",
       " 'extend',\n",
       " 'index',\n",
       " 'insert',\n",
       " 'pop',\n",
       " 'remove',\n",
       " 'reverse',\n",
       " 'sort']"
      ]
     },
     "execution_count": 41,
     "metadata": {},
     "output_type": "execute_result"
    }
   ],
   "source": [
    "dir (list)"
   ]
  },
  {
   "cell_type": "code",
   "execution_count": 42,
   "metadata": {},
   "outputs": [
    {
     "data": {
      "text/plain": [
       "['__add__',\n",
       " '__class__',\n",
       " '__contains__',\n",
       " '__delattr__',\n",
       " '__dir__',\n",
       " '__doc__',\n",
       " '__eq__',\n",
       " '__format__',\n",
       " '__ge__',\n",
       " '__getattribute__',\n",
       " '__getitem__',\n",
       " '__getnewargs__',\n",
       " '__gt__',\n",
       " '__hash__',\n",
       " '__init__',\n",
       " '__init_subclass__',\n",
       " '__iter__',\n",
       " '__le__',\n",
       " '__len__',\n",
       " '__lt__',\n",
       " '__mul__',\n",
       " '__ne__',\n",
       " '__new__',\n",
       " '__reduce__',\n",
       " '__reduce_ex__',\n",
       " '__repr__',\n",
       " '__rmul__',\n",
       " '__setattr__',\n",
       " '__sizeof__',\n",
       " '__str__',\n",
       " '__subclasshook__',\n",
       " 'count',\n",
       " 'index']"
      ]
     },
     "execution_count": 42,
     "metadata": {},
     "output_type": "execute_result"
    }
   ],
   "source": [
    "dir (tuple)"
   ]
  },
  {
   "cell_type": "code",
   "execution_count": 44,
   "metadata": {},
   "outputs": [
    {
     "data": {
      "text/plain": [
       "['__and__',\n",
       " '__class__',\n",
       " '__contains__',\n",
       " '__delattr__',\n",
       " '__dir__',\n",
       " '__doc__',\n",
       " '__eq__',\n",
       " '__format__',\n",
       " '__ge__',\n",
       " '__getattribute__',\n",
       " '__gt__',\n",
       " '__hash__',\n",
       " '__iand__',\n",
       " '__init__',\n",
       " '__init_subclass__',\n",
       " '__ior__',\n",
       " '__isub__',\n",
       " '__iter__',\n",
       " '__ixor__',\n",
       " '__le__',\n",
       " '__len__',\n",
       " '__lt__',\n",
       " '__ne__',\n",
       " '__new__',\n",
       " '__or__',\n",
       " '__rand__',\n",
       " '__reduce__',\n",
       " '__reduce_ex__',\n",
       " '__repr__',\n",
       " '__ror__',\n",
       " '__rsub__',\n",
       " '__rxor__',\n",
       " '__setattr__',\n",
       " '__sizeof__',\n",
       " '__str__',\n",
       " '__sub__',\n",
       " '__subclasshook__',\n",
       " '__xor__',\n",
       " 'add',\n",
       " 'clear',\n",
       " 'copy',\n",
       " 'difference',\n",
       " 'difference_update',\n",
       " 'discard',\n",
       " 'intersection',\n",
       " 'intersection_update',\n",
       " 'isdisjoint',\n",
       " 'issubset',\n",
       " 'issuperset',\n",
       " 'pop',\n",
       " 'remove',\n",
       " 'symmetric_difference',\n",
       " 'symmetric_difference_update',\n",
       " 'union',\n",
       " 'update']"
      ]
     },
     "execution_count": 44,
     "metadata": {},
     "output_type": "execute_result"
    }
   ],
   "source": [
    "dir (set)"
   ]
  },
  {
   "cell_type": "code",
   "execution_count": 45,
   "metadata": {},
   "outputs": [
    {
     "data": {
      "text/plain": [
       "['__class__',\n",
       " '__contains__',\n",
       " '__delattr__',\n",
       " '__delitem__',\n",
       " '__dir__',\n",
       " '__doc__',\n",
       " '__eq__',\n",
       " '__format__',\n",
       " '__ge__',\n",
       " '__getattribute__',\n",
       " '__getitem__',\n",
       " '__gt__',\n",
       " '__hash__',\n",
       " '__init__',\n",
       " '__init_subclass__',\n",
       " '__iter__',\n",
       " '__le__',\n",
       " '__len__',\n",
       " '__lt__',\n",
       " '__ne__',\n",
       " '__new__',\n",
       " '__reduce__',\n",
       " '__reduce_ex__',\n",
       " '__repr__',\n",
       " '__setattr__',\n",
       " '__setitem__',\n",
       " '__sizeof__',\n",
       " '__str__',\n",
       " '__subclasshook__',\n",
       " 'clear',\n",
       " 'copy',\n",
       " 'fromkeys',\n",
       " 'get',\n",
       " 'items',\n",
       " 'keys',\n",
       " 'pop',\n",
       " 'popitem',\n",
       " 'setdefault',\n",
       " 'update',\n",
       " 'values']"
      ]
     },
     "execution_count": 45,
     "metadata": {},
     "output_type": "execute_result"
    }
   ],
   "source": [
    "dir (dict)"
   ]
  }
 ],
 "metadata": {
  "kernelspec": {
   "display_name": "Python 3",
   "language": "python",
   "name": "python3"
  },
  "language_info": {
   "codemirror_mode": {
    "name": "ipython",
    "version": 3
   },
   "file_extension": ".py",
   "mimetype": "text/x-python",
   "name": "python",
   "nbconvert_exporter": "python",
   "pygments_lexer": "ipython3",
   "version": "3.7.6"
  }
 },
 "nbformat": 4,
 "nbformat_minor": 4
}
