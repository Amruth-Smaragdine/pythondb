{
 "cells": [
  {
   "cell_type": "code",
   "execution_count": 22,
   "metadata": {},
   "outputs": [
    {
     "data": {
      "application/javascript": [
       "IPython.notebook.set_autosave_interval(30000)"
      ]
     },
     "metadata": {},
     "output_type": "display_data"
    },
    {
     "name": "stdout",
     "output_type": "stream",
     "text": [
      "Autosaving every 30 seconds\n"
     ]
    }
   ],
   "source": [
    "%autosave 30"
   ]
  },
  {
   "cell_type": "code",
   "execution_count": 7,
   "metadata": {},
   "outputs": [
    {
     "name": "stdout",
     "output_type": "stream",
     "text": [
      "[1, 2, 3]\n",
      "[[1, 2, 3]]\n",
      "[4, 5, 6]\n",
      "[[1, 2, 3], [4, 5, 6]]\n",
      "[7, 8, 9]\n",
      "[[1, 2, 3], [4, 5, 6], [7, 8, 9]]\n"
     ]
    }
   ],
   "source": [
    "myList1 = [1, 2, 3, 4, 5, 6, 7, 8, 9]\n",
    "myList2 = []\n",
    "myList3 = []\n",
    "\n",
    "myList2.append(myList1[0])\n",
    "myList2.append(myList1[1])\n",
    "myList2.append(myList1[2])\n",
    "print (myList2)\n",
    "myList3.append(myList2)\n",
    "print (myList3)\n",
    "\n",
    "myList2 = []\n",
    "\n",
    "myList2.append(myList1[3])\n",
    "myList2.append(myList1[4])\n",
    "myList2.append(myList1[5])\n",
    "print (myList2)\n",
    "myList3.append(myList2)\n",
    "print (myList3)\n",
    "\n",
    "myList2 = []\n",
    "\n",
    "myList2.append(myList1[6])\n",
    "myList2.append(myList1[7])\n",
    "myList2.append(myList1[8])\n",
    "print (myList2)\n",
    "myList3.append(myList2)\n",
    "print (myList3)\n"
   ]
  },
  {
   "cell_type": "code",
   "execution_count": 21,
   "metadata": {},
   "outputs": [
    {
     "name": "stdout",
     "output_type": "stream",
     "text": [
      "[[1, 2, 3]]\n",
      "[[1, 2, 3], [4, 5, 6]]\n",
      "[[1, 2, 3], [4, 5, 6], [7, 8, 9]]\n"
     ]
    }
   ],
   "source": [
    "myList1 = [1, 2, 3, 4, 5, 6, 7, 8, 9]\n",
    "myList2 = []\n",
    "myList3 = []\n",
    "\n",
    "for i in range (0, 3):\n",
    "    myList2.append(myList1[i])\n",
    "myList3.append(myList2)\n",
    "print (myList3)\n",
    "myList2 = []\n",
    "\n",
    "for i in range (3, 6):\n",
    "    myList2.append(myList1[i])\n",
    "myList3.append(myList2)\n",
    "print (myList3)\n",
    "myList2 = []\n",
    "\n",
    "for i in range (6, 9):\n",
    "    myList2.append(myList1[i])\n",
    "myList3.append(myList2)\n",
    "print (myList3)\n",
    "myList2 = []\n"
   ]
  }
 ],
 "metadata": {
  "kernelspec": {
   "display_name": "Python 3",
   "language": "python",
   "name": "python3"
  },
  "language_info": {
   "codemirror_mode": {
    "name": "ipython",
    "version": 3
   },
   "file_extension": ".py",
   "mimetype": "text/x-python",
   "name": "python",
   "nbconvert_exporter": "python",
   "pygments_lexer": "ipython3",
   "version": "3.7.6"
  }
 },
 "nbformat": 4,
 "nbformat_minor": 4
}
