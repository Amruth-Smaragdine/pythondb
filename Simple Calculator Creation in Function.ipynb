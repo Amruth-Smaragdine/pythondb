{
 "cells": [
  {
   "cell_type": "code",
   "execution_count": 7,
   "metadata": {},
   "outputs": [
    {
     "name": "stdout",
     "output_type": "stream",
     "text": [
      "Creation of Simple Calculator\n",
      "Select Option\n",
      "1. Addition\n",
      "2. Subtraction\n",
      "3. Multiplication\n",
      "4. Division\n",
      "Choice of the Function for calculation 1 / 2 / 3 / 4 : 4\n",
      "Enter First Number  : 3\n",
      "Enter Second Number : 4\n",
      "Division of 3 and 4 is 0.75\n"
     ]
    }
   ],
   "source": [
    "## Python program to make a simple calculator that can add, subtract, multiply and division\n",
    "print(\"Creation of Simple Calculator\")\n",
    "def Addition(a,b):\n",
    "    \"\"\"\n",
    "    This Function adds 2 numbers\n",
    "    \"\"\"\n",
    "    return a + b\n",
    "\n",
    "def Subtraction(a,b):\n",
    "    \"\"\"\n",
    "    This Function subtarcts 2 numbers\n",
    "    \"\"\"\n",
    "    return a - b\n",
    "\n",
    "def Multiplication(a,b):\n",
    "    \"\"\"\n",
    "    This Function mulitplys 2 numbers\n",
    "    \"\"\"\n",
    "    return a * b\n",
    "\n",
    "def Division(a,b):\n",
    "    \"\"\"\n",
    "    This Function division 2 numbers\n",
    "    \"\"\"\n",
    "    return a / b\n",
    "\n",
    "print(\"Select Option\")\n",
    "print(\"1. Addition\")\n",
    "print (\"2. Subtraction\")\n",
    "print (\"3. Multiplication\")\n",
    "print (\"4. Division\")\n",
    "\n",
    "choice = int(input(\"Choice of the Function for calculation 1 / 2 / 3 / 4 : \"))\n",
    "\n",
    "if choice not in range(1, 5):\n",
    "    print(\"Invalid Choice\")\n",
    "else:\n",
    "    num1 = int(input(\"Enter First Number  : \"))\n",
    "    num2 = int(input(\"Enter Second Number : \"))\n",
    "    if choice == 1:\n",
    "        print(\"Addition of {} and {} is {}\".format(num1, num2, Addition(num1, num2)))\n",
    "    elif choice == 2:\n",
    "        print(\"Subtraction of {} and {} is {}\".format(num1, num2, Subtraction(num1, num2)))\n",
    "    elif choice == 3:\n",
    "        print(\"Multiplication of {} and {} is {}\".format(num1, num2, Multiplication(num1, num2)))\n",
    "    elif choice == 4:\n",
    "        print(\"Division of {} and {} is {}\".format(num1, num2, Division(num1, num2)))"
   ]
  }
 ],
 "metadata": {
  "kernelspec": {
   "display_name": "Python 3",
   "language": "python",
   "name": "python3"
  },
  "language_info": {
   "codemirror_mode": {
    "name": "ipython",
    "version": 3
   },
   "file_extension": ".py",
   "mimetype": "text/x-python",
   "name": "python",
   "nbconvert_exporter": "python",
   "pygments_lexer": "ipython3",
   "version": "3.7.6"
  }
 },
 "nbformat": 4,
 "nbformat_minor": 4
}
