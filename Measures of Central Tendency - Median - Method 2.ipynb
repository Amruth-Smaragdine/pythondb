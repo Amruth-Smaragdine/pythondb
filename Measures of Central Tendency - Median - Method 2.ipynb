{
 "cells": [
  {
   "cell_type": "code",
   "execution_count": 1,
   "metadata": {},
   "outputs": [
    {
     "data": {
      "application/javascript": [
       "IPython.notebook.set_autosave_interval(180000)"
      ]
     },
     "metadata": {},
     "output_type": "display_data"
    },
    {
     "name": "stdout",
     "output_type": "stream",
     "text": [
      "Autosaving every 180 seconds\n"
     ]
    }
   ],
   "source": [
    "%autosave 180"
   ]
  },
  {
   "cell_type": "code",
   "execution_count": 54,
   "metadata": {},
   "outputs": [
    {
     "name": "stdout",
     "output_type": "stream",
     "text": [
      "Enter Number of random values you would want to populate in a 'List': 11\n",
      "Here is the list of '11' random numbers generated '[35, 35, 38, 44, 45, 46, 58, 61, 62, 65, 65]'\n",
      "Median of values in the list '[35, 35, 38, 44, 45, 46, 58, 61, 62, 65, 65]' is '46'\n"
     ]
    }
   ],
   "source": [
    "\"\"\"\n",
    "The following code snippet will allow user to enter number of random integers (elements) he/she wishes to generate\n",
    "Further to the input, code automatically generates requested number of random integers.\n",
    "Depending on the total number of elements in the list as 'odd' (or) even, the code also helps user to calculate 'Median'\n",
    "\"\"\"\n",
    "\n",
    "import random\n",
    "inputVal = input (\"Enter Number of random values you would want to populate in a 'List': \")\n",
    "myList = []\n",
    "for i in range (1, int(inputVal)+1):\n",
    "    rri = random.randint(33, 66)\n",
    "    myList.append(rri)\n",
    "myList.sort()\n",
    "if int(inputVal) == 0 or int(inputVal) == 1:\n",
    "    print (\"Error !!! - Insufficient number of elements entered.\")\n",
    "else: \n",
    "    print (\"Here is the list of '{}' random numbers generated '{}'\".format(inputVal, myList))\n",
    "    \n",
    "if len(myList)%2 == 0:\n",
    "    print (myList[int(len(myList)/2) - 1], myList[int(len(myList)/2)])\n",
    "    Median = (myList[int(len(myList)/2) - 1] + myList[int(len(myList)/2)])/2\n",
    "    print (\"Median of values in the list '{}' is '{}'\".format(myList, Median))\n",
    "else: \n",
    "    print (\"Median of values in the list '{}' is '{}'\".format(myList, myList[int(len(myList)/2)]))"
   ]
  },
  {
   "cell_type": "code",
   "execution_count": 38,
   "metadata": {
    "scrolled": true
   },
   "outputs": [
    {
     "name": "stdout",
     "output_type": "stream",
     "text": [
      "Enter a Value:1\n",
      "Error!!! - Enter a Valid number\n"
     ]
    }
   ],
   "source": [
    "myVal = input (\"Enter a Value:\")\n",
    "if myVal != 0 or myVal != 1:\n",
    "    print (\"Error!!! - Enter a Valid number\")\n",
    "else:\n",
    "    print (\"You have entered a value {}\".format(myVal))"
   ]
  },
  {
   "cell_type": "code",
   "execution_count": 70,
   "metadata": {},
   "outputs": [
    {
     "name": "stdout",
     "output_type": "stream",
     "text": [
      "Enter Number of random values you would want to populate in a 'List': 11\n",
      "Median of values in the list '[37, 38, 41, 41, 42, 44, 49, 50, 51, 54, 61]' is '44'\n"
     ]
    }
   ],
   "source": [
    "\"\"\"\n",
    "Measures of Central Tendency 'Median' - Method 2\n",
    "The following code snippet will allow user to enter number of random integers (elements) he/she wishes to generate\n",
    "Further to the value entered by the use, code automatically generates requested number of random integers.\n",
    "Depending on the total number of elements in the list as 'odd' (or) even, the code also helps user to calculate 'Median'\n",
    "\"\"\"\n",
    "\n",
    "import random\n",
    "inputVal = input (\"Enter Number of random values you would want to populate in a 'List': \")\n",
    "myList = []\n",
    "for i in range (1, int(inputVal)+1):\n",
    "    rri = random.randint(33, 66)\n",
    "    myList.append(rri)\n",
    "myList.sort()\n",
    "if int(inputVal) == 1:\n",
    "    print (\"Error !!! - Insufficient number of elements entered.\")\n",
    "elif int(inputVal) == 0:\n",
    "    print (\" Error !!! - '{}' is an Invalid Entry\\n\".format(inputVal),\"A 'Blank List' creation is not expected\")\n",
    "else: \n",
    "    if len(myList)%2 == 0:\n",
    "        Median = (myList[int(len(myList)/2) - 1] + myList[int(len(myList)/2)])/2\n",
    "        print (\"Median of values in the list '{}' is '{}'\".format(myList, Median))\n",
    "    else: \n",
    "        print (\"Median of values in the list '{}' is '{}'\".format(myList, myList[int(len(myList)/2)]))"
   ]
  }
 ],
 "metadata": {
  "kernelspec": {
   "display_name": "Python 3",
   "language": "python",
   "name": "python3"
  },
  "language_info": {
   "codemirror_mode": {
    "name": "ipython",
    "version": 3
   },
   "file_extension": ".py",
   "mimetype": "text/x-python",
   "name": "python",
   "nbconvert_exporter": "python",
   "pygments_lexer": "ipython3",
   "version": "3.7.6"
  }
 },
 "nbformat": 4,
 "nbformat_minor": 4
}
