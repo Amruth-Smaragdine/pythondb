{
 "cells": [
  {
   "cell_type": "code",
   "execution_count": 1,
   "metadata": {},
   "outputs": [
    {
     "data": {
      "application/javascript": [
       "IPython.notebook.set_autosave_interval(30000)"
      ]
     },
     "metadata": {},
     "output_type": "display_data"
    },
    {
     "name": "stdout",
     "output_type": "stream",
     "text": [
      "Autosaving every 30 seconds\n"
     ]
    }
   ],
   "source": [
    "%autosave 30"
   ]
  },
  {
   "cell_type": "code",
   "execution_count": null,
   "metadata": {},
   "outputs": [],
   "source": [
    "# Code to extract employee data from MS Excel sheet using XLRD package\n",
    "# User Inputs the Employee ID & code fetches the field.\n",
    "\n",
    "import xlrd\n",
    "import time\n",
    "startTime = time.time()\n",
    "try:\n",
    "    wb = xlrd.open_workbook(\"01-EmployeeData.xlsx\")\n",
    "    ws = wb.sheet_by_index(0)\n",
    "    myList1 = []\n",
    "    myList2 = []\n",
    "    for j in range (0, ws.nrows):\n",
    "        for i in range (0, ws.ncols):\n",
    "            if ws.cell_value(j, i) == '' or ws.cell_value(j, i) == '--':\n",
    "                myList1.append(\"NO VALID DATA\")\n",
    "            else:\n",
    "                myList1.append(ws.cell_value(j, i))\n",
    "        myList2.append(myList1)\n",
    "        myList1 = []\n",
    "    \n",
    "# Search for Employee ID\n",
    "    myList3 = []\n",
    "    mySet = set()\n",
    "    UIEmpID = input(\"Please enter the Employee ID:\")\n",
    "    for i in range (0, ws.nrows):\n",
    "        for j in range (0, ws.ncols):\n",
    "            if myList2[i][j] == int(UIEmpID):\n",
    "                myList3.append(myList2[i])\n",
    "    if (myList3):\n",
    "        print (myList3)\n",
    "    else:\n",
    "        print (\"Employee ID Not found\")\n",
    "except FileNotFoundError:\n",
    "    print (\"Error: FILE NOT FOUND\")\n",
    "endTime = time.time()\n",
    "print (\"Time taken to execute the code: {} Seconds\".format(endTime-startTime))"
   ]
  }
 ],
 "metadata": {
  "kernelspec": {
   "display_name": "Python 3",
   "language": "python",
   "name": "python3"
  },
  "language_info": {
   "codemirror_mode": {
    "name": "ipython",
    "version": 3
   },
   "file_extension": ".py",
   "mimetype": "text/x-python",
   "name": "python",
   "nbconvert_exporter": "python",
   "pygments_lexer": "ipython3",
   "version": "3.7.6"
  }
 },
 "nbformat": 4,
 "nbformat_minor": 4
}
