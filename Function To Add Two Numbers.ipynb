{
 "cells": [
  {
   "cell_type": "code",
   "execution_count": 5,
   "metadata": {},
   "outputs": [
    {
     "name": "stdout",
     "output_type": "stream",
     "text": [
      "The sum of two numbers 2 and 3 is 5\n",
      "\n",
      "    This is a funciton that will help us add two numbers\n",
      "    \n"
     ]
    }
   ],
   "source": [
    "# Code snippet to explain docstring.\n",
    "def add2nums(a,b):\n",
    "    \"\"\"\n",
    "    This is a funciton that will help us add two numbers\n",
    "    \"\"\"\n",
    "    c = a+b\n",
    "    print (\"The sum of two numbers {} and {} is {}\".format(a, b, c))\n",
    "add2nums(2,3)\n",
    "print (add2nums.__doc__)"
   ]
  }
 ],
 "metadata": {
  "kernelspec": {
   "display_name": "Python 3",
   "language": "python",
   "name": "python3"
  },
  "language_info": {
   "codemirror_mode": {
    "name": "ipython",
    "version": 3
   },
   "file_extension": ".py",
   "mimetype": "text/x-python",
   "name": "python",
   "nbconvert_exporter": "python",
   "pygments_lexer": "ipython3",
   "version": "3.7.6"
  }
 },
 "nbformat": 4,
 "nbformat_minor": 4
}
