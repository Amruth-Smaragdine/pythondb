{
 "cells": [
  {
   "cell_type": "code",
   "execution_count": 4,
   "metadata": {},
   "outputs": [
    {
     "data": {
      "application/javascript": [
       "IPython.notebook.set_autosave_interval(180000)"
      ]
     },
     "metadata": {},
     "output_type": "display_data"
    },
    {
     "name": "stdout",
     "output_type": "stream",
     "text": [
      "Autosaving every 180 seconds\n"
     ]
    }
   ],
   "source": [
    "%autosave 180"
   ]
  },
  {
   "cell_type": "code",
   "execution_count": 2,
   "metadata": {},
   "outputs": [
    {
     "name": "stdout",
     "output_type": "stream",
     "text": [
      "Enter the number of values for which 'Mean' needs to be calculated:5\n",
      "5\n",
      "Enter Value number 1: 1\n",
      "Enter Value number 2: 2\n",
      "Enter Value number 3: 3\n",
      "Enter Value number 4: 4\n",
      "Enter Value number 5: 5\n",
      "['1', '2', '3', '4', '5']\n",
      "Mean of values for values entered: ['1', '2', '3', '4', '5'] is: 3.0\n"
     ]
    }
   ],
   "source": [
    "# Following code snippet will collect information from end user of number of values he/she wishes to input\n",
    "# Furthermore, the code will collect individual values for which 'Mean' to be calculated\n",
    "# On completion of data entry by end user, the program displays the 'Mean' along with the numbers entered by him/her\n",
    "x = input(\"Enter the number of values for which 'Mean' needs to be calculated:\")\n",
    "print (x)\n",
    "myList = []\n",
    "sumElements = 0\n",
    "for i in range (0, int(x)):\n",
    "    y = input(\"Enter Value number {}: \".format(i+1))\n",
    "    myList.append(y)\n",
    "    sumElements += int(y)\n",
    "print (myList)\n",
    "print (\"Mean of values for values entered: {} is:\".format(myList), (sumElements/len(myList)))"
   ]
  },
  {
   "cell_type": "code",
   "execution_count": 36,
   "metadata": {},
   "outputs": [
    {
     "name": "stdout",
     "output_type": "stream",
     "text": [
      "Mean of elements in list [11, 4, 5, 2, 17, 19, 3, 20, 30, 21] is: 13.2\n"
     ]
    }
   ],
   "source": [
    "# Code snippet to generate a list with random numbers\n",
    "import random                           # Importing package 'random'\n",
    "myList = []\n",
    "sumElements = 0\n",
    "for i in range (0, 10):\n",
    "    n = random.randint(1,30)            # Generates a random number in range 1 to 30 \n",
    "    myList.append(n)\n",
    "    sumElements += int(n)\n",
    "# print (myList, sumElements)           # Intermediate print statement to check values\n",
    "print (\"Mean of elements in list {} is: {}\".format(myList, sumElements/len(myList)))"
   ]
  }
 ],
 "metadata": {
  "kernelspec": {
   "display_name": "Python 3",
   "language": "python",
   "name": "python3"
  },
  "language_info": {
   "codemirror_mode": {
    "name": "ipython",
    "version": 3
   },
   "file_extension": ".py",
   "mimetype": "text/x-python",
   "name": "python",
   "nbconvert_exporter": "python",
   "pygments_lexer": "ipython3",
   "version": "3.7.6"
  }
 },
 "nbformat": 4,
 "nbformat_minor": 4
}
