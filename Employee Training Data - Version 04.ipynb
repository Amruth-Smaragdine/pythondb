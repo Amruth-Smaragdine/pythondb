{
 "cells": [
  {
   "cell_type": "code",
   "execution_count": 1,
   "metadata": {},
   "outputs": [
    {
     "data": {
      "application/javascript": [
       "IPython.notebook.set_autosave_interval(30000)"
      ]
     },
     "metadata": {},
     "output_type": "display_data"
    },
    {
     "name": "stdout",
     "output_type": "stream",
     "text": [
      "Autosaving every 30 seconds\n"
     ]
    }
   ],
   "source": [
    "%autosave 30"
   ]
  },
  {
   "cell_type": "code",
   "execution_count": 12,
   "metadata": {},
   "outputs": [
    {
     "name": "stdout",
     "output_type": "stream",
     "text": [
      "143184\n",
      "Kamelia Sinha\n",
      "July\n",
      "November\n",
      "October\n",
      "<class 'dict'>\n",
      "{'Employee ID': '143184', 'Name': 'Kamelia Sinha', 'Angular 6': 'INVALID', 'Angular 7': 'INVALID', 'Angular 8': 'July', 'jQuery': 'INVALID', 'TypeScript': 'INVALID', 'Node JS': 'November', 'React JS': 'October'}\n"
     ]
    }
   ],
   "source": [
    "EmpIDH = 'Employee ID'\n",
    "NameH = 'Name'\n",
    "Ang6H = 'Angular 6'\n",
    "Ang7H = 'Angular 7'\n",
    "Ang8H = 'Angular 8'\n",
    "JQueryH = 'jQuery'\n",
    "TSH = 'TypeScript'\n",
    "NJSH = 'Node JS'\n",
    "RJSH = 'React JS'\n",
    "\n",
    "myListData = ['143184', 'Kamelia Sinha', 'INVALID', 'INVALID', 'July', 'INVALID', 'INVALID', 'November', 'October']\n",
    "for eachElement in myListData:\n",
    "    if (eachElement != 'INVALID'):\n",
    "        print (eachElement)\n",
    "\n",
    "myDictData = {EmpIDH:myListData[0], NameH:myListData[1], Ang6H:myListData[2], Ang7H:myListData[3], \\\n",
    "              Ang8H:myListData[4], JQueryH:myListData[5], TSH:myListData[6], NJSH:myListData[7], RJSH:myListData[8]}\n",
    "print (type(myDictData))\n",
    "print (myDictData)\n",
    "# print (myDictData('Employee ID'))\n"
   ]
  },
  {
   "cell_type": "code",
   "execution_count": null,
   "metadata": {},
   "outputs": [],
   "source": []
  }
 ],
 "metadata": {
  "kernelspec": {
   "display_name": "Python 3",
   "language": "python",
   "name": "python3"
  },
  "language_info": {
   "codemirror_mode": {
    "name": "ipython",
    "version": 3
   },
   "file_extension": ".py",
   "mimetype": "text/x-python",
   "name": "python",
   "nbconvert_exporter": "python",
   "pygments_lexer": "ipython3",
   "version": "3.7.6"
  }
 },
 "nbformat": 4,
 "nbformat_minor": 4
}
