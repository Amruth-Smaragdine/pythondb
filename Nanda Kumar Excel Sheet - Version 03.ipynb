{
 "cells": [
  {
   "cell_type": "code",
   "execution_count": 11,
   "metadata": {},
   "outputs": [
    {
     "data": {
      "application/javascript": [
       "IPython.notebook.set_autosave_interval(30000)"
      ]
     },
     "metadata": {},
     "output_type": "display_data"
    },
    {
     "name": "stdout",
     "output_type": "stream",
     "text": [
      "Autosaving every 30 seconds\n"
     ]
    }
   ],
   "source": [
    "%autosave 30"
   ]
  },
  {
   "cell_type": "code",
   "execution_count": 4,
   "metadata": {},
   "outputs": [
    {
     "name": "stdout",
     "output_type": "stream",
     "text": [
      "[['ID0001', 159492.0, 'Aarohi Mondkar', 'emp_name@mail.com1', 'B', 'Mumbai', 'No', 43346.0, 'NO VALID DATA', 'Front end UX/UI', 'WEBUI', 'Angular', 'MEAN', 'Noshir Aspi Patel', 'PID0001', 'PN001', 'PM001', 'AC001', 43966.0, 44012.0, 43966.0, 44012.0, 43983.0, 44012.0, 22.0, 22.0, 22.0, 22.0, 22.0, 1.0, 1.0, 1.0, 'Bench', 'DCX', 'INDIA', 'IN', 'INA8', 'SEZ', 'Standard', 'NO VALID DATA', 'No', 'NO VALID DATA', 'CSS', 'NO VALID DATA']]\n",
      "Time taken to execute the code: 12.849655866622925 Seconds\n"
     ]
    }
   ],
   "source": [
    "# Code to extract employee data from MS Excel sheet using XLRD package - Iteration 07\n",
    "import xlrd\n",
    "import time\n",
    "startTime = time.time()\n",
    "try:\n",
    "    wb = xlrd.open_workbook(\"01-EmployeeData.xlsx\")\n",
    "#    wb = xlrd.open_workbook(\"01-EmployeeData-Sample.xlsx\")\n",
    "    ws = wb.sheet_by_index(0)\n",
    "    myList1 = []\n",
    "    myList2 = []\n",
    "    for j in range (0, ws.nrows):\n",
    "        for i in range (0, ws.ncols):\n",
    "            if ws.cell_value(j, i) == '' or ws.cell_value(j, i) == '--':\n",
    "                myList1.append(\"NO VALID DATA\")\n",
    "            else:\n",
    "                myList1.append(ws.cell_value(j, i))\n",
    "        myList2.append(myList1)\n",
    "        myList1 = []\n",
    "    # Code to Search employee ID\n",
    "    myList3 = []\n",
    "    mySet = set()\n",
    "    varImp = 0\n",
    "    for i in range (0, ws.nrows):\n",
    "        for j in range (0, ws.ncols):\n",
    "            if myList2[i][j] == 159492:\n",
    "                myList3.append(myList2[i])\n",
    "\n",
    "    if (myList3):\n",
    "        print (myList3)\n",
    "    else:\n",
    "        print (\"Employee ID Not found\")\n",
    "except FileNotFoundError:\n",
    "    print (\"Error: FILE NOT FOUND\")\n",
    "endTime = time.time()\n",
    "print (\"Time taken to execute the code: {} Seconds\".format(endTime-startTime))"
   ]
  },
  {
   "cell_type": "code",
   "execution_count": 6,
   "metadata": {},
   "outputs": [
    {
     "name": "stdout",
     "output_type": "stream",
     "text": [
      "[['ID0289', 115175.0, 'Yatheesh Valakadama', 'emp_name@mail.com289', 'C', 'Bangalore', 'No', 42644.0, 'NO VALID DATA', 'Front end UX/UI', 'WEBUI', 'Angular', 'MEAN', 'Mathew Easow Jacob', 'PID0289', 'PN289', 'PM289', 'AC289', 43986.333333333336, 44134.708333333336, 43986.0, 44134.0, 43986.0, 44012.0, 19.0, 19.0, 21.0, 22.0, 22.0, 0.8636363636363636, 0.8636363636363636, 0.8636363636363636, 'Billable', 'DCX', 'INDIA', 'IN', 'IN71', 'Non-SEZ', 'Standard', 'NO VALID DATA', 'No', 'Internal', 'CSS', 'NO VALID DATA']]\n",
      "Time taken to execute the code: 12.39591646194458 Seconds\n"
     ]
    }
   ],
   "source": [
    "# Code to extract employee data from MS Excel sheet using XLRD package - Iteration 08\n",
    "import xlrd\n",
    "import time\n",
    "startTime = time.time()\n",
    "try:\n",
    "    wb = xlrd.open_workbook(\"01-EmployeeData.xlsx\")\n",
    "    ws = wb.sheet_by_index(0)\n",
    "    myList1 = []\n",
    "    myList2 = []\n",
    "    for j in range (0, ws.nrows):\n",
    "        for i in range (0, ws.ncols):\n",
    "            if ws.cell_value(j, i) == '' or ws.cell_value(j, i) == '--':\n",
    "                myList1.append(\"NO VALID DATA\")\n",
    "            else:\n",
    "                myList1.append(ws.cell_value(j, i))\n",
    "        myList2.append(myList1)\n",
    "        myList1 = []\n",
    "    myList3 = []\n",
    "    mySet = set()\n",
    "    for i in range (0, ws.nrows):\n",
    "        for j in range (0, ws.ncols):\n",
    "            if myList2[i][j] == 115175:\n",
    "                myList3.append(myList2[i])\n",
    "    if (myList3):\n",
    "        print (myList3)\n",
    "    else:\n",
    "        print (\"Employee ID Not found\")\n",
    "except FileNotFoundError:\n",
    "    print (\"Error: FILE NOT FOUND\")\n",
    "endTime = time.time()\n",
    "print (\"Time taken to execute the code: {} Seconds\".format(endTime-startTime))"
   ]
  },
  {
   "cell_type": "code",
   "execution_count": 12,
   "metadata": {},
   "outputs": [
    {
     "name": "stdout",
     "output_type": "stream",
     "text": [
      "Please enter the Employee ID:0\n",
      "Employee ID Not found\n",
      "Time taken to execute the code: 16.674038887023926 Seconds\n"
     ]
    }
   ],
   "source": [
    "# Code to extract employee data from MS Excel sheet using XLRD package - Iteration 09\n",
    "# User Inputs the Employee ID & code fetches the field.\n",
    "\n",
    "import xlrd\n",
    "import time\n",
    "startTime = time.time()\n",
    "try:\n",
    "    wb = xlrd.open_workbook(\"01-EmployeeData.xlsx\")\n",
    "    ws = wb.sheet_by_index(0)\n",
    "    myList1 = []\n",
    "    myList2 = []\n",
    "    for j in range (0, ws.nrows):\n",
    "        for i in range (0, ws.ncols):\n",
    "            if ws.cell_value(j, i) == '' or ws.cell_value(j, i) == '--':\n",
    "                myList1.append(\"NO VALID DATA\")\n",
    "            else:\n",
    "                myList1.append(ws.cell_value(j, i))\n",
    "        myList2.append(myList1)\n",
    "        myList1 = []\n",
    "    \n",
    "# Search for Employee ID\n",
    "    myList3 = []\n",
    "    mySet = set()\n",
    "    UIEmpID = input(\"Please enter the Employee ID:\")\n",
    "    for i in range (0, ws.nrows):\n",
    "        for j in range (0, ws.ncols):\n",
    "            if myList2[i][j] == int(UIEmpID):\n",
    "                myList3.append(myList2[i])\n",
    "    if (myList3):\n",
    "        print (myList3)\n",
    "    else:\n",
    "        print (\"Employee ID Not found\")\n",
    "except FileNotFoundError:\n",
    "    print (\"Error: FILE NOT FOUND\")\n",
    "endTime = time.time()\n",
    "print (\"Time taken to execute the code: {} Seconds\".format(endTime-startTime))"
   ]
  }
 ],
 "metadata": {
  "kernelspec": {
   "display_name": "Python 3",
   "language": "python",
   "name": "python3"
  },
  "language_info": {
   "codemirror_mode": {
    "name": "ipython",
    "version": 3
   },
   "file_extension": ".py",
   "mimetype": "text/x-python",
   "name": "python",
   "nbconvert_exporter": "python",
   "pygments_lexer": "ipython3",
   "version": "3.7.6"
  }
 },
 "nbformat": 4,
 "nbformat_minor": 4
}
