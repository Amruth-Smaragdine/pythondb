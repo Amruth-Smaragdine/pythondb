{
 "cells": [
  {
   "cell_type": "code",
   "execution_count": 58,
   "metadata": {},
   "outputs": [
    {
     "data": {
      "application/javascript": [
       "IPython.notebook.set_autosave_interval(30000)"
      ]
     },
     "metadata": {},
     "output_type": "display_data"
    },
    {
     "name": "stdout",
     "output_type": "stream",
     "text": [
      "Autosaving every 30 seconds\n"
     ]
    }
   ],
   "source": [
    "%autosave 30"
   ]
  },
  {
   "cell_type": "code",
   "execution_count": 75,
   "metadata": {},
   "outputs": [
    {
     "name": "stdout",
     "output_type": "stream",
     "text": [
      "<class 'dict'>\n",
      "<class 'dict'>\n",
      "<class 'dict'>\n",
      "Total Sum of Days: 30\n",
      "Probability of 0 laptops sold in 1 day: 0.03\n",
      "Probability of 1 laptops sold in 2 day: 0.07\n",
      "Probability of 2 laptops sold in 10 day: 0.33\n",
      "Probability of 3 laptops sold in 12 day: 0.40\n",
      "Probability of 4 laptops sold in 5 day: 0.17\n",
      "Probability of >5 laptops sold in 0 day: 0.00\n"
     ]
    }
   ],
   "source": [
    "\"\"\"\n",
    "Code Snippet to calculate the probability of number of laptops sold vs number of days in a month\n",
    "\n",
    "\"\"\"\n",
    "myDict = {0:1, 1:2, 2:10, 3:12, 4:5, 5:0}\n",
    "print (type(myDict))\n",
    "myDict = {1:'0', 2:'1', 10:'2', 12:'3', 5:'4', 0:'>5'}\n",
    "print (type(myDict))\n",
    "myDict = {'0':1, '1':2, '2':10, '3':12, '4':5, '>5':0}\n",
    "print (type(myDict))\n",
    "TotalSum = 0\n",
    "for key in myDict:\n",
    "    # print (key, myDict[key])\n",
    "    TotalSum += myDict[key]\n",
    "print (\"Total Sum of Days:\", TotalSum)\n",
    "for key in myDict:\n",
    "    print (\"Probability of {} laptops sold in {} day: {:.2f}\".format(key, myDict[key], myDict[key]/TotalSum))"
   ]
  },
  {
   "cell_type": "code",
   "execution_count": 92,
   "metadata": {},
   "outputs": [
    {
     "name": "stdout",
     "output_type": "stream",
     "text": [
      "Probability of 0 laptops sold in 1 day: 0.03\n",
      "Probability of 1 laptops sold in 2 day: 0.07\n",
      "Probability of 2 laptops sold in 10 day: 0.33\n",
      "Probability of 3 laptops sold in 12 day: 0.40\n",
      "Probability of 4 laptops sold in 5 day: 0.17\n",
      "Probability of >5 laptops sold in 0 day: 0.00\n",
      "[0.0, 0.03333333333333333, 0.06666666666666667, 0.16666666666666666, 0.3333333333333333, 0.4]\n",
      "[0.4, 0.3333333333333333, 0.16666666666666666, 0.06666666666666667, 0.03333333333333333, 0.0]\n",
      "Top three probabilities:\n",
      "0.40\n",
      "0.33\n",
      "0.17\n"
     ]
    }
   ],
   "source": [
    "\"\"\"\n",
    "Code Snippet to calculate the probability of number of laptops sold vs number of days in a month\n",
    "This is the very basic version to derive probability.\n",
    "\"\"\"\n",
    "myDict = {'0':1, '1':2, '2':10, '3':12, '4':5, '>5':0}\n",
    "TotalSum = 0\n",
    "for key in myDict:\n",
    "    TotalSum += myDict[key]\n",
    "myList = []\n",
    "for key in myDict:\n",
    "    print (\"Probability of {} laptops sold in {} day: {:.2f}\".format(key, myDict[key], myDict[key]/TotalSum))\n",
    "    myList.append(myDict[key]/TotalSum)\n",
    "myList.sort()\n",
    "print (myList)\n",
    "myList.reverse()\n",
    "print (myList)\n",
    "print (\"Top three probabilities:\")\n",
    "for i in range (0, 3):\n",
    "    print (\"{:.2f}\".format(myList[i]))"
   ]
  },
  {
   "cell_type": "code",
   "execution_count": 99,
   "metadata": {},
   "outputs": [
    {
     "name": "stdout",
     "output_type": "stream",
     "text": [
      "Probability of 0 laptops sold in 1 day: 0.03\n",
      "Probability of 1 laptops sold in 2 day: 0.07\n",
      "Probability of 2 laptops sold in 10 day: 0.33\n",
      "Probability of 3 laptops sold in 12 day: 0.40\n",
      "Probability of 4 laptops sold in 5 day: 0.17\n",
      "Probability of >5 laptops sold in 0 day: 0.00\n",
      "\n",
      "Top three probabilities for the business:\n",
      "0.40\n",
      "0.33\n",
      "0.17\n"
     ]
    }
   ],
   "source": [
    "\"\"\"\n",
    "Code Snippet to calculate the probability of number of laptops sold vs number of days in a month\n",
    "This is the very basic version to derive probability.\n",
    "\"\"\"\n",
    "myDict = {'0':1, '1':2, '2':10, '3':12, '4':5, '>5':0}\n",
    "TotalSum = 0\n",
    "for key in myDict:\n",
    "    TotalSum += myDict[key]\n",
    "myList = []\n",
    "for key in myDict:\n",
    "    print (\"Probability of {} laptops sold in {} day: {:.2f}\".format(key, myDict[key], myDict[key]/TotalSum))\n",
    "    myList.append(myDict[key]/TotalSum)\n",
    "myList.sort()\n",
    "myList.reverse()\n",
    "print (\"\\nTop three probabilities for the business:\")\n",
    "for i in range (0, 3):\n",
    "    print (\"{:.2f}\".format(myList[i]))"
   ]
  }
 ],
 "metadata": {
  "kernelspec": {
   "display_name": "Python 3",
   "language": "python",
   "name": "python3"
  },
  "language_info": {
   "codemirror_mode": {
    "name": "ipython",
    "version": 3
   },
   "file_extension": ".py",
   "mimetype": "text/x-python",
   "name": "python",
   "nbconvert_exporter": "python",
   "pygments_lexer": "ipython3",
   "version": "3.7.6"
  }
 },
 "nbformat": 4,
 "nbformat_minor": 4
}
