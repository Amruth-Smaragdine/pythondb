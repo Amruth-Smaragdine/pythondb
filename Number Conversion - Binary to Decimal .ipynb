{
 "cells": [
  {
   "cell_type": "code",
   "execution_count": 2,
   "metadata": {},
   "outputs": [
    {
     "data": {
      "application/javascript": [
       "IPython.notebook.set_autosave_interval(30000)"
      ]
     },
     "metadata": {},
     "output_type": "display_data"
    },
    {
     "name": "stdout",
     "output_type": "stream",
     "text": [
      "Autosaving every 30 seconds\n"
     ]
    }
   ],
   "source": [
    "%autosave 30"
   ]
  },
  {
   "cell_type": "code",
   "execution_count": 18,
   "metadata": {},
   "outputs": [
    {
     "name": "stdout",
     "output_type": "stream",
     "text": [
      "Enter the 'Binary' value for which you desire a 'Decimal' conversion: 00001111\n",
      "Converted the entered 'Binary' number (00001111) to 'Decimal' value. The result after conversion is: 15\n"
     ]
    }
   ],
   "source": [
    "\"\"\"\n",
    "Following code will be useful for end user to find the 'Decimal' value for a 'Binary' number as input.\n",
    "\n",
    "The logic:\n",
    "1. Collected user input and converted each charachter as an element in 'List'.\n",
    "2. Reversed the 'List' to make things easier for calculation.\n",
    "3. Converted each element of the reversed 'List'to integer and converted it to the Decimal value\n",
    "4. Calculated sum of values to make sure the conversion is rightly done.\n",
    "5. Reversed the 'List' for the second time, thereby maintaining it's original sequence.\n",
    "6. Converted the 'List' to a 'String' that would help us print a meaningful output.\n",
    "\"\"\"\n",
    "\n",
    "InpBinDigVal = input (\"Enter the 'Binary' value for which you desire a 'Decimal' conversion: \")\n",
    "# print (\"Length of the String: \", len(InpBinDigVal))\n",
    "myList = []\n",
    "for eachElement in list(InpBinDigVal):\n",
    "    myList.append(eachElement)\n",
    "myList.reverse()\n",
    "# print (myList, len(myList))                     # Print statement to check value\n",
    "OutDecVal = 0\n",
    "for i in range (0, len(myList)):\n",
    "#    print ( (int(myList[i])) * 2**i )            # Print statement to check value\n",
    "    OutDecVal += (int(myList[i])) * 2**i\n",
    "myList.reverse()\n",
    "myString = ''\n",
    "for eachElement in myList:\n",
    "    myString += eachElement\n",
    "print (\"Converted the entered 'Binary' number ({}) to 'Decimal' value. The result after conversion is: {}\".format(myString, OutDecVal))"
   ]
  },
  {
   "cell_type": "code",
   "execution_count": 35,
   "metadata": {},
   "outputs": [
    {
     "name": "stdout",
     "output_type": "stream",
     "text": [
      "Enter the 'Binary' value for which you desire a 'Decimal' conversion: 11111111\n",
      "'Decimal' value for 'Binary' number '11111111' is: 255\n"
     ]
    }
   ],
   "source": [
    "\"\"\"\n",
    "Following code will be useful for end user to find the 'Decimal' value for a 'Binary' number as input.\n",
    "\n",
    "The logic:\n",
    "1. Collected user input and converted each charachter as an element in 'List'.\n",
    "2. Reversed the 'List' to make things easier for calculation.\n",
    "3. Converted each element of the reversed 'List'to integer and converted it to the Decimal value\n",
    "4. Calculated sum of values to make sure the conversion is rightly done.\n",
    "5. Reversed the 'List' for the second time, thereby maintaining it's original sequence.\n",
    "6. Converted the 'List' to a 'String' that would help us print a meaningful output.\n",
    "\"\"\"\n",
    "\n",
    "InpBinDigVal = input (\"Enter the 'Binary' value for which you desire a 'Decimal' conversion: \")\n",
    "# print (\"Length of the String: \", len(InpBinDigVal))\n",
    "myList = []\n",
    "for eachElement in list(InpBinDigVal):\n",
    "    myList.append(eachElement)\n",
    "myList.reverse()\n",
    "# print (myList, len(myList))                     # Print statement to check value\n",
    "OutDecVal = 0\n",
    "for i in range (0, len(myList)):\n",
    "#    print ( (int(myList[i])) * 2**i )            # Print statement to check value\n",
    "    OutDecVal += (int(myList[i])) * 2**i\n",
    "myList.reverse()\n",
    "myString = ''\n",
    "for eachElement in myList:\n",
    "    myString += eachElement\n",
    "print (\"'Decimal' value for 'Binary' number '{}' is: {}\".format(myString, OutDecVal))\n",
    "\n",
    "# Validation of binary string is important and is pending\n",
    "# It seems to be possible with type()"
   ]
  },
  {
   "cell_type": "code",
   "execution_count": 98,
   "metadata": {},
   "outputs": [
    {
     "name": "stdout",
     "output_type": "stream",
     "text": [
      "False\n"
     ]
    }
   ],
   "source": [
    "\"\"\"\n",
    "https://www.tutorialspoint.com/How-to-check-if-a-string-only-contains-certain-characters-in-Python\n",
    "\n",
    "from sets import Set - This is depricated as 'set' is included to this version of python as a function. \n",
    "Please refer the following:\n",
    "https://stackoverflow.com/questions/12028204/python-cant-import-set-from-sets-no-module-named-sets#:~:text=3%20Answers&text=You%20don't%20need%20the,can%20be%20used%20without%20import.\n",
    "\"\"\"\n",
    "allowed_chars = {'0', '1'}        # set('0', '1')\n",
    "validationString = '12'\n",
    "if set(validationString).issubset(allowed_chars):\n",
    "    print (True)\n",
    "else:\n",
    "    print (False)"
   ]
  },
  {
   "cell_type": "code",
   "execution_count": 89,
   "metadata": {},
   "outputs": [
    {
     "name": "stdout",
     "output_type": "stream",
     "text": [
      "{'e', 'i', 'n', 'g', 'd', 'm', 'S', 'a', 'r'}\n"
     ]
    }
   ],
   "source": [
    "x = 'Smaragdine'\n",
    "mySet = set(x)\n",
    "print (mySet)"
   ]
  },
  {
   "cell_type": "code",
   "execution_count": 106,
   "metadata": {},
   "outputs": [
    {
     "name": "stdout",
     "output_type": "stream",
     "text": [
      "Enter a Value: 10101010\n",
      "You have entered a value 10101010 which is of type: <class 'int'>\n",
      "170\n"
     ]
    }
   ],
   "source": [
    "# Value Conversions - Binary to Decimal - Experiment 01\n",
    "\n",
    "UsrInpVal = input(\"Enter a Value: \")\n",
    "try:\n",
    "    UIV2Int = int(UsrInpVal)\n",
    "    myList = list(UsrInpVal)\n",
    "    BinToDecOut = 0\n",
    "    print (\"You have entered a value {} which is of type: {}\".format(UIV2Int, type(UIV2Int)))\n",
    "    # print (\"You have entered a 'Binary' value: {}\".format(UIV2Int))\n",
    "    myList.reverse()\n",
    "    for i in range(0, len(myList)):\n",
    "        BinToDecOut += int(myList[i]) * 2**i\n",
    "    print (BinToDecOut)\n",
    "except ValueError:\n",
    "    try:\n",
    "        UIV2Float = float(UsrInpVal)\n",
    "        print (\"You have entered a value {} which is of type: {}\".format(UIV2Float, type(UIV2Float)))\n",
    "    except ValueError:\n",
    "        print (\"You have entered {} which is of type: {}\".format(UsrInpVal, type(UsrInpVal)))"
   ]
  },
  {
   "cell_type": "code",
   "execution_count": 1,
   "metadata": {},
   "outputs": [
    {
     "name": "stdout",
     "output_type": "stream",
     "text": [
      "Enter a Value: 10101010\n",
      "You have entered a 'Binary' value: 10101010\n",
      "170\n"
     ]
    }
   ],
   "source": [
    "# Value Conversions - Binary to Decimal - Experiment 02\n",
    "\n",
    "UsrInpVal = input(\"Enter a Value: \")\n",
    "try:\n",
    "    UIV2Int = int(UsrInpVal)\n",
    "    myList = list(UsrInpVal)\n",
    "    AllowChars = {'0', '1'} \n",
    "    BinToDecOut = 0\n",
    "    if set(UsrInpVal).issubset(AllowChars):\n",
    "        print (\"You have entered a 'Binary' value: {}\".format(UIV2Int))\n",
    "        myList.reverse()\n",
    "        for i in range(0, len(myList)):\n",
    "            BinToDecOut += int(myList[i]) * 2**i\n",
    "        print (BinToDecOut)\n",
    "    else:\n",
    "        print (\"Error: You have entered a 'Decimal' value. We expect a 'Binary' value to be entered.\")\n",
    "except ValueError:\n",
    "    try:\n",
    "        UIV2Float = float(UsrInpVal)\n",
    "        print (\"You have entered a value {} which is of type: {}\".format(UIV2Float, type(UIV2Float)))\n",
    "    except ValueError:\n",
    "        print (\"You have entered {} which is of type: {}\".format(UsrInpVal, type(UsrInpVal)))"
   ]
  }
 ],
 "metadata": {
  "kernelspec": {
   "display_name": "Python 3",
   "language": "python",
   "name": "python3"
  },
  "language_info": {
   "codemirror_mode": {
    "name": "ipython",
    "version": 3
   },
   "file_extension": ".py",
   "mimetype": "text/x-python",
   "name": "python",
   "nbconvert_exporter": "python",
   "pygments_lexer": "ipython3",
   "version": "3.7.6"
  }
 },
 "nbformat": 4,
 "nbformat_minor": 4
}
