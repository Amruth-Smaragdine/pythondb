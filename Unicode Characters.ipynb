{
 "cells": [
  {
   "cell_type": "code",
   "execution_count": 1,
   "metadata": {},
   "outputs": [
    {
     "data": {
      "application/javascript": [
       "IPython.notebook.set_autosave_interval(30000)"
      ]
     },
     "metadata": {},
     "output_type": "display_data"
    },
    {
     "name": "stdout",
     "output_type": "stream",
     "text": [
      "Autosaving every 30 seconds\n"
     ]
    }
   ],
   "source": [
    "%autosave 30"
   ]
  },
  {
   "cell_type": "code",
   "execution_count": 23,
   "metadata": {},
   "outputs": [
    {
     "name": "stdout",
     "output_type": "stream",
     "text": [
      "U+0C05\n",
      "అ ఄ ః\n",
      "ఄఅః\n",
      "అఄః\n"
     ]
    }
   ],
   "source": [
    "\"\"\"\n",
    "Reference Web Link for :\n",
    "http://www.fileformat.info/info/unicode/char/a.htm\n",
    "\n",
    "Reference Web Link for Telugu Characters:\n",
    "https://www.fileformat.info/info/unicode/block/telugu/list.htm\n",
    "\"\"\"\n",
    "\n",
    "print (\"U+0C05\")\n",
    "print (u\"\\u0C05\", u\"\\u0C04\", u\"\\u0C03\")\n",
    "print (u\"\\u0C04\"\"\\u0C05\" \"\\u0C03\")\n",
    "\n",
    "str = u'\\u0C05\\u0C04\\u0C03'\n",
    "print (str)"
   ]
  },
  {
   "cell_type": "code",
   "execution_count": 67,
   "metadata": {
    "scrolled": true
   },
   "outputs": [
    {
     "name": "stdout",
     "output_type": "stream",
     "text": [
      "స రి గ మ ప ద ని స° ఁ ! @ # $ % ^ & * ( ) , ` - _ [ ] { } । \\ । \n",
      "స° ని ద ప మ గ రి స ॥\n",
      "(శీ\n"
     ]
    }
   ],
   "source": [
    "# https://www.fileformat.info/info/unicode/block/telugu/list.htm\n",
    "\n",
    "from indic_transliteration import sanscript\n",
    "from indic_transliteration.sanscript import SchemeMap, SCHEMES, transliterate\n",
    "data1 = 'sa ri ga ma pa da ni sa\\u00b0 ~ ! @ # $ % ^ & * ( ) , ` - _ [ ] { } | \\ . ' \n",
    "print(transliterate(data1, sanscript.HK, sanscript.TELUGU))\n",
    "data2 = 'sa\\u00b0 ni da pa ma ga ri sa ..' \n",
    "print(transliterate(data2, sanscript.HK, sanscript.TELUGU))\n",
    "data1 = u'(\\u0C36\\u0C40' \n",
    "print(transliterate(data1, sanscript.HK, sanscript.TELUGU))\n"
   ]
  }
 ],
 "metadata": {
  "kernelspec": {
   "display_name": "Python 3",
   "language": "python",
   "name": "python3"
  },
  "language_info": {
   "codemirror_mode": {
    "name": "ipython",
    "version": 3
   },
   "file_extension": ".py",
   "mimetype": "text/x-python",
   "name": "python",
   "nbconvert_exporter": "python",
   "pygments_lexer": "ipython3",
   "version": "3.7.6"
  }
 },
 "nbformat": 4,
 "nbformat_minor": 4
}
