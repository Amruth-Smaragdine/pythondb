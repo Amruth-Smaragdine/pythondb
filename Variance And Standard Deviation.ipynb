{
 "cells": [
  {
   "cell_type": "code",
   "execution_count": 16,
   "metadata": {},
   "outputs": [
    {
     "data": {
      "application/javascript": [
       "IPython.notebook.set_autosave_interval(30000)"
      ]
     },
     "metadata": {},
     "output_type": "display_data"
    },
    {
     "name": "stdout",
     "output_type": "stream",
     "text": [
      "Autosaving every 30 seconds\n"
     ]
    }
   ],
   "source": [
    "%autosave 30"
   ]
  },
  {
   "cell_type": "code",
   "execution_count": 5,
   "metadata": {},
   "outputs": [
    {
     "name": "stdout",
     "output_type": "stream",
     "text": [
      "Random List:  [87, 87, 75, 59, 90, 49, 41, 47, 74, 34] \n",
      " Sum of all Elements of the list:  643 \n",
      " Number of Elements 10 \n",
      " Mean value: 64.30\n",
      "Sum of difference of elements from mean: 3922.10\n",
      "Variance: 392.21\n",
      "Standard Deviation: 19.80\n"
     ]
    }
   ],
   "source": [
    "\"\"\"\n",
    "Variance Calculation (Special Character Sigma in Python):\n",
    "1. Average is mean.\n",
    "2. Individual values minus mean (Component 01)\n",
    "3. Square of values obtained in Step 2.\n",
    "4. Sum of Square of values obtained in Step 3.\n",
    "5. Divide the value obtained in Step 4 by number of elements\n",
    "\"\"\"\n",
    "import random                                     # Importing package 'random' to generate random numbers in a given range\n",
    "myList = []                                       # A blank list that will help us store the random numbers\n",
    "sumOfElements = 0\n",
    "for i in range (0, 10):                           # This will generate 30 random numbers.\n",
    "    # print (i, random.randint(33,99))              # Test print statement to check values\n",
    "    myList.append(random.randint(33,99))          # This will generate a random number in range 33-99 & store it in 'list'\n",
    "    sumOfElements += myList[i]\n",
    "print (\"Random List: \", myList, \"\\n\",\"Sum of all Elements of the list: \", sumOfElements, \"\\n\", \"Number of Elements\",len(myList), \"\\n\", \"Mean value: {:.2f}\".format(sumOfElements/len(myList)))\n",
    "sumOfDiffOfElementsAndMean = 0\n",
    "for eachElement in myList:\n",
    "    sumOfDiffOfElementsAndMean += (sumOfElements/len(myList) - eachElement) ** 2\n",
    "print (\"Sum of difference of elements from mean: {:.2f}\".format(sumOfDiffOfElementsAndMean))\n",
    "varianceOfDataSet = sumOfDiffOfElementsAndMean/len(myList)\n",
    "print (\"Variance: {:.2f}\".format(varianceOfDataSet))\n",
    "print (\"Standard Deviation: {:.2f}\".format(varianceOfDataSet**0.5))"
   ]
  },
  {
   "cell_type": "code",
   "execution_count": 6,
   "metadata": {},
   "outputs": [
    {
     "name": "stdout",
     "output_type": "stream",
     "text": [
      "Random List:  [76, 70, 85, 48, 65, 50, 98, 64, 73, 62]\n",
      "Sum of all Elements of the list:  691\n",
      "Number of Elements 10\n",
      "Mean value: 69.1\n",
      "Sum of difference of elements from mean: 2054.90\n",
      "Variance: 205.49\n",
      "Standard Deviation: 19.80\n"
     ]
    }
   ],
   "source": [
    "\"\"\"\n",
    "Variance Calculation (Special Character Sigma in Python):\n",
    "1. Average is mean.\n",
    "2. Individual values minus mean (Component 01)\n",
    "3. Square of values obtained in Step 2.\n",
    "4. Sum of Square of values obtained in Step 3.\n",
    "5. Divide the value obtained in Step 4 by number of elements\n",
    "\"\"\"\n",
    "import random                                     # Importing package 'random' to generate random numbers in a given range\n",
    "import math\n",
    "myList = [76, 70, 85, 48, 65, 50, 98, 64, 73, 62]                                       # A blank list that will help us store the random numbers\n",
    "sumOfElements = 0\n",
    "for i in range (0, 10):                           # This will generate 30 random numbers.\n",
    "    # print (i, random.randint(33,99))              # Test print statement to check values\n",
    "    # myList.append(random.randint(33,99))          # This will generate a random number in range 33-99 & store it in 'list'\n",
    "    sumOfElements += myList[i]\n",
    "print (\"Random List: \", myList)\n",
    "print (\"Sum of all Elements of the list: \", sumOfElements)\n",
    "print (\"Number of Elements\",len(myList))\n",
    "print (\"Mean value:\", sumOfElements/len(myList))\n",
    "sumOfDiffOfElementsAndMean = 0\n",
    "for eachElement in myList:\n",
    "    sumOfDiffOfElementsAndMean += (sumOfElements/len(myList) - eachElement) ** 2\n",
    "print (\"Sum of difference of elements from mean: {:.2f}\".format(sumOfDiffOfElementsAndMean))\n",
    "print (\"Variance: {:.2f}\".format(sumOfDiffOfElementsAndMean/len(myList)))\n",
    "print (\"Standard Deviation: {:.2f}\".format(varianceOfDataSet**0.5))"
   ]
  },
  {
   "cell_type": "code",
   "execution_count": 61,
   "metadata": {},
   "outputs": [
    {
     "name": "stdout",
     "output_type": "stream",
     "text": [
      "Sum of all elements in the list [2, 4, 9, 7, 3, 5, 7, 2, 5, 4, 3, 6, 8, 5, 3] is: 73 \n",
      "\n",
      "Total number of elements in the list [2, 4, 9, 7, 3, 5, 7, 2, 5, 4, 3, 6, 8, 5, 3] is: 15 \n",
      "\n",
      "Mean value (A Measure of Central Tendency) is: 4.866666666666666 \n",
      "\n",
      "Subtract each element from Mean:\n",
      "\n",
      "2.8666666666666663\n",
      "0.8666666666666663\n",
      "-4.133333333333334\n",
      "-2.1333333333333337\n",
      "1.8666666666666663\n",
      "-0.13333333333333375\n",
      "-2.1333333333333337\n",
      "2.8666666666666663\n",
      "-0.13333333333333375\n",
      "0.8666666666666663\n",
      "1.8666666666666663\n",
      "-1.1333333333333337\n",
      "-3.1333333333333337\n",
      "-0.13333333333333375\n",
      "1.8666666666666663\n",
      "Square of result from previous step:\n",
      "\n",
      "8.217777777777776\n",
      "0.7511111111111104\n",
      "17.084444444444447\n",
      "4.551111111111113\n",
      "3.484444444444443\n",
      "0.01777777777777789\n",
      "4.551111111111113\n",
      "8.217777777777776\n",
      "0.01777777777777789\n",
      "0.7511111111111104\n",
      "3.484444444444443\n",
      "1.2844444444444454\n",
      "9.81777777777778\n",
      "0.01777777777777789\n",
      "3.484444444444443\n",
      "\n",
      "\n",
      "Variance (σ²) =  4.3822222222222225 \n",
      "\n",
      "Standard Deviaion (σ) =  2.0933757957476775\n"
     ]
    }
   ],
   "source": [
    "\"\"\"\n",
    "SAM  : Sample Data\n",
    "TNOE : Total Number of Elements\n",
    "SOAE  : Sum Of Elements\n",
    "MEAN : Measure of Central Tendency - Mean\n",
    "SEFMASTR : Subtract each Element From Mean And Square The Result\n",
    "VAR  : Variance\n",
    "STD  : Standard Deviation\n",
    "\"\"\"\n",
    "SAM = [2, 4, 9, 7, 3, 5, 7, 2, 5, 4, 3, 6, 8, 5, 3]\n",
    "TNOE = len(SAM)\n",
    "SOAE = 0\n",
    "for i in SAM:\n",
    "    SOAE += i\n",
    "    # print (SOAE)                              # Print statement to check for correct values \n",
    "print (\"Sum of all elements in the list {} is: {}\".format(SAM, SOAE), \"\\n\")\n",
    "print (\"Total number of elements in the list {} is: {}\".format(SAM, TNOE), \"\\n\")\n",
    "MEAN = SOAE/TNOE\n",
    "print (\"Mean value (A Measure of Central Tendency) is: {}\".format(MEAN), \"\\n\")     # format without and control on number of decimals\n",
    "# print (\"Mean value (A Measure of Central Tendency) is: {:.2f}\".format(MEAN))     # format with only two decimals\n",
    "SMEFASTR = 0\n",
    "print(\"Subtract each element from Mean:\\n\")\n",
    "\n",
    "for i in SAM:\n",
    "    print (MEAN - i)\n",
    "    # print ((MEAN - i)**2)                    #  Print statement to check for correct values\n",
    "    # SMEFASTR += (MEAN - i)**2\n",
    "    # print (SMEFASTR)\n",
    "print(\"Square of result from previous step:\\n\")\n",
    "\n",
    "for i in SAM:\n",
    "    # print (MEAN - i)\n",
    "    print ((MEAN - i)**2)                    #  Print statement to check for correct values\n",
    "    SMEFASTR += (MEAN - i)**2\n",
    "    # print (SMEFASTR)\n",
    "\n",
    "VAR = SMEFASTR / TNOE\n",
    "print (\"\\n\")\n",
    "print (\"Variance (\\u03C3\\u00B2) = \", VAR, \"\\n\")\n",
    "# print (\"Variance (\\u03C3\\u00B2) = {:.2f}\".format(VAR))\n",
    "STD = VAR ** 0.5\n",
    "print (\"Standard Deviaion (\\u03C3) = \", STD)\n",
    "# print (\"Standard Deviaion (\\u03C3) = {:.2f}\".format(STD))"
   ]
  },
  {
   "cell_type": "code",
   "execution_count": 62,
   "metadata": {},
   "outputs": [
    {
     "name": "stdout",
     "output_type": "stream",
     "text": [
      "Sum of all elements in the list [2, 4, 9, 7, 3, 5, 7, 2, 5, 4, 3, 6, 8, 5, 3] is: 73 \n",
      "\n",
      "Total number of elements in the list [2, 4, 9, 7, 3, 5, 7, 2, 5, 4, 3, 6, 8, 5, 3] is: 15 \n",
      "\n",
      "Mean value (A Measure of Central Tendency) is: 4.866666666666666 \n",
      "\n",
      "Variance (σ²) =  4.3822222222222225 \n",
      "\n",
      "Standard Deviaion (σ) =  2.0933757957476775\n"
     ]
    }
   ],
   "source": [
    "\"\"\"\n",
    "SAM  : Sample Data\n",
    "TNOE : Total Number of Elements\n",
    "SOAE  : Sum Of Elements\n",
    "MEAN : Measure of Central Tendency - Mean\n",
    "SEFMASTR : Subtract each Element From Mean And Square The Result\n",
    "VAR  : Variance\n",
    "STD  : Standard Deviation\n",
    "\"\"\"\n",
    "SAM = [2, 4, 9, 7, 3, 5, 7, 2, 5, 4, 3, 6, 8, 5, 3]\n",
    "TNOE = len(SAM)\n",
    "SOAE = 0\n",
    "for i in SAM:\n",
    "    SOAE += i\n",
    "    # print (SOAE)                              # Print statement to check for correct values \n",
    "print (\"Sum of all elements in the list {} is: {}\".format(SAM, SOAE), \"\\n\")\n",
    "print (\"Total number of elements in the list {} is: {}\".format(SAM, TNOE), \"\\n\")\n",
    "MEAN = SOAE/TNOE\n",
    "print (\"Mean value (A Measure of Central Tendency) is: {}\".format(MEAN), \"\\n\")     # format without and control on number of decimals\n",
    "# print (\"Mean value (A Measure of Central Tendency) is: {:.2f}\".format(MEAN))     # format with only two decimals\n",
    "SMEFASTR = 0\n",
    "# print(\"Subtract each element from Mean:\\n\")\n",
    "\n",
    "for i in SAM:\n",
    "    SMEFASTR += (MEAN - i)**2\n",
    "\n",
    "VAR = SMEFASTR / TNOE\n",
    "print (\"Variance (\\u03C3\\u00B2) = \", VAR, \"\\n\")\n",
    "# print (\"Variance (\\u03C3\\u00B2) = {:.2f}\".format(VAR))\n",
    "STD = VAR ** 0.5\n",
    "print (\"Standard Deviaion (\\u03C3) = \", STD)\n",
    "# print (\"Standard Deviaion (\\u03C3) = {:.2f}\".format(STD))"
   ]
  },
  {
   "cell_type": "code",
   "execution_count": 17,
   "metadata": {},
   "outputs": [
    {
     "name": "stdout",
     "output_type": "stream",
     "text": [
      "Please enter number of random values you wish to generate: 10\n",
      "Please enter the minimum and maximum values of the range:10 15\n",
      "Number of random values that will be generated:  10\n",
      "Minimum Range Value: 10 Maximum Range Value: 15\n",
      "Sum of all elements in the list [11, 13, 12, 13, 12, 13, 10, 11, 11, 12] is: 118\n",
      "Total number of elements in the list [11, 13, 12, 13, 12, 13, 10, 11, 11, 12] is: 10\n",
      "Mean value (A Measure of Central Tendency) is: 11.80\n",
      "Variance (σ²) = 0.96\n",
      "Standard Deviaion (σ) = 0.98\n"
     ]
    }
   ],
   "source": [
    "\"\"\"\n",
    "This code snippet will derive 'Mean', 'Variance' and 'Standard Deviation' of a randomly generated sample data. \n",
    "Variables used in this code snippet are as follows:\n",
    "\n",
    "NORV : Number of Random variables (randomly generated) to calculate all three values\n",
    "RMIN : Range Minimum value (Used for random number generation)\n",
    "RMIN : Range Maximum value (Used for random number generation)\n",
    "SAM  : Sample Data\n",
    "TNOE : Total Number of Elements\n",
    "SOAE  : Sum Of Elements\n",
    "MEAN : Measure of Central Tendency - Mean\n",
    "SEFMASTR : Subtract each Element From Mean And Square The Result\n",
    "VAR  : Variance\n",
    "STD  : Standard Deviation\n",
    "\"\"\"\n",
    "\n",
    "import random\n",
    "NORV = int(input (\"Please enter number of random values you wish to generate: \"))\n",
    "RMIN, RMAX = input (\"Please enter the minimum and maximum values of the range:\").split()\n",
    "print (\"Number of random values that will be generated: \", NORV)\n",
    "print (\"Minimum Range Value:\", RMIN, \"Maximum Range Value:\",RMAX)\n",
    "SAM = []\n",
    "for i in range (int(NORV)):\n",
    "    SAM.append(random.randint(int(RMIN),int(RMAX)))\n",
    "TNOE = len(SAM)\n",
    "SOAE = 0\n",
    "for i in SAM:\n",
    "    SOAE += i\n",
    "print (\"Sum of all elements in the list {} is: {}\".format(SAM, SOAE))\n",
    "print (\"Total number of elements in the list {} is: {}\".format(SAM, TNOE))\n",
    "MEAN = SOAE/TNOE\n",
    "print (\"Mean value (A Measure of Central Tendency) is: {:.2f}\".format(MEAN))     # format with only two decimals\n",
    "SMEFASTR = 0\n",
    "for i in SAM:\n",
    "    SMEFASTR += (MEAN - i)**2\n",
    "VAR = SMEFASTR / TNOE\n",
    "print (\"Variance (\\u03C3\\u00B2) = {:.2f}\".format(VAR))\n",
    "STD = VAR ** 0.5\n",
    "print (\"Standard Deviaion (\\u03C3) = {:.2f}\".format(STD))"
   ]
  }
 ],
 "metadata": {
  "kernelspec": {
   "display_name": "Python 3",
   "language": "python",
   "name": "python3"
  },
  "language_info": {
   "codemirror_mode": {
    "name": "ipython",
    "version": 3
   },
   "file_extension": ".py",
   "mimetype": "text/x-python",
   "name": "python",
   "nbconvert_exporter": "python",
   "pygments_lexer": "ipython3",
   "version": "3.7.6"
  }
 },
 "nbformat": 4,
 "nbformat_minor": 4
}
