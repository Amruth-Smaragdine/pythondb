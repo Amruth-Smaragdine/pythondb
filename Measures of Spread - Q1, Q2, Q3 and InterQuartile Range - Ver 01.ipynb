{
 "cells": [
  {
   "cell_type": "code",
   "execution_count": 120,
   "metadata": {},
   "outputs": [
    {
     "data": {
      "application/javascript": [
       "IPython.notebook.set_autosave_interval(30000)"
      ]
     },
     "metadata": {},
     "output_type": "display_data"
    },
    {
     "name": "stdout",
     "output_type": "stream",
     "text": [
      "Autosaving every 30 seconds\n"
     ]
    }
   ],
   "source": [
    "%autosave 30"
   ]
  },
  {
   "cell_type": "code",
   "execution_count": 73,
   "metadata": {},
   "outputs": [
    {
     "name": "stdout",
     "output_type": "stream",
     "text": [
      "[1, 1, 2, 2, 4, 6, 7, 8, 9, 10]\n",
      "10\n",
      "4 6\n",
      "Value of Q2 is: 5.0\n",
      "1 2\n",
      "Value of Q1 is: 1.5\n",
      "Deriving second half of the list\n",
      "9\n"
     ]
    }
   ],
   "source": [
    "import random\n",
    "\n",
    "myList = []\n",
    "for i in range(0, 10):                      # It is '0' inclusive and '10' exclusive. It prints from '0' to '9'\n",
    "    myList.append(random.randint(1, 10))\n",
    "myList.sort()\n",
    "# print (myList)\n",
    "if len(myList)%2 == 0:\n",
    "    print (myList)\n",
    "    print (len(myList))\n",
    "    print (myList[int(len(myList)/2 - 1)], myList[int(len(myList)/2)])\n",
    "    print (\"Value of Q2 is:\", (myList[int(len(myList)/2 - 1)] + myList[int(len(myList)/2)])/2)\n",
    "    print (myList[int(len(myList)/4 - 1)], myList[int(len(myList)/4)])\n",
    "    print (\"Value of Q1 is:\", (myList[int(len(myList)/4 - 1)] + myList[int(len(myList)/4)])/2)\n",
    "    \n",
    "    print (\"Deriving second half of the list\")\n",
    "    # print (myList[-int(len(myList)/2)], myList[-1])\n",
    "    # print (myList[int(len(myList)/2)], myList[int(len(myList)-1)])\n",
    "    print (myList[-int(len(myList)/4)])\n",
    "else:\n",
    "    print (myList)\n",
    "    print (len(myList))\n",
    "    print (myList[int(len(myList)/2)])"
   ]
  },
  {
   "cell_type": "code",
   "execution_count": 116,
   "metadata": {},
   "outputs": [
    {
     "name": "stdout",
     "output_type": "stream",
     "text": [
      "Origial List of Elements: [2, 3, 1, 4, 6, 8, 9, 10, 12, 3, 4]\n",
      "Sorted List of Elements: [1, 2, 3, 3, 4, 4, 6, 8, 9, 10, 12]\n",
      "Number of Elements in the list: 11\n",
      "Quartile 1 (Q1) 3\n",
      "Quartile 2 (Q2) 4\n",
      "Quartile 3 (Q3) 9\n",
      "Interquartile Range (IQR): 6\n",
      "\n",
      "\n",
      "Origial List of Elements: [1, 2, 3, 4, 4, 5, 6, 6, 7, 8, 8, 9]\n",
      "Sorted List of Elements: [1, 2, 3, 4, 4, 5, 6, 6, 7, 8, 8, 9]\n",
      "Number of Elements in the list: 12\n",
      "Quartile 1 (Q1) 3.5\n",
      "Quartile 2 (Q2) 5.5\n",
      "Quartile 3 (Q3) 7.5\n",
      "Interquartile Range (IQR) 4.0\n"
     ]
    }
   ],
   "source": [
    "# Following code snippet will extract all three quarantiles of a given data set. - Version 01\n",
    "# The code also derives \"Interquartile Range (IQR)\"\n",
    "## import random\n",
    "# myList = []\n",
    "# for i in range (0,10):\n",
    "    # print (i, random.randint(3,9))\n",
    "# myList = [11, 12, 13, 14, 15, 16, 17, 18, 19, 20, 21]\n",
    "myList = [2, 3, 1, 4, 6, 8, 9, 10, 12, 3, 4]\n",
    "print (\"Origial List of Elements:\", myList)\n",
    "myList.sort()\n",
    "print (\"Sorted List of Elements:\", myList)\n",
    "n = int(len(myList))\n",
    "# print (len(myList))\n",
    "print (\"Number of Elements in the list:\", n)\n",
    "print (\"Quartile 1 (Q1)\", myList[int((n)*0.25)])\n",
    "print (\"Quartile 2 (Q2)\", myList[int((n)*0.5)])\n",
    "print (\"Quartile 3 (Q3)\", myList[int((n)*0.75)])\n",
    "print (\"Interquartile Range (IQR):\", (myList[int((n)*0.75)] - myList[int((n)*0.25)]))\n",
    "\n",
    "print (\"\\n\")\n",
    "myList = [1, 2, 3, 4, 4, 5, 6, 6, 7, 8, 8, 9]\n",
    "print (\"Origial List of Elements:\", myList)\n",
    "myList.sort()\n",
    "print (\"Sorted List of Elements:\", myList)\n",
    "n = int(len(myList))\n",
    "print (\"Number of Elements in the list:\", n)\n",
    "print (\"Quartile 1 (Q1)\", ( myList[int((n-1)*0.25)] + myList[int((n)*0.25)] ) /2 )\n",
    "print (\"Quartile 2 (Q2)\", ( myList[int((n-1)*0.5)] + myList[int((n)*0.5)] ) /2 )\n",
    "print (\"Quartile 3 (Q3)\", ( myList[int((n-1)*0.75)] + myList[int((n)*0.75)] ) /2 )\n",
    "print (\"Interquartile Range (IQR)\", ( ( myList[int((n-1)*0.75)] + myList[int((n)*0.75)] ) /2 ) - ( ( myList[int((n-1)*0.25)] + myList[int((n)*0.25)] ) /2 ))"
   ]
  },
  {
   "cell_type": "code",
   "execution_count": 117,
   "metadata": {},
   "outputs": [
    {
     "name": "stdout",
     "output_type": "stream",
     "text": [
      "Origial List of Elements: [2, 3, 1, 4, 6, 8, 9, 10, 12, 3, 4]\n",
      "Sorted List of Elements: [1, 2, 3, 3, 4, 4, 6, 8, 9, 10, 12]\n",
      "Number of Elements in the list: 11\n",
      "Quartile 1 (Q1) 3\n",
      "Quartile 2 (Q2) 4\n",
      "Quartile 3 (Q3) 9\n",
      "Interquartile Range (IQR): 6\n",
      "\n",
      "\n",
      "Origial List of Elements: [1, 2, 3, 4, 4, 5, 6, 6, 7, 8, 8, 9]\n",
      "Sorted List of Elements: [1, 2, 3, 4, 4, 5, 6, 6, 7, 8, 8, 9]\n",
      "Number of Elements in the list: 12\n",
      "Quartile 1 (Q1) 3.5\n",
      "Quartile 2 (Q2) 5.5\n",
      "Quartile 3 (Q3) 7.5\n",
      "Interquartile Range (IQR) 4.0\n"
     ]
    }
   ],
   "source": [
    "# Following code snippet will extract all three quarantiles of a given data set. - Version 02\n",
    "# The code also derives \"Interquartile Range (IQR)\"\n",
    "## import random\n",
    "# myList = []\n",
    "# for i in range (0,10):\n",
    "    # print (i, random.randint(3,9))\n",
    "# myList = [11, 12, 13, 14, 15, 16, 17, 18, 19, 20, 21]\n",
    "myList = [2, 3, 1, 4, 6, 8, 9, 10, 12, 3, 4]\n",
    "print (\"Origial List of Elements:\", myList)\n",
    "myList.sort()\n",
    "print (\"Sorted List of Elements:\", myList)\n",
    "n = int(len(myList))\n",
    "# print (len(myList))\n",
    "if int(len(myList))%2 != 0:\n",
    "    print (\"Number of Elements in the list:\", n)\n",
    "    print (\"Quartile 1 (Q1)\", myList[int((n)*0.25)])\n",
    "    print (\"Quartile 2 (Q2)\", myList[int((n)*0.5)])\n",
    "    print (\"Quartile 3 (Q3)\", myList[int((n)*0.75)])\n",
    "    print (\"Interquartile Range (IQR):\", (myList[int((n)*0.75)] - myList[int((n)*0.25)]))\n",
    "\n",
    "print (\"\\n\")\n",
    "myList = [1, 2, 3, 4, 4, 5, 6, 6, 7, 8, 8, 9]\n",
    "print (\"Origial List of Elements:\", myList)\n",
    "myList.sort()\n",
    "print (\"Sorted List of Elements:\", myList)\n",
    "n = int(len(myList))\n",
    "if int(len(myList))%2 == 0:\n",
    "    print (\"Number of Elements in the list:\", n)\n",
    "    print (\"Quartile 1 (Q1)\", ( myList[int((n-1)*0.25)] + myList[int((n)*0.25)] ) /2 )\n",
    "    print (\"Quartile 2 (Q2)\", ( myList[int((n-1)*0.5)] + myList[int((n)*0.5)] ) /2 )\n",
    "    print (\"Quartile 3 (Q3)\", ( myList[int((n-1)*0.75)] + myList[int((n)*0.75)] ) /2 )\n",
    "    print (\"Interquartile Range (IQR)\", ( ( myList[int((n-1)*0.75)] + myList[int((n)*0.75)] ) /2 ) - ( ( myList[int((n-1)*0.25)] + myList[int((n)*0.25)] ) /2 ))"
   ]
  },
  {
   "cell_type": "code",
   "execution_count": 130,
   "metadata": {},
   "outputs": [
    {
     "name": "stdout",
     "output_type": "stream",
     "text": [
      "Enter number of random integers to generate: 18\n",
      "Origial List of Elements: [3, 7, 6, 5, 7, 9, 7, 5, 7, 6, 6, 5, 6, 9, 4, 3, 9, 8]\n",
      "Sorted List of Elements: [3, 3, 4, 5, 5, 5, 6, 6, 6, 6, 7, 7, 7, 7, 8, 9, 9, 9]\n",
      "Number of Elements in the list: 18\n",
      "Quartile 1 (Q1) 5\n",
      "Quartile 2 (Q2) 6\n",
      "Quartile 3 (Q3) 7\n",
      "Interquartile Range (IQR): 2\n",
      "\n",
      "\n"
     ]
    }
   ],
   "source": [
    "# Code snippet to find three quarantiles (Q1, Q2 & Q3) of a given data set\n",
    "# The code also derives \"InterQuartile Range (IQR)\"\n",
    "\n",
    "import random\n",
    "num = input (\"Enter number of random integers to generate: \")\n",
    "myList = []\n",
    "try:\n",
    "    for i in range (0, int(num)):\n",
    "        myList.append (random.randint(3,9))\n",
    "    print (\"Origial List of Elements:\", myList)\n",
    "    myList.sort()\n",
    "    print (\"Sorted List of Elements:\", myList)\n",
    "    n = int(len(myList))\n",
    "    print (\"Number of Elements in the list:\", n)\n",
    "    if n != 0:\n",
    "        print (\"Quartile 1 (Q1)\", myList[int((n)*0.25)])\n",
    "        print (\"Quartile 2 (Q2)\", myList[int((n)*0.5)])\n",
    "        print (\"Quartile 3 (Q3)\", myList[int((n)*0.75)])\n",
    "        print (\"Interquartile Range (IQR):\", (myList[int((n)*0.75)] - myList[int((n)*0.25)]))\n",
    "    print (\"\\n\")\n",
    "    if n == 0:\n",
    "        print (\"Quartile 1 (Q1)\", ( myList[int((n-1)*0.25)] + myList[int((n)*0.25)] ) /2 )\n",
    "        print (\"Quartile 2 (Q2)\", ( myList[int((n-1)*0.5)] + myList[int((n)*0.5)] ) /2 )\n",
    "        print (\"Quartile 3 (Q3)\", ( myList[int((n-1)*0.75)] + myList[int((n)*0.75)] ) /2 )\n",
    "        print (\"Interquartile Range (IQR)\", ( ( myList[int((n-1)*0.75)] + myList[int((n)*0.75)] ) /2 ) - \\\n",
    "               ( ( myList[int((n-1)*0.25)] + myList[int((n)*0.25)] ) /2 ))\n",
    "\n",
    "except ValueError: \n",
    "    print (\"Error: You have not entered an integer value\")"
   ]
  },
  {
   "cell_type": "code",
   "execution_count": 131,
   "metadata": {},
   "outputs": [
    {
     "name": "stdout",
     "output_type": "stream",
     "text": [
      "Enter number of random integers to generate: 18\n",
      "Origial List of Elements: [5, 9, 3, 7, 9, 8, 8, 8, 5, 8, 9, 5, 5, 8, 8, 6, 6, 6]\n",
      "Sorted List of Elements: [3, 5, 5, 5, 5, 6, 6, 6, 7, 8, 8, 8, 8, 8, 8, 9, 9, 9]\n",
      "Number of Elements in the list: 18\n",
      "Quartile 1 (Q1) 5\n",
      "Quartile 2 (Q2) 8\n",
      "Quartile 3 (Q3) 8\n",
      "Interquartile Range (IQR): 3\n",
      "\n",
      "\n"
     ]
    }
   ],
   "source": [
    "# Code snippet to find three quarantiles (Q1, Q2 & Q3) of a given data set\n",
    "# The code also derives \"InterQuartile Range (IQR)\"\n",
    "\n",
    "import random\n",
    "num = input (\"Enter number of random integers to generate: \")\n",
    "myList = []\n",
    "try:\n",
    "    for i in range (0, int(num)):\n",
    "        myList.append (random.randint(3,9))\n",
    "    print (\"Origial List of Elements:\", myList)\n",
    "    myList.sort()\n",
    "    print (\"Sorted List of Elements:\", myList)\n",
    "    n = int(len(myList))\n",
    "    print (\"Number of Elements in the list:\", n)\n",
    "    if n != 0:\n",
    "        print (\"Quartile 1 (Q1)\", myList[int((n)*0.25)])\n",
    "        print (\"Quartile 2 (Q2)\", myList[int((n)*0.5)])\n",
    "        print (\"Quartile 3 (Q3)\", myList[int((n)*0.75)])\n",
    "        print (\"Interquartile Range (IQR):\", (myList[int((n)*0.75)] - myList[int((n)*0.25)]))\n",
    "    print (\"\\n\")\n",
    "    if n == 0:\n",
    "        print (\"Quartile 1 (Q1)\", ( myList[int((n-1)*0.25)] + myList[int((n)*0.25)] ) /2 )\n",
    "        print (\"Quartile 2 (Q2)\", ( myList[int((n-1)*0.5)] + myList[int((n)*0.5)] ) /2 )\n",
    "        print (\"Quartile 3 (Q3)\", ( myList[int((n-1)*0.75)] + myList[int((n)*0.75)] ) /2 )\n",
    "        print (\"Interquartile Range (IQR)\", ( ( myList[int((n-1)*0.75)] + myList[int((n)*0.75)] ) /2 ) - \\\n",
    "               ( ( myList[int((n-1)*0.25)] + myList[int((n)*0.25)] ) /2 ))\n",
    "except ValueError: \n",
    "    print (\"Error: You have not entered an integer value\")"
   ]
  }
 ],
 "metadata": {
  "kernelspec": {
   "display_name": "Python 3",
   "language": "python",
   "name": "python3"
  },
  "language_info": {
   "codemirror_mode": {
    "name": "ipython",
    "version": 3
   },
   "file_extension": ".py",
   "mimetype": "text/x-python",
   "name": "python",
   "nbconvert_exporter": "python",
   "pygments_lexer": "ipython3",
   "version": "3.7.6"
  }
 },
 "nbformat": 4,
 "nbformat_minor": 4
}
