{
 "cells": [
  {
   "cell_type": "code",
   "execution_count": 1,
   "metadata": {},
   "outputs": [
    {
     "data": {
      "application/javascript": [
       "IPython.notebook.set_autosave_interval(30000)"
      ]
     },
     "metadata": {},
     "output_type": "display_data"
    },
    {
     "name": "stdout",
     "output_type": "stream",
     "text": [
      "Autosaving every 30 seconds\n"
     ]
    }
   ],
   "source": [
    "%autosave 30"
   ]
  },
  {
   "cell_type": "code",
   "execution_count": 2,
   "metadata": {},
   "outputs": [
    {
     "name": "stdout",
     "output_type": "stream",
     "text": [
      "Enter number of random integers to generate: 18\n",
      "Origial List of Elements: [7, 14, 5, 15, 12, 4, 3, 15, 13, 5, 18, 18, 8, 14, 7, 18, 16, 10]\n",
      "Sorted List of Elements: [3, 4, 5, 5, 7, 7, 8, 10, 12, 13, 14, 14, 15, 15, 16, 18, 18, 18]\n",
      "Number of Elements in the list: 18\n",
      "Quartile 1 (Q1) 7\n",
      "Quartile 2 (Q2) 13\n",
      "Quartile 3 (Q3) 15\n",
      "Interquartile Range (IQR): 8\n",
      "\n",
      "\n"
     ]
    }
   ],
   "source": [
    "\"\"\"\n",
    "Code snippet to find three quarantiles (Q1, Q2 & Q3) of a given data set\n",
    "The code also derives \"InterQuartile Range (IQR)\"\n",
    "\n",
    "1. The dataset is randomly generated. On execution, the user is requested to input number of random variables he/she desires to generate\n",
    "2. Total number of elements are calculated and based on the results Q1, Q2, Q3 and IQR are derived.\n",
    "3. A small validation for user input value is incorporated.\n",
    "4. The results from the code are checked and calibrated with help of 'QUARTILE.INC' MS Excel inbuilt function\n",
    "\"\"\"\n",
    "\n",
    "import random\n",
    "num = input (\"Enter number of random integers to generate: \")\n",
    "myList = []\n",
    "try:\n",
    "    for i in range (0, int(num)):\n",
    "        myList.append (random.randint(3,18))\n",
    "    print (\"Origial List of Elements:\", myList)\n",
    "    myList.sort()\n",
    "    print (\"Sorted List of Elements:\", myList)\n",
    "    n = int(len(myList))\n",
    "    print (\"Number of Elements in the list:\", n)\n",
    "    if n != 0:\n",
    "        print (\"Quartile 1 (Q1)\", myList[int((n)*0.25)])\n",
    "        print (\"Quartile 2 (Q2)\", myList[int((n)*0.5)])\n",
    "        print (\"Quartile 3 (Q3)\", myList[int((n)*0.75)])\n",
    "        print (\"Interquartile Range (IQR):\", (myList[int((n)*0.75)] - myList[int((n)*0.25)]))\n",
    "    print (\"\\n\")\n",
    "    if n == 0:\n",
    "        print (\"Quartile 1 (Q1)\", ( myList[int((n-1)*0.25)] + myList[int((n)*0.25)] ) /2 )\n",
    "        print (\"Quartile 2 (Q2)\", ( myList[int((n-1)*0.5)] + myList[int((n)*0.5)] ) /2 )\n",
    "        print (\"Quartile 3 (Q3)\", ( myList[int((n-1)*0.75)] + myList[int((n)*0.75)] ) /2 )\n",
    "        print (\"Interquartile Range (IQR)\", ( ( myList[int((n-1)*0.75)] + myList[int((n)*0.75)] ) /2 ) - \\\n",
    "               ( ( myList[int((n-1)*0.25)] + myList[int((n)*0.25)] ) /2 ))\n",
    "except ValueError: \n",
    "    print (\"Error: You have not entered an integer value\")"
   ]
  }
 ],
 "metadata": {
  "kernelspec": {
   "display_name": "Python 3",
   "language": "python",
   "name": "python3"
  },
  "language_info": {
   "codemirror_mode": {
    "name": "ipython",
    "version": 3
   },
   "file_extension": ".py",
   "mimetype": "text/x-python",
   "name": "python",
   "nbconvert_exporter": "python",
   "pygments_lexer": "ipython3",
   "version": "3.7.6"
  }
 },
 "nbformat": 4,
 "nbformat_minor": 4
}
