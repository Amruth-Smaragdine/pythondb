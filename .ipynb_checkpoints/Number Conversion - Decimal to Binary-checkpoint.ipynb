{
 "cells": [
  {
   "cell_type": "code",
   "execution_count": 1,
   "metadata": {},
   "outputs": [
    {
     "data": {
      "application/javascript": [
       "IPython.notebook.set_autosave_interval(30000)"
      ]
     },
     "metadata": {},
     "output_type": "display_data"
    },
    {
     "name": "stdout",
     "output_type": "stream",
     "text": [
      "Autosaving every 30 seconds\n"
     ]
    }
   ],
   "source": [
    "%autosave 30"
   ]
  },
  {
   "cell_type": "code",
   "execution_count": 3,
   "metadata": {},
   "outputs": [],
   "source": [
    "# Function to convert a 'Decimal' value to 'Binary' value.\n",
    "# Version - 01\n",
    "\n",
    "def DecToBin(n):\n",
    "    \"\"\"\n",
    "    Function to convert 'Decimal' to 'Binary' & print the result.\n",
    "    \"\"\"\n",
    "    if n > 0:\n",
    "        print (n % 2)\n",
    "        DecToBin (n // 2)\n",
    "    else:\n",
    "        print (\"Done\")\n",
    "        \n",
    "# End Note: It is observed that when this function is called the output can be stored to variable of data type 'None'\n",
    "# 'var = count (170)'' will result in: 0 1 0 1 0 1 0 1 (in different lines) \n",
    "# 'print (type(var))' will result in: '<class 'NoneType'>'"
   ]
  },
  {
   "cell_type": "code",
   "execution_count": 8,
   "metadata": {},
   "outputs": [
    {
     "name": "stdout",
     "output_type": "stream",
     "text": [
      "1\n",
      "0\n",
      "0\n",
      "1\n",
      "Done\n"
     ]
    }
   ],
   "source": [
    "DecToBin (9)"
   ]
  },
  {
   "cell_type": "code",
   "execution_count": 3,
   "metadata": {},
   "outputs": [],
   "source": [
    "# Function to convert a 'Decimal' value to 'Binary' value.\n",
    "# Version - 02\n",
    "\n",
    "myList = []\n",
    "def DecToBin(n):\n",
    "    \"\"\"\n",
    "    This function will convert 'Decimal' value to 'Binary' value.\n",
    "    It stores the generated 'Binary Digits' to a 'list'.\n",
    "    It returns the list when triggered.\n",
    "    \"\"\"\n",
    "    if n > 0:\n",
    "        DecToBin (n // 2)\n",
    "        myList.append(n % 2)\n",
    "    else:\n",
    "        myList.clear()\n",
    "    return myList"
   ]
  },
  {
   "cell_type": "code",
   "execution_count": 4,
   "metadata": {},
   "outputs": [
    {
     "name": "stdout",
     "output_type": "stream",
     "text": [
      "[1, 0, 1, 0, 1, 0, 1, 0]\n",
      "<class 'list'>\n"
     ]
    }
   ],
   "source": [
    "var = DecToBin (170)\n",
    "print (var)\n",
    "print (type(var))"
   ]
  },
  {
   "cell_type": "code",
   "execution_count": 5,
   "metadata": {},
   "outputs": [],
   "source": [
    "# Function to convert a 'Decimal' value to 'Binary' value.\n",
    "\n",
    "myList = []\n",
    "def DecToBin(n):\n",
    "    \"\"\"\n",
    "    This function will convert 'Decimal' value to 'Binary' value.\n",
    "    It stores the generated 'Binary Digits' to a 'list'.\n",
    "    It returns the list when triggered.\n",
    "    \"\"\"\n",
    "    if n > 0:\n",
    "        DecToBin (n // 2)\n",
    "        myList.append(n % 2)\n",
    "    else:\n",
    "        myList.clear()\n",
    "    return myList"
   ]
  },
  {
   "cell_type": "code",
   "execution_count": 6,
   "metadata": {},
   "outputs": [
    {
     "name": "stdout",
     "output_type": "stream",
     "text": [
      "[1, 0, 1, 0, 1, 0, 1, 0]\n",
      "<class 'list'>\n",
      "[1, 0, 1, 0, 1, 0, 1, 0]\n",
      "<class 'str'>\n",
      "10101010\n"
     ]
    }
   ],
   "source": [
    "# The 'list' is not iterable to a string with help of '.join()' function (or) '+' (Concatenation) operator\n",
    "\n",
    "myList = DecToBin (170)\n",
    "print (myList)\n",
    "print (type(myList))\n",
    "myStr = str(myList)\n",
    "print (myStr)\n",
    "print (type(myStr))\n",
    "myStr = myStr.replace(', ', '')\n",
    "myStr = myStr.replace('[', '')\n",
    "myStr = myStr.replace(']', '')\n",
    "print (myStr)"
   ]
  }
 ],
 "metadata": {
  "kernelspec": {
   "display_name": "Python 3",
   "language": "python",
   "name": "python3"
  },
  "language_info": {
   "codemirror_mode": {
    "name": "ipython",
    "version": 3
   },
   "file_extension": ".py",
   "mimetype": "text/x-python",
   "name": "python",
   "nbconvert_exporter": "python",
   "pygments_lexer": "ipython3",
   "version": "3.7.6"
  }
 },
 "nbformat": 4,
 "nbformat_minor": 4
}
