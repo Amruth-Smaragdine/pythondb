{
 "cells": [
  {
   "cell_type": "markdown",
   "metadata": {},
   "source": [
    "# Python Fundamentals: Keywords, Identifiers & Variables"
   ]
  },
  {
   "cell_type": "markdown",
   "metadata": {},
   "source": [
    "### Package 'Keyword' & its functions: 'kwlist' & 'iskeyword'"
   ]
  },
  {
   "cell_type": "code",
   "execution_count": 1,
   "metadata": {},
   "outputs": [
    {
     "data": {
      "text/plain": [
       "False"
      ]
     },
     "execution_count": 1,
     "metadata": {},
     "output_type": "execute_result"
    }
   ],
   "source": [
    "import keyword          # This will import package 'keyword'\n",
    "keyword.kwlist          # This will trigger the function 'kwlist' and prints it.\n",
    "keyword.iskeyword('amruth')\n",
    "# Not sure about the functionality of 'main' funciton in 'keyword' package"
   ]
  },
  {
   "cell_type": "markdown",
   "metadata": {},
   "source": [
    "### Identifiers"
   ]
  },
  {
   "cell_type": "markdown",
   "metadata": {},
   "source": [
    "An identifier has to start with an alphabet and can contain numbers and special character '_' (an underscore).\n",
    "\n",
    "It cannot start with a number and a special characters. \n",
    "\n",
    "All special characters are not allowed except and underscore.\n",
    "\n",
    "Allowed:\n",
    "Sequence of letters either in lowercase (a to z) or uppercase (A to Z). We can also mix up digits (0 to 9) or an underscore (_) while writing an identifier."
   ]
  },
  {
   "cell_type": "code",
   "execution_count": 2,
   "metadata": {},
   "outputs": [
    {
     "ename": "NameError",
     "evalue": "name 'var' is not defined",
     "output_type": "error",
     "traceback": [
      "\u001b[1;31m---------------------------------------------------------------------------\u001b[0m",
      "\u001b[1;31mNameError\u001b[0m                                 Traceback (most recent call last)",
      "\u001b[1;32m<ipython-input-2-1efea4a15773>\u001b[0m in \u001b[0;36m<module>\u001b[1;34m\u001b[0m\n\u001b[0;32m      1\u001b[0m \u001b[1;31m# Valid Identifiers\u001b[0m\u001b[1;33m\u001b[0m\u001b[1;33m\u001b[0m\u001b[1;33m\u001b[0m\u001b[0m\n\u001b[1;32m----> 2\u001b[1;33m \u001b[0mvar\u001b[0m\u001b[1;33m\u001b[0m\u001b[1;33m\u001b[0m\u001b[0m\n\u001b[0m\u001b[0;32m      3\u001b[0m \u001b[0mvar01\u001b[0m\u001b[1;33m\u001b[0m\u001b[1;33m\u001b[0m\u001b[0m\n\u001b[0;32m      4\u001b[0m \u001b[0mVar_02\u001b[0m\u001b[1;33m\u001b[0m\u001b[1;33m\u001b[0m\u001b[0m\n\u001b[0;32m      5\u001b[0m \u001b[0mIterate\u001b[0m\u001b[1;33m\u001b[0m\u001b[1;33m\u001b[0m\u001b[0m\n",
      "\u001b[1;31mNameError\u001b[0m: name 'var' is not defined"
     ]
    }
   ],
   "source": [
    "# Valid Identifiers\n",
    "var\n",
    "var01\n",
    "Var_02\n",
    "Iterate\n",
    "Item"
   ]
  },
  {
   "cell_type": "code",
   "execution_count": null,
   "metadata": {
    "scrolled": true
   },
   "outputs": [],
   "source": [
    "print ('Identifier Var is a valid identifier:', 'Var'.isidentifier())\n",
    "print ('Identifier 0Var is a valid identifier:', '0Var'.isidentifier())\n",
    "print ('Identifier Var@ is a valid identifier:', 'Var@'.isidentifier())"
   ]
  },
  {
   "cell_type": "markdown",
   "metadata": {},
   "source": [
    "### Variables"
   ]
  },
  {
   "cell_type": "markdown",
   "metadata": {},
   "source": [
    "In the statement 'testval = 9', 'testval' is called a 'variable' and '9' is called an 'object'. \n",
    "\n",
    "Variables that are declared with multiple values are assigned different IDs, but different variable with same value assigned to each of them do not get different IDs, they receive same ID.\n",
    "\n",
    "In the demonstration below, please note that variables gets different IDs when its assigned value is not the same (In this case 'AddVal1' is assigned 12 & 13 in two different assignment statements, hence gets two IDs). \n",
    "\n",
    "Different variables with same value get the same ID (In this case, 'tstvar1' and 'tstvar2' are assigned a value of 9, gets the same ID)\n",
    "\n",
    "Different variables with different values get different IDs (In this case, 'variable1' and 'variable2' are assigned values of '3' and '6' respectively, are assigned different IDs.\n",
    "\n",
    "ID in all the above statements is a reference to memory location on the machine assigned by Python compiler."
   ]
  },
  {
   "cell_type": "code",
   "execution_count": null,
   "metadata": {},
   "outputs": [],
   "source": [
    "AddVal1 = 12\n",
    "print (\"Value of AddVal1:\", AddVal1, \"ID of AddVal1\", id(AddVal1))\n",
    "AddVal1 = 13\n",
    "print (\"Value of AddVal1:\", AddVal1, \"ID of AddVal1\", id(AddVal1))"
   ]
  },
  {
   "cell_type": "code",
   "execution_count": null,
   "metadata": {},
   "outputs": [],
   "source": [
    "tstvar1 = 9\n",
    "print (\"Value of tstvar1:\", tstvar1, \"ID of tstvar1\", id(tstvar1))\n",
    "tstvar2 = 9\n",
    "print (\"Value of tstvar1:\", tstvar2, \"ID of tstvar2\", id(tstvar2))"
   ]
  },
  {
   "cell_type": "code",
   "execution_count": null,
   "metadata": {},
   "outputs": [],
   "source": [
    "variable1 = 3\n",
    "print (\"Value of variable1:\", variable1, \"ID of variable1\", id(variable1))\n",
    "variable2 = 6\n",
    "print (\"Value of variable2:\", variable2, \"ID of variable2\", id(variable2))"
   ]
  },
  {
   "cell_type": "markdown",
   "metadata": {},
   "source": [
    "### Types of Variables"
   ]
  },
  {
   "cell_type": "code",
   "execution_count": null,
   "metadata": {},
   "outputs": [],
   "source": [
    "IntTypeVar = 9\n",
    "print (\"Variable 'IntTypeVar' is assigned a value: \", IntTypeVar, \"and is of type: \", type(IntTypeVar))\n",
    "FloatTypeVar = 3.6\n",
    "print (\"Variable 'FloatTypeVar' is assigned a value: \", FloatTypeVar, \"and is of type: \", type(FloatTypeVar))\n",
    "StringTypeVar = 'Smaragdine'\n",
    "print (\"Variable 'StringTypeVar' is assigned a value: \", StringTypeVar, \"and is of type: \", type(StringTypeVar))\n",
    "ListTypeVar = [9, 3.6, 'Smaragdine']\n",
    "print (\"Variable 'ListTypeVar' is assigned a value: \", ListTypeVar, \"and is of type: \", type(ListTypeVar))\n",
    "TupleTypeVar = (9, 3.6, 'Smaragdine')\n",
    "print (\"Variable 'TuppleTypeVar' is assigned a value: \", TuppleTypeVar, \"and is of type: \", type(TuppleTypeVar))\n",
    "SetTypeVar = {3, 6, 9}\n",
    "print (\"Variable 'SetTypeVar' is assigned a value: \", SetTypeVar, \"and is of type: \", type(SetTypeVar))\n",
    "DictTypeVar = {'c' : 3, 'f' : 6, 'i' : 9}\n",
    "print (\"Variable 'DictTypeVar' is assigned a value: \", DictTypeVar, \"and is of type: \", type(DictTypeVar))"
   ]
  },
  {
   "cell_type": "code",
   "execution_count": null,
   "metadata": {},
   "outputs": [],
   "source": [
    "# Following will help us display 'objects' of different 'types' of 'variables'\n",
    "print (IntTypeVar, FloatTypeVar, StringTypeVar, ListTypeVar[0], TupleTypeVar[0], SetTypeVar, DictTypeVar['c'])"
   ]
  },
  {
   "cell_type": "code",
   "execution_count": 8,
   "metadata": {},
   "outputs": [
    {
     "name": "stdout",
     "output_type": "stream",
     "text": [
      "Values in set (18, 21, 24) <class 'tuple'>\n",
      "Values in set (12, 15) <class 'tuple'>\n",
      "Values in set 3.6 <class 'float'>\n",
      "Values in set 3 <class 'int'>\n",
      "Values in set 9 <class 'str'>\n"
     ]
    }
   ],
   "source": [
    "# This is a small code to identify the type of object in a set.\n",
    "# This does not have any relation to the present topic of discussion (Keywords, Identifiers & Variables).\n",
    "# Objects in a set cannot be accessed with their index values, but they can be stored to another variable (Example List) and can be accessed using index values\n",
    "# A set can hold an integer, float, string and a tuple type object.\n",
    "set_01 = {3, 3.6, '9', (12, 15), (18, 21, 24)}\n",
    "for eachobject in set_01:\n",
    "    print (\"Values in set\", eachobject, type(eachobject))"
   ]
  }
 ],
 "metadata": {
  "kernelspec": {
   "display_name": "Python 3",
   "language": "python",
   "name": "python3"
  },
  "language_info": {
   "codemirror_mode": {
    "name": "ipython",
    "version": 3
   },
   "file_extension": ".py",
   "mimetype": "text/x-python",
   "name": "python",
   "nbconvert_exporter": "python",
   "pygments_lexer": "ipython3",
   "version": "3.7.6"
  }
 },
 "nbformat": 4,
 "nbformat_minor": 4
}
