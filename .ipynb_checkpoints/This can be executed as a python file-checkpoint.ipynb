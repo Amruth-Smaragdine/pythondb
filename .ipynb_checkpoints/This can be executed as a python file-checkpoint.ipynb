{
 "cells": [
  {
   "cell_type": "code",
   "execution_count": null,
   "metadata": {},
   "outputs": [],
   "source": [
    "import tkinter as tk \n",
    "from tkinter import ttk \n",
    "  \n",
    "# Creating tkinter window \n",
    "window = tk.Tk() \n",
    "window.geometry('350x250') \n",
    "# Label \n",
    "ttk.Label(window, text = \"Select the Month :\",  \n",
    "        font = (\"Times New Roman\", 10)).grid(column = 0,  \n",
    "        row = 15, padx = 10, pady = 25) \n",
    "  \n",
    "n = tk.StringVar() \n",
    "monthchoosen = ttk.Combobox(window, width = 27,  \n",
    "                            textvariable = n) \n",
    "  \n",
    "# Adding combobox drop down list \n",
    "monthchoosen['values'] = (' January',  \n",
    "                          ' February', \n",
    "                          ' March', \n",
    "                          ' April', \n",
    "                          ' May', \n",
    "                          ' June',  \n",
    "                          ' July',  \n",
    "                          ' August',  \n",
    "                          ' September',  \n",
    "                          ' October',  \n",
    "                          ' November',  \n",
    "                          ' December') \n",
    "  \n",
    "monthchoosen.grid(column = 1, row = 15) \n",
    "  \n",
    "# Shows february as a default value \n",
    "monthchoosen.current(1)  \n",
    "window.mainloop()"
   ]
  }
 ],
 "metadata": {
  "kernelspec": {
   "display_name": "Python 3",
   "language": "python",
   "name": "python3"
  },
  "language_info": {
   "codemirror_mode": {
    "name": "ipython",
    "version": 3
   },
   "file_extension": ".py",
   "mimetype": "text/x-python",
   "name": "python",
   "nbconvert_exporter": "python",
   "pygments_lexer": "ipython3",
   "version": "3.7.6"
  }
 },
 "nbformat": 4,
 "nbformat_minor": 4
}
