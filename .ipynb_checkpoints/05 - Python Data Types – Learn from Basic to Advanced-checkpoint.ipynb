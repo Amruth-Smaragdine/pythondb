{
 "cells": [
  {
   "cell_type": "code",
   "execution_count": 1,
   "metadata": {},
   "outputs": [
    {
     "data": {
      "application/javascript": [
       "IPython.notebook.set_autosave_interval(30000)"
      ]
     },
     "metadata": {},
     "output_type": "display_data"
    },
    {
     "name": "stdout",
     "output_type": "stream",
     "text": [
      "Autosaving every 30 seconds\n"
     ]
    }
   ],
   "source": [
    "%autosave 30"
   ]
  },
  {
   "cell_type": "markdown",
   "metadata": {},
   "source": [
    "# Python Data Types – Learn from Basic to Advanced"
   ]
  },
  {
   "cell_type": "markdown",
   "metadata": {},
   "source": [
    "### Types of Data:"
   ]
  },
  {
   "cell_type": "raw",
   "metadata": {},
   "source": [
    "1. Boolean\n",
    "2. Numbers\n",
    "    a. Integers\n",
    "    b. Decimal / Float\n",
    "    c. Complex\n",
    "3. Strings\n",
    "    a. Regular\n",
    "    b. Unicode\n",
    "4. Bytes\n",
    "5. Lists\n",
    "6. Tuples\n",
    "7. Sets\n",
    "8. Dictionaries"
   ]
  },
  {
   "cell_type": "markdown",
   "metadata": {},
   "source": [
    "#### Boolean"
   ]
  },
  {
   "cell_type": "code",
   "execution_count": 343,
   "metadata": {},
   "outputs": [
    {
     "name": "stdout",
     "output_type": "stream",
     "text": [
      "Type of variable 'a' with a value 'True' is: <class 'bool'>\n",
      "Type of variable 'a' with a value 'False' is: <class 'bool'>\n"
     ]
    }
   ],
   "source": [
    "# This piece of code will help us understand the 'Boolean' data type \n",
    "# Boolean data type can have only two values 'True' (or) 'False'\n",
    "a = True\n",
    "print (\"Type of variable 'a' with a value '{}' is:\".format(a), type (a)) \n",
    "a = False\n",
    "print (\"Type of variable 'a' with a value '{}' is:\".format(a), type (a)) \n",
    "\n",
    "del a"
   ]
  },
  {
   "cell_type": "markdown",
   "metadata": {},
   "source": [
    "#### Numbers - Integers, Float & Complex"
   ]
  },
  {
   "cell_type": "code",
   "execution_count": 344,
   "metadata": {},
   "outputs": [
    {
     "name": "stdout",
     "output_type": "stream",
     "text": [
      "Variable 'a' with a value '1' holds <class 'int'> type of data.\n",
      "Variable 'a' with a value '1.0' holds <class 'float'> type of data.\n",
      "Variable 'a' with a value '(3+6j)' holds <class 'complex'> type of data.\n"
     ]
    }
   ],
   "source": [
    "# Following piece of code will help us understand different types of data type 'Numbers'\n",
    "a = 1\n",
    "print (\"Variable 'a' with a value '{}' holds\".format(a), type(a), \"type of data.\")\n",
    "a = 1.0\n",
    "print (\"Variable 'a' with a value '{}' holds\".format(a), type(a), \"type of data.\")\n",
    "a = 3 + 6j\n",
    "print (\"Variable 'a' with a value '{}' holds\".format(a), type(a), \"type of data.\")\n",
    "\n",
    "del a"
   ]
  },
  {
   "cell_type": "markdown",
   "metadata": {},
   "source": [
    "#### Strings"
   ]
  },
  {
   "cell_type": "code",
   "execution_count": 349,
   "metadata": {},
   "outputs": [
    {
     "name": "stdout",
     "output_type": "stream",
     "text": [
      "Variable 'a' with the value 'Smaragdine Technologies Pvt. Ltd.' is of <class 'str'> data type\n",
      "\n",
      "Length of string 'a' is: 10 \n",
      "\n",
      "Element of string 'a' are:\n",
      "S\n",
      "m\n",
      "a\n",
      "r\n",
      "a\n",
      "g\n",
      "d\n",
      "i\n",
      "n\n",
      "e\n",
      "\n",
      "\n",
      "String variable 'a' holds following lines of text:\n",
      "This is a multi-line string.\n",
      "This is the first sentence\n",
      "This is second one\n",
      "and this one is the Third. \n",
      "\n",
      "String variable 'a' holds unicode data. The converted String: Россия <class 'str'>\n"
     ]
    }
   ],
   "source": [
    "# Following piece of code will help us understand data type 'String'\n",
    "# A string can be assigned to a variable using single / double / triple quotes.\n",
    "# There is no difference if a string variable is assigned a value either in single (or) in double quotes.\n",
    "# If a String variable is assigned in 'triple' quotes the variable can take a string with multiple lines.\n",
    "a = 'Smaragdine Technologies Pvt. Ltd.'\n",
    "print (\"Variable 'a' with the value '{}' is of\".format(a), type(a), \"data type\\n\")\n",
    "\n",
    "# String is a collection of elements that can be split and can be stored into a 'list' data type\n",
    "a = \"Smaragdine\"\n",
    "print (\"Length of string 'a' is:\", len(a), \"\\n\")\n",
    "print (\"Element of string 'a' are:\")\n",
    "for each in range (0, len(a)):\n",
    "    print (a[each])\n",
    "print (\"\\n\")\n",
    "\n",
    "a = \"\"\"This is a multi-line string.\n",
    "This is the first sentence\n",
    "This is second one\n",
    "and this one is the Third.\"\"\"\n",
    "print (\"String variable 'a' holds following lines of text:\")\n",
    "print (a, \"\\n\")\n",
    "\n",
    "# Following is a representation of unicode string, though it's class is of type 'str'\n",
    "a = u'\\u0420\\u043e\\u0441\\u0441\\u0438\\u044f'\n",
    "print (\"String variable 'a' holds unicode data. The converted String:\", a, type(a))\n",
    "\n",
    "del a, each"
   ]
  },
  {
   "cell_type": "markdown",
   "metadata": {},
   "source": [
    "#### Bytes"
   ]
  },
  {
   "cell_type": "code",
   "execution_count": 346,
   "metadata": {},
   "outputs": [
    {
     "name": "stdout",
     "output_type": "stream",
     "text": [
      "Variable 'a' with value 'b'\\x00\\x00\\x00'' belongs to  <class 'bytes'> type of data\n",
      "Variable 'a' with value 'b'\\x03\\x06\\t\\x0c\\x0f\\x12'' belongs to <class 'bytes'> type of data\n",
      "Variable 'a' with value 'b'\\x03\\x06\\t\\x0c\\x0f\\x12'' belongs to <class 'bytes'> type of data\n"
     ]
    }
   ],
   "source": [
    "# Following piece of code will help us understand data type 'Bytes'\n",
    "# Needs more research on it's usage in code. \n",
    "a = bytes(3)\n",
    "print (\"Variable 'a' with value '{}' belongs to \".format(a), type(a), \"type of data\")\n",
    "\n",
    "# Data type 'Bytes' can be declared using either square (or) flower brackets\n",
    "a = bytes([3, 6, 9, 12, 15, 18])\n",
    "print (\"Variable 'a' with value '{}' belongs to\".format(a), type(a), \"type of data\")\n",
    "a = bytes ({3, 6, 9, 12, 15, 18})\n",
    "print (\"Variable 'a' with value '{}' belongs to\".format(a), type(a), \"type of data\")\n",
    "\n",
    "del a"
   ]
  },
  {
   "cell_type": "markdown",
   "metadata": {},
   "source": [
    "#### Lists"
   ]
  },
  {
   "cell_type": "code",
   "execution_count": 347,
   "metadata": {},
   "outputs": [
    {
     "name": "stdout",
     "output_type": "stream",
     "text": [
      "Varialbe 'a' with value '[3, 6, 9, 12, 15, 18, 21, 24]' belongs to <class 'list'> data type.\n",
      "\n"
     ]
    }
   ],
   "source": [
    "# Following piece of code will help us understand data type 'List'\n",
    "a = [3, 6, 9, 12, 15, 18, 21, 24]\n",
    "print (\"Varialbe 'a' with value '{}' belongs to\".format(a), type(a), \"data type.\\n\")\n",
    "\n",
    "# It is always suggested to remove the variable on completion of activity.\n",
    "# This will reduce the usage of memory locations \n",
    "\n",
    "del a"
   ]
  },
  {
   "cell_type": "markdown",
   "metadata": {},
   "source": [
    "###### Lists - Helpful functions."
   ]
  },
  {
   "cell_type": "code",
   "execution_count": 333,
   "metadata": {},
   "outputs": [
    {
     "name": "stdout",
     "output_type": "stream",
     "text": [
      "Total number of elements in the list variable 'a' are: 8 \n",
      "\n",
      "'3' is the first element and '24' is last element of the list variable 'a'\n",
      "\n",
      "Second Element of list 'a' is: '6'\n",
      "Seventh Element of list 'a' is: '21'\n",
      "Elements of list 'a' from range  second element to sixth element is: [6, 9, 12, 15, 18] \n",
      "\n",
      "Elements with index value '2' to end of the list: [9, 12, 15, 18, 21, 24]\n",
      "Last three elements of the list: [18, 21, 24]\n"
     ]
    }
   ],
   "source": [
    "a = [3, 6, 9, 12, 15, 18, 21, 24]\n",
    "\n",
    "# Other useful functions are:\n",
    "print (\"Total number of elements in the list variable 'a' are:\", len(a), \"\\n\")\n",
    "\n",
    "# Accessing first & last  Elements in the list:\n",
    "print (\"'{}' is the first element and '{}' is last element of the list variable 'a'\\n\".format(a[0], a[len(a) - 1]))\n",
    "\n",
    "\"\"\"\n",
    "Accessing elements depending on range in the list:\n",
    "Note: The elements mentioned in the range: 'from' element (included in result) & the 'to' element (excluded in the result).\n",
    "Though we may be under an impression that the result will be from 2nd element to 7th element. \n",
    "In the below example we are trying to extract from 2nd element to 6th element of the list 'a'.\n",
    "Second element in this case is '6' and sixth element is '21', but we can observe that the code fetches 6, 9, 12, 15 & 18\n",
    "a[1] which is '6' in this case is included in the result, but a[6] is 21 which is excluded in the result.\n",
    "\"\"\"\n",
    "print (\"Second Element of list 'a' is: '{}'\".format(a[1]))\n",
    "print (\"Seventh Element of list 'a' is: '{}'\".format(a[6]))\n",
    "print (\"Elements of list 'a' from range  second element to sixth element is:\", a[1:6], \"\\n\")\n",
    "\n",
    "# Following lines demonstrate the way to extract elements from an index position to the end of the list.\n",
    "# Please observe that only the starting index value is mentioned and ending index value is ignored.\n",
    "print (\"Elements with index value '2' to end of the list:\", a[2:])\n",
    "print (\"Last three elements of the list:\", a[-3:])\n",
    "\n",
    "# It is always suggested to remove the variable on completion of activity.\n",
    "# This will reduce the usage of memory locations \n",
    "del a"
   ]
  },
  {
   "cell_type": "code",
   "execution_count": 331,
   "metadata": {},
   "outputs": [
    {
     "name": "stdout",
     "output_type": "stream",
     "text": [
      "List before '.append()' function: [3, 6, 9, 12, 15, 18, 21, 24] \n",
      "\n",
      "Extending the list with help of '.append()' function: [3, 6, 9, 12, 15, 18, 21, 24, 27] \n",
      "\n",
      "List before '.extend' function: [3, 6, 9, 12, 15, 18, 21, 24, 27]\n",
      "List after extending it with three more elements: [3, 6, 9, 12, 15, 18, 21, 24, 27, 1, 2, 3] \n",
      "\n",
      "Resultant list after inserting a value '4.5' at index position '1': [3, 4.5, 6, 9, 12, 15, 18, 21, 24, 27, 1, 2, 3] \n",
      "\n",
      "Number of times an element '4.5' is present in a list: 1 \n",
      "\n",
      "Sequence of list elements before applying reverse function: [3, 4.5, 6, 9, 12, 15, 18, 21, 24, 27, 1, 2, 3] \n",
      "\n",
      "Sequence of list elements after applying reverse function: [3, 2, 1, 27, 24, 21, 18, 15, 12, 9, 6, 4.5, 3] \n",
      "\n",
      "Resutant list after an element '4.5' is removed: [3, 2, 1, 27, 24, 21, 18, 15, 12, 9, 6, 3] \n",
      "\n",
      "Removed last value '3' of the list.\n",
      "Removed value '27' at index '3' of the list\n",
      "List of Elements after '.pop' with value '3': [3, 2, 1, 24, 21, 18, 15, 12, 9, 6] \n",
      "\n",
      "Resultant list after applying '.sort' function: [1, 2, 3, 6, 9, 12, 15, 18, 21, 24] \n",
      "\n",
      "Index number of element '9' in the list is: 4 \n",
      "\n",
      "New list with '.copy' function: [1, 2, 3, 6, 9, 12, 15, 18, 21, 24]\n",
      "ID of the original list: 2518391905160\n",
      "ID of the list newly copied 2518391905352 \n",
      "\n",
      "Resultant list after '.clear()' function: []\n"
     ]
    }
   ],
   "source": [
    "a = [3, 6, 9, 12, 15, 18, 21, 24]\n",
    "\n",
    "# Function '.append' will help us include elements towards the end of a list\n",
    "print (\"List before '.append()' function:\", a, \"\\n\")\n",
    "a.append(27)\n",
    "print (\"Extending the list with help of '.append()' function:\", a, \"\\n\")\n",
    "\n",
    "# With '.append', we will be able to include only one value to the list.\n",
    "# We can append multiple values to the list with the help of '.extend' function\n",
    "print (\"List before '.extend' function:\", a)\n",
    "a.extend([1, 2, 3])\n",
    "print (\"List after extending it with three more elements:\", a, \"\\n\")\n",
    "\n",
    "# Function '.insert' will help us insert an element at the desired index position of a list.\n",
    "a.insert(1, 4.5) \n",
    "print (\"Resultant list after inserting a value '4.5' at index position '1':\", a, \"\\n\")\n",
    "\n",
    "# With the help of function '.count', we can fetch number of times an element gets repeated in the list.\n",
    "print (\"Number of times an element '4.5' is present in a list:\", a.count(4.5), \"\\n\")\n",
    "\n",
    "# .reverse() function has to be used carefully as the changes due to this function are applied on the list.\n",
    "# \n",
    "b = a\n",
    "print (\"Sequence of list elements before applying reverse function:\", b, \"\\n\")\n",
    "a.reverse()\n",
    "print (\"Sequence of list elements after applying reverse function:\", a, \"\\n\")\n",
    "\n",
    "# We can remove an element of a list using '.remove' function\n",
    "a.remove(4.5)\n",
    "print (\"Resutant list after an element '4.5' is removed:\", a, \"\\n\")\n",
    "# What happens if there are multiple repeats of the same element?\n",
    "\n",
    "# There is another way of removing a value from the list using '.pop' function\n",
    "# With no value passed on to the function, pop removes the last element of the list\n",
    "# With a value passed, pop removes the element that holds the index number.\n",
    "print (\"Removed last value '{}' of the list.\".format(a.pop()))\n",
    "print (\"Removed value '{}' at index '3' of the list\".format(a.pop(3)))\n",
    "print (\"List of Elements after '.pop' with value '3':\", a, \"\\n\")\n",
    "\n",
    "# Ascending / Descending sorting of elements is a possibility with help of '.sort' funtion\n",
    "a.sort()\n",
    "print (\"Resultant list after applying '.sort' function:\", a, \"\\n\")\n",
    "\n",
    "# We can make use of '.index' function to fetch index number of an element in list\n",
    "print (\"Index number of element '9' in the list is:\", a.index(9), \"\\n\")\n",
    "\n",
    "# We can copy/clone a list with help of '.copy' function\n",
    "b = a.copy()\n",
    "print (\"New list with '.copy' function:\", b)\n",
    "print (\"ID of the original list:\", id(a))\n",
    "print (\"ID of the list newly copied\", id(b), \"\\n\")\n",
    "\n",
    "# '.clear'function removes all the elements of the list.\n",
    "# The list variable remains with no elements in it.\n",
    "a.clear()\n",
    "print (\"Resultant list after '.clear()' function:\", a)\n",
    "\n",
    "# With the help of 'del' we can completely remove the list \"either it is populated (or) blank\"\n",
    "del a"
   ]
  },
  {
   "cell_type": "markdown",
   "metadata": {},
   "source": [
    "#### Tuples"
   ]
  },
  {
   "cell_type": "code",
   "execution_count": 338,
   "metadata": {},
   "outputs": [
    {
     "name": "stdout",
     "output_type": "stream",
     "text": [
      "Variable 'a' with value '(1, 2, 3, 4, 5, 6)' holds <class 'tuple'> data type.\n"
     ]
    }
   ],
   "source": [
    "# Following piece of code will help us understand data type 'Tuple'\n",
    "a = (1, 2, 3, 4, 5, 6)\n",
    "print (\"Variable 'a' with value '{}' holds\".format(a), type(a), \"data type.\")\n",
    "\n",
    "del a"
   ]
  },
  {
   "cell_type": "markdown",
   "metadata": {},
   "source": [
    "#### Sets"
   ]
  },
  {
   "cell_type": "code",
   "execution_count": 339,
   "metadata": {},
   "outputs": [
    {
     "name": "stdout",
     "output_type": "stream",
     "text": [
      "Variable 'a' with value '{3, 6, 9, 12, 15, 18, 21}' holds <class 'set'> data type.\n"
     ]
    }
   ],
   "source": [
    "# Following piece of code will help us understand data type 'Set'\n",
    "a = {3, 6, 9, 12, 15, 18, 21}\n",
    "print (\"Variable 'a' with value '{}' holds\".format(a), type(a), \"data type.\")\n",
    "\n",
    "del a"
   ]
  },
  {
   "cell_type": "markdown",
   "metadata": {},
   "source": [
    "#### Dictionaries"
   ]
  },
  {
   "cell_type": "code",
   "execution_count": 337,
   "metadata": {},
   "outputs": [
    {
     "name": "stdout",
     "output_type": "stream",
     "text": [
      "Variable 'a' with value '{3: 'Three', 6: 'Six', 9: 'Nine'}' holds <class 'dict'> data type\n"
     ]
    }
   ],
   "source": [
    "# Following piece of code will help us understand data type 'Dictionary'\n",
    "a = {3 : 'Three', 6 : 'Six', 9 : 'Nine'}\n",
    "print (\"Variable 'a' with value '{}' holds\".format(a), type(a), \"data type\")\n",
    "\n",
    "del a"
   ]
  },
  {
   "cell_type": "markdown",
   "metadata": {},
   "source": [
    "##### A few useful tips on different data types"
   ]
  },
  {
   "cell_type": "code",
   "execution_count": 340,
   "metadata": {},
   "outputs": [
    {
     "name": "stdout",
     "output_type": "stream",
     "text": [
      "Variable 'a' with string value 'Smaragdine Technologies Pvt. Ltd.' has length of: 33 characters\n",
      "Variable 'a' with string value 'Smaragdine Technologies Pvt. Ltd.' has '4' words.\n",
      "Variable 'b' with value '['Smaragdine', 'Technologies', 'Pvt.', 'Ltd.']' has '4' elements and is of type: <class 'list'>\n"
     ]
    }
   ],
   "source": [
    "# Strings \n",
    "a = 'Smaragdine Technologies Pvt. Ltd.'\n",
    "print (\"Variable 'a' with string value '{}' has length of:\".format(a), len (a), \"characters\")\n",
    "\n",
    "# Below statement will help variable 'b' store each word as a component of a 'list'\n",
    "b = a.split()\n",
    "\n",
    "# Below statement (Variable c) will help us find the number of elements in the list (Variable b)\n",
    "c = len(a.split())\n",
    "print (\"Variable 'a' with string value '{}' has '{}' words.\".format(a, c))\n",
    "print (\"Variable 'b' with value '{}' has '{}' elements and is of type: {}\".format(b, len(b), type(b)))\n",
    "\n",
    "del a, b, c"
   ]
  },
  {
   "cell_type": "code",
   "execution_count": 341,
   "metadata": {},
   "outputs": [
    {
     "name": "stdout",
     "output_type": "stream",
     "text": [
      "Binary value of variable 'a' carrying value '255' is: 0b11111111\n",
      "Integer value of binary value '0b11111111' is: 255\n",
      "Integer value of binary value '0b10101010' is: 170\n"
     ]
    }
   ],
   "source": [
    "# Integers - Following two lines of code will help us convert an 'integer' to 'binary' value\n",
    "a = 255\n",
    "print (\"Binary value of variable 'a' carrying value '{}' is:\".format(a), bin(a))\n",
    "\n",
    "# Integers - Following two lines of code will help us convert a 'binary' to 'integer' value.\n",
    "# Note: Binary value is stored with a '0b' at the begining of the value. \n",
    "# We can print its integer value directly without usage of any function to convert\n",
    "a = 0b11111111\n",
    "print (\"Integer value of binary value '0b11111111' is:\", a)\n",
    "b = 0b10101010\n",
    "print (\"Integer value of binary value '0b10101010' is:\", b)\n",
    "\n",
    "del a, b"
   ]
  },
  {
   "cell_type": "code",
   "execution_count": 348,
   "metadata": {},
   "outputs": [
    {
     "data": {
      "text/plain": [
       "['In',\n",
       " 'Out',\n",
       " '_',\n",
       " '_100',\n",
       " '_101',\n",
       " '_102',\n",
       " '_103',\n",
       " '_104',\n",
       " '_107',\n",
       " '_110',\n",
       " '_112',\n",
       " '_113',\n",
       " '_114',\n",
       " '_118',\n",
       " '_119',\n",
       " '_125',\n",
       " '_126',\n",
       " '_129',\n",
       " '_135',\n",
       " '_136',\n",
       " '_137',\n",
       " '_139',\n",
       " '_147',\n",
       " '_148',\n",
       " '_149',\n",
       " '_150',\n",
       " '_151',\n",
       " '_152',\n",
       " '_153',\n",
       " '_154',\n",
       " '_155',\n",
       " '_156',\n",
       " '_157',\n",
       " '_158',\n",
       " '_159',\n",
       " '_166',\n",
       " '_167',\n",
       " '_168',\n",
       " '_169',\n",
       " '_191',\n",
       " '_192',\n",
       " '_214',\n",
       " '_217',\n",
       " '_219',\n",
       " '_243',\n",
       " '_245',\n",
       " '_246',\n",
       " '_247',\n",
       " '_248',\n",
       " '_249',\n",
       " '_342',\n",
       " '_49',\n",
       " '_50',\n",
       " '_51',\n",
       " '_53',\n",
       " '_54',\n",
       " '_55',\n",
       " '_56',\n",
       " '_57',\n",
       " '_58',\n",
       " '_59',\n",
       " '_61',\n",
       " '_63',\n",
       " '_64',\n",
       " '_83',\n",
       " '_98',\n",
       " '_99',\n",
       " '__',\n",
       " '___',\n",
       " '__builtin__',\n",
       " '__builtins__',\n",
       " '__doc__',\n",
       " '__loader__',\n",
       " '__name__',\n",
       " '__package__',\n",
       " '__spec__',\n",
       " '_dh',\n",
       " '_i',\n",
       " '_i1',\n",
       " '_i10',\n",
       " '_i100',\n",
       " '_i101',\n",
       " '_i102',\n",
       " '_i103',\n",
       " '_i104',\n",
       " '_i105',\n",
       " '_i106',\n",
       " '_i107',\n",
       " '_i108',\n",
       " '_i109',\n",
       " '_i11',\n",
       " '_i110',\n",
       " '_i111',\n",
       " '_i112',\n",
       " '_i113',\n",
       " '_i114',\n",
       " '_i115',\n",
       " '_i116',\n",
       " '_i117',\n",
       " '_i118',\n",
       " '_i119',\n",
       " '_i12',\n",
       " '_i120',\n",
       " '_i121',\n",
       " '_i122',\n",
       " '_i123',\n",
       " '_i124',\n",
       " '_i125',\n",
       " '_i126',\n",
       " '_i127',\n",
       " '_i128',\n",
       " '_i129',\n",
       " '_i13',\n",
       " '_i130',\n",
       " '_i131',\n",
       " '_i132',\n",
       " '_i133',\n",
       " '_i134',\n",
       " '_i135',\n",
       " '_i136',\n",
       " '_i137',\n",
       " '_i138',\n",
       " '_i139',\n",
       " '_i14',\n",
       " '_i140',\n",
       " '_i141',\n",
       " '_i142',\n",
       " '_i143',\n",
       " '_i144',\n",
       " '_i145',\n",
       " '_i146',\n",
       " '_i147',\n",
       " '_i148',\n",
       " '_i149',\n",
       " '_i15',\n",
       " '_i150',\n",
       " '_i151',\n",
       " '_i152',\n",
       " '_i153',\n",
       " '_i154',\n",
       " '_i155',\n",
       " '_i156',\n",
       " '_i157',\n",
       " '_i158',\n",
       " '_i159',\n",
       " '_i16',\n",
       " '_i160',\n",
       " '_i161',\n",
       " '_i162',\n",
       " '_i163',\n",
       " '_i164',\n",
       " '_i165',\n",
       " '_i166',\n",
       " '_i167',\n",
       " '_i168',\n",
       " '_i169',\n",
       " '_i17',\n",
       " '_i170',\n",
       " '_i171',\n",
       " '_i172',\n",
       " '_i173',\n",
       " '_i174',\n",
       " '_i175',\n",
       " '_i176',\n",
       " '_i177',\n",
       " '_i178',\n",
       " '_i179',\n",
       " '_i18',\n",
       " '_i180',\n",
       " '_i181',\n",
       " '_i182',\n",
       " '_i183',\n",
       " '_i184',\n",
       " '_i185',\n",
       " '_i186',\n",
       " '_i187',\n",
       " '_i188',\n",
       " '_i189',\n",
       " '_i19',\n",
       " '_i190',\n",
       " '_i191',\n",
       " '_i192',\n",
       " '_i193',\n",
       " '_i194',\n",
       " '_i195',\n",
       " '_i196',\n",
       " '_i197',\n",
       " '_i198',\n",
       " '_i199',\n",
       " '_i2',\n",
       " '_i20',\n",
       " '_i200',\n",
       " '_i201',\n",
       " '_i202',\n",
       " '_i203',\n",
       " '_i204',\n",
       " '_i205',\n",
       " '_i206',\n",
       " '_i207',\n",
       " '_i208',\n",
       " '_i209',\n",
       " '_i21',\n",
       " '_i210',\n",
       " '_i211',\n",
       " '_i212',\n",
       " '_i213',\n",
       " '_i214',\n",
       " '_i215',\n",
       " '_i216',\n",
       " '_i217',\n",
       " '_i218',\n",
       " '_i219',\n",
       " '_i22',\n",
       " '_i220',\n",
       " '_i221',\n",
       " '_i222',\n",
       " '_i223',\n",
       " '_i224',\n",
       " '_i225',\n",
       " '_i226',\n",
       " '_i227',\n",
       " '_i228',\n",
       " '_i229',\n",
       " '_i23',\n",
       " '_i230',\n",
       " '_i231',\n",
       " '_i232',\n",
       " '_i233',\n",
       " '_i234',\n",
       " '_i235',\n",
       " '_i236',\n",
       " '_i237',\n",
       " '_i238',\n",
       " '_i239',\n",
       " '_i24',\n",
       " '_i240',\n",
       " '_i241',\n",
       " '_i242',\n",
       " '_i243',\n",
       " '_i244',\n",
       " '_i245',\n",
       " '_i246',\n",
       " '_i247',\n",
       " '_i248',\n",
       " '_i249',\n",
       " '_i25',\n",
       " '_i250',\n",
       " '_i251',\n",
       " '_i252',\n",
       " '_i253',\n",
       " '_i254',\n",
       " '_i255',\n",
       " '_i256',\n",
       " '_i257',\n",
       " '_i258',\n",
       " '_i259',\n",
       " '_i26',\n",
       " '_i260',\n",
       " '_i261',\n",
       " '_i262',\n",
       " '_i263',\n",
       " '_i264',\n",
       " '_i265',\n",
       " '_i266',\n",
       " '_i267',\n",
       " '_i268',\n",
       " '_i269',\n",
       " '_i27',\n",
       " '_i270',\n",
       " '_i271',\n",
       " '_i272',\n",
       " '_i273',\n",
       " '_i274',\n",
       " '_i275',\n",
       " '_i276',\n",
       " '_i277',\n",
       " '_i278',\n",
       " '_i279',\n",
       " '_i28',\n",
       " '_i280',\n",
       " '_i281',\n",
       " '_i282',\n",
       " '_i283',\n",
       " '_i284',\n",
       " '_i285',\n",
       " '_i286',\n",
       " '_i287',\n",
       " '_i288',\n",
       " '_i289',\n",
       " '_i29',\n",
       " '_i290',\n",
       " '_i291',\n",
       " '_i292',\n",
       " '_i293',\n",
       " '_i294',\n",
       " '_i295',\n",
       " '_i296',\n",
       " '_i297',\n",
       " '_i298',\n",
       " '_i299',\n",
       " '_i3',\n",
       " '_i30',\n",
       " '_i300',\n",
       " '_i301',\n",
       " '_i302',\n",
       " '_i303',\n",
       " '_i304',\n",
       " '_i305',\n",
       " '_i306',\n",
       " '_i307',\n",
       " '_i308',\n",
       " '_i309',\n",
       " '_i31',\n",
       " '_i310',\n",
       " '_i311',\n",
       " '_i312',\n",
       " '_i313',\n",
       " '_i314',\n",
       " '_i315',\n",
       " '_i316',\n",
       " '_i317',\n",
       " '_i318',\n",
       " '_i319',\n",
       " '_i32',\n",
       " '_i320',\n",
       " '_i321',\n",
       " '_i322',\n",
       " '_i323',\n",
       " '_i324',\n",
       " '_i325',\n",
       " '_i326',\n",
       " '_i327',\n",
       " '_i328',\n",
       " '_i329',\n",
       " '_i33',\n",
       " '_i330',\n",
       " '_i331',\n",
       " '_i332',\n",
       " '_i333',\n",
       " '_i334',\n",
       " '_i335',\n",
       " '_i336',\n",
       " '_i337',\n",
       " '_i338',\n",
       " '_i339',\n",
       " '_i34',\n",
       " '_i340',\n",
       " '_i341',\n",
       " '_i342',\n",
       " '_i343',\n",
       " '_i344',\n",
       " '_i345',\n",
       " '_i346',\n",
       " '_i347',\n",
       " '_i348',\n",
       " '_i35',\n",
       " '_i36',\n",
       " '_i37',\n",
       " '_i38',\n",
       " '_i39',\n",
       " '_i4',\n",
       " '_i40',\n",
       " '_i41',\n",
       " '_i42',\n",
       " '_i43',\n",
       " '_i44',\n",
       " '_i45',\n",
       " '_i46',\n",
       " '_i47',\n",
       " '_i48',\n",
       " '_i49',\n",
       " '_i5',\n",
       " '_i50',\n",
       " '_i51',\n",
       " '_i52',\n",
       " '_i53',\n",
       " '_i54',\n",
       " '_i55',\n",
       " '_i56',\n",
       " '_i57',\n",
       " '_i58',\n",
       " '_i59',\n",
       " '_i6',\n",
       " '_i60',\n",
       " '_i61',\n",
       " '_i62',\n",
       " '_i63',\n",
       " '_i64',\n",
       " '_i65',\n",
       " '_i66',\n",
       " '_i67',\n",
       " '_i68',\n",
       " '_i69',\n",
       " '_i7',\n",
       " '_i70',\n",
       " '_i71',\n",
       " '_i72',\n",
       " '_i73',\n",
       " '_i74',\n",
       " '_i75',\n",
       " '_i76',\n",
       " '_i77',\n",
       " '_i78',\n",
       " '_i79',\n",
       " '_i8',\n",
       " '_i80',\n",
       " '_i81',\n",
       " '_i82',\n",
       " '_i83',\n",
       " '_i84',\n",
       " '_i85',\n",
       " '_i86',\n",
       " '_i87',\n",
       " '_i88',\n",
       " '_i89',\n",
       " '_i9',\n",
       " '_i90',\n",
       " '_i91',\n",
       " '_i92',\n",
       " '_i93',\n",
       " '_i94',\n",
       " '_i95',\n",
       " '_i96',\n",
       " '_i97',\n",
       " '_i98',\n",
       " '_i99',\n",
       " '_ih',\n",
       " '_ii',\n",
       " '_iii',\n",
       " '_oh',\n",
       " 'exc_info',\n",
       " 'exit',\n",
       " 'get_ipython',\n",
       " 'i',\n",
       " 'quit',\n",
       " 'socket',\n",
       " 'sys']"
      ]
     },
     "execution_count": 348,
     "metadata": {},
     "output_type": "execute_result"
    }
   ],
   "source": [
    "dir()"
   ]
  }
 ],
 "metadata": {
  "kernelspec": {
   "display_name": "Python 3",
   "language": "python",
   "name": "python3"
  },
  "language_info": {
   "codemirror_mode": {
    "name": "ipython",
    "version": 3
   },
   "file_extension": ".py",
   "mimetype": "text/x-python",
   "name": "python",
   "nbconvert_exporter": "python",
   "pygments_lexer": "ipython3",
   "version": "3.7.6"
  }
 },
 "nbformat": 4,
 "nbformat_minor": 4
}
