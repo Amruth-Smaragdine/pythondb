{
 "cells": [
  {
   "cell_type": "code",
   "execution_count": 1,
   "metadata": {},
   "outputs": [
    {
     "data": {
      "application/javascript": [
       "IPython.notebook.set_autosave_interval(30000)"
      ]
     },
     "metadata": {},
     "output_type": "display_data"
    },
    {
     "name": "stdout",
     "output_type": "stream",
     "text": [
      "Autosaving every 30 seconds\n"
     ]
    }
   ],
   "source": [
    "%autosave 30"
   ]
  },
  {
   "cell_type": "code",
   "execution_count": 2,
   "metadata": {},
   "outputs": [
    {
     "name": "stdout",
     "output_type": "stream",
     "text": [
      "Input the Part Number:A018\n",
      "The part (Ball Joint) with part ID: A018 is In Stock and it's unit price is: $24.18\n"
     ]
    }
   ],
   "source": [
    "\"\"\"\n",
    "Following code snippet helps us search for a Part Number and provide us it's details if found.\n",
    "This file analyses data from a CSV file (vlookup.csv). \n",
    "Before executing this code, it is suggested to have the CSV file in the same directory\n",
    "\"\"\"\n",
    "fileVlookup = open(\"vlookup.csv\", \"r\")\n",
    "myString = ''\n",
    "mySet = set()\n",
    "partNum = input(\"Input the Part Number:\")\n",
    "for eachLine in fileVlookup:\n",
    "    if partNum in eachLine:\n",
    "        myString = eachLine.rstrip(\"\\n\")\n",
    "    else:\n",
    "        mySet.add(\"Error: Invalid Part Number\")\n",
    "myList = []\n",
    "if myString:\n",
    "    # print (myString.split(\",\"))\n",
    "    myList = myString.split(\",\")\n",
    "    SNo = myList[0]\n",
    "    SupID = myList[1]\n",
    "    PartNum = myList[2]\n",
    "    PartName = myList[3]\n",
    "    PartUnitPrice = myList[4]\n",
    "    StockStatus = myList[5]\n",
    "    print (\"The part ({}) with part ID: {} is {} and it's unit price is: {}\".format(PartName, PartNum, StockStatus, \\\n",
    "                                                                                    PartUnitPrice))\n",
    "else:\n",
    "    print (str(mySet).rstrip(\"'}\").lstrip(\"{'\"))"
   ]
  }
 ],
 "metadata": {
  "kernelspec": {
   "display_name": "Python 3",
   "language": "python",
   "name": "python3"
  },
  "language_info": {
   "codemirror_mode": {
    "name": "ipython",
    "version": 3
   },
   "file_extension": ".py",
   "mimetype": "text/x-python",
   "name": "python",
   "nbconvert_exporter": "python",
   "pygments_lexer": "ipython3",
   "version": "3.7.6"
  }
 },
 "nbformat": 4,
 "nbformat_minor": 4
}
