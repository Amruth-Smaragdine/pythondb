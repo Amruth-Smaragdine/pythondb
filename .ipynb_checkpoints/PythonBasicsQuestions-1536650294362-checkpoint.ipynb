{
 "cells": [
  {
   "cell_type": "markdown",
   "metadata": {},
   "source": [
    "<img src='https://www.insaid.co/wp-content/uploads/2018/04/INSAID_Logo-1.png' height=\"240\" width=\"360\"/>\n",
    "<br/>\n",
    "# Python basics"
   ]
  },
  {
   "cell_type": "code",
   "execution_count": 1,
   "metadata": {},
   "outputs": [
    {
     "data": {
      "application/javascript": [
       "IPython.notebook.set_autosave_interval(60000)"
      ]
     },
     "metadata": {},
     "output_type": "display_data"
    },
    {
     "name": "stdout",
     "output_type": "stream",
     "text": [
      "Autosaving every 60 seconds\n"
     ]
    }
   ],
   "source": [
    "%autosave 60"
   ]
  },
  {
   "cell_type": "markdown",
   "metadata": {
    "collapsed": true
   },
   "source": [
    "### 1.Write a Python program to print the following string\n",
    "\n",
    "Sample String: \"Welcome to INSAID- International School of AI and Data Science\"\n",
    "\n"
   ]
  },
  {
   "cell_type": "code",
   "execution_count": 2,
   "metadata": {},
   "outputs": [
    {
     "name": "stdout",
     "output_type": "stream",
     "text": [
      "Welcome to INSAID- International School of AI and Data Science\n"
     ]
    }
   ],
   "source": [
    "print ('Welcome to INSAID- International School of AI and Data Science')"
   ]
  },
  {
   "cell_type": "markdown",
   "metadata": {},
   "source": [
    "### 1.1 In a “Hello, World!” program, a comment may look like this:"
   ]
  },
  {
   "cell_type": "code",
   "execution_count": 3,
   "metadata": {},
   "outputs": [
    {
     "name": "stdout",
     "output_type": "stream",
     "text": [
      "Hello World\n"
     ]
    }
   ],
   "source": [
    "# Print “Hello, World!” to console\n",
    "print ('Hello World')"
   ]
  },
  {
   "cell_type": "code",
   "execution_count": 4,
   "metadata": {},
   "outputs": [
    {
     "name": "stdout",
     "output_type": "stream",
     "text": [
      "hammer\n",
      "white\n",
      "fish\n",
      "frilled\n",
      "bullhead\n",
      "requiem\n"
     ]
    }
   ],
   "source": [
    "# Define sharks variable as a list of strings ('hammer', 'white', 'fish', 'frilled', 'bullhead', 'requiem')\n",
    "varSharks = ['hammer', 'white', 'fish', 'frilled', 'bullhead', 'requiem']\n",
    "\n",
    "# For loop that iterates over sharks list and prints each string item\n",
    "for eachElement in varSharks:\n",
    "    print (eachElement)"
   ]
  },
  {
   "cell_type": "markdown",
   "metadata": {},
   "source": [
    "### 2.Write a Python Program to Add Two Numbers"
   ]
  },
  {
   "cell_type": "code",
   "execution_count": 5,
   "metadata": {},
   "outputs": [
    {
     "name": "stdout",
     "output_type": "stream",
     "text": [
      "Sum of 5 and 5 is 10\n"
     ]
    }
   ],
   "source": [
    "# initialise two varaibles\n",
    "a = 5\n",
    "b = 5\n",
    "\n",
    "# Add two numbers\n",
    "c = a + b\n",
    "\n",
    "# Display the sum\n",
    "print (\"Sum of {} and {} is {}\".format(a,b,c))"
   ]
  },
  {
   "cell_type": "markdown",
   "metadata": {},
   "source": [
    "### 3.Write a Python Program to Find the product of two numbers"
   ]
  },
  {
   "cell_type": "code",
   "execution_count": 6,
   "metadata": {},
   "outputs": [
    {
     "name": "stdout",
     "output_type": "stream",
     "text": [
      "Product of 5 and 5 is 25\n"
     ]
    }
   ],
   "source": [
    "# initialise two varaibles\n",
    "\n",
    "a = 5\n",
    "b = 5\n",
    "# multiply two numbers\n",
    "c = a * b\n",
    "\n",
    "# Display the sum\n",
    "print (\"Product of {} and {} is {}\".format(a,b,c))"
   ]
  },
  {
   "cell_type": "markdown",
   "metadata": {},
   "source": [
    "### 4.Write a python program to find the area of triangle given height and base of the triangle as 3 and 10."
   ]
  },
  {
   "cell_type": "code",
   "execution_count": 7,
   "metadata": {},
   "outputs": [
    {
     "name": "stdout",
     "output_type": "stream",
     "text": [
      "Area of the triangle with base as 10 and height as 3 is 15.0\n"
     ]
    }
   ],
   "source": [
    "# Area of the triangle A= 1/2(base * height)\n",
    "\n",
    "#given height=3 and base =10\n",
    "\n",
    "height = 3\n",
    "base = 10\n",
    "\n",
    "AreaOfTriangle = (height * base)*1/2\n",
    "print (\"Area of the triangle with base as {} and height as {} is {}\".format(base, height, AreaOfTriangle))"
   ]
  },
  {
   "cell_type": "markdown",
   "metadata": {},
   "source": [
    "### 5.Python Program to Swap Two Variables"
   ]
  },
  {
   "cell_type": "code",
   "execution_count": 8,
   "metadata": {},
   "outputs": [
    {
     "name": "stdout",
     "output_type": "stream",
     "text": [
      "Swapped value of variable 'a' is: 6\n",
      "Swapped value of variable 'b' is: 3\n"
     ]
    }
   ],
   "source": [
    "# initialise two varaibles\n",
    "a = 3\n",
    "b = 6\n",
    "\n",
    "temp = b\n",
    "a = temp\n",
    "print (\"Swapped value of variable 'a' is:\", a)\n",
    "a = 3            # resetting a to its original value.\n",
    "# create a temporary variable and swap the values\n",
    "\n",
    "temp = a \n",
    "b = temp\n",
    "\n",
    "print (\"Swapped value of variable 'b' is:\", b)"
   ]
  },
  {
   "cell_type": "markdown",
   "metadata": {},
   "source": [
    "## Section"
   ]
  },
  {
   "cell_type": "markdown",
   "metadata": {
    "collapsed": true
   },
   "source": [
    "### 1.Write a python program to print datatype of a varaible"
   ]
  },
  {
   "cell_type": "code",
   "execution_count": 9,
   "metadata": {},
   "outputs": [
    {
     "name": "stdout",
     "output_type": "stream",
     "text": [
      "Data type of variable 'a' is: <class 'int'>\n",
      "Data type of variable 'b' is: <class 'float'>\n",
      "Data type of variable 'c' is: <class 'complex'>\n"
     ]
    }
   ],
   "source": [
    "a = 1\n",
    "print (\"Data type of variable 'a' is:\", type(a))\n",
    "\n",
    "b = 2.0\n",
    "print (\"Data type of variable 'b' is:\", type(b))\n",
    "\n",
    "\n",
    "c = 1+2j\n",
    "print (\"Data type of variable 'c' is:\", type(c))\n"
   ]
  },
  {
   "cell_type": "markdown",
   "metadata": {},
   "source": [
    "### 2.Write a python program to extract an item or a range of items from a list.\n",
    "\n"
   ]
  },
  {
   "cell_type": "code",
   "execution_count": 10,
   "metadata": {},
   "outputs": [
    {
     "name": "stdout",
     "output_type": "stream",
     "text": [
      "The item at index 2 is: 35\n",
      "The first 3 items of list variable 'a' are: 15 20 35\n",
      "15\n",
      "20\n",
      "35\n",
      "The first 3 items of list variable 'a' are: 30 35 60\n",
      "30\n",
      "35\n",
      "60\n"
     ]
    }
   ],
   "source": [
    "a = [15,20,35,40,45,30,35,60]\n",
    "\n",
    "# Print the item at index 2\n",
    "print (\"The item at index 2 is:\",a[2])\n",
    "\n",
    "# Print the first 3 items \n",
    "# Following are both methods via manual and using for loop:\n",
    "print(\"The first 3 items of list variable 'a' are:\", a[0] ,a[1], a[2])\n",
    "for i in range (0, 3):\n",
    "    print (a[i])\n",
    "\n",
    "# Print the last 3 items\n",
    "# Following are both methods via manual and using for loop:\n",
    "print (\"The first 3 items of list variable 'a' are:\", a[-3] ,a[-2], a[-1])\n",
    "# Start to third last item\n",
    "for i in range (-3, 0):\n",
    "    print (a[i])"
   ]
  },
  {
   "cell_type": "markdown",
   "metadata": {},
   "source": [
    "### 3.Converting Floats to Integers\n"
   ]
  },
  {
   "cell_type": "code",
   "execution_count": 11,
   "metadata": {},
   "outputs": [
    {
     "name": "stdout",
     "output_type": "stream",
     "text": [
      "Integer value of 125.0 is 125\n",
      "Integer value of 390.8 is 390\n"
     ]
    }
   ],
   "source": [
    "b = 125.0\n",
    "c = 390.8\n",
    "\n",
    "# Print the Integer values\n",
    "\n",
    "print (\"Integer value of {} is {}\".format(b, int(b)))\n",
    "print (\"Integer value of {} is {}\".format(c, int(c)))"
   ]
  },
  {
   "cell_type": "markdown",
   "metadata": {},
   "source": [
    "### 4.Converting Numbers to Strings"
   ]
  },
  {
   "cell_type": "code",
   "execution_count": 12,
   "metadata": {},
   "outputs": [
    {
     "name": "stdout",
     "output_type": "stream",
     "text": [
      "10 is of type <class 'int'>\n",
      "10 is of type <class 'str'>\n"
     ]
    }
   ],
   "source": [
    "a = 10\n",
    "\n",
    "print(a, \"is of type\", type(a))\n",
    "\n",
    "# Convert the value in a to a string and then print\n",
    "\n",
    "b = str(a)\n",
    "\n",
    "print (b, \"is of type\", type(b))"
   ]
  },
  {
   "cell_type": "markdown",
   "metadata": {},
   "source": [
    "### 5.Converting Strings to Numbers"
   ]
  },
  {
   "cell_type": "code",
   "execution_count": 13,
   "metadata": {},
   "outputs": [
    {
     "name": "stdout",
     "output_type": "stream",
     "text": [
      "The difference of 50 and 108 is: -58\n"
     ]
    }
   ],
   "source": [
    "a = \"50\"\n",
    "b = \"108\"\n",
    "aInt = int(a)\n",
    "bInt = int(b)\n",
    "cInt = aInt - bInt\n",
    "print (\"The difference of {} and {} is: {}\".format(aInt, bInt, cInt))\n",
    "# Find the difference between a and b"
   ]
  },
  {
   "cell_type": "markdown",
   "metadata": {},
   "source": [
    "### 6.Converting list to Tuples"
   ]
  },
  {
   "cell_type": "code",
   "execution_count": 14,
   "metadata": {},
   "outputs": [
    {
     "name": "stdout",
     "output_type": "stream",
     "text": [
      "List: ['request', 'source', 'repository', 'branch'] converted to a Tuple: ('request', 'source', 'repository', 'branch') \n"
     ]
    }
   ],
   "source": [
    "myList = ['request', 'source', 'repository', 'branch']\n",
    "myTuple = tuple(myList)\n",
    "# Print myList to a Tuple\n",
    "print (\"List: {} converted to a Tuple: {} \".format(myList ,myTuple))"
   ]
  },
  {
   "cell_type": "markdown",
   "metadata": {},
   "source": [
    "### 7.Converting tuple to Lists"
   ]
  },
  {
   "cell_type": "code",
   "execution_count": 15,
   "metadata": {},
   "outputs": [
    {
     "name": "stdout",
     "output_type": "stream",
     "text": [
      "Tuple: ('blue', 'red', 'white') converted to a List: ['blue', 'red', 'white'] \n"
     ]
    }
   ],
   "source": [
    "myTuple = ('blue', 'red', 'white')\n",
    "myList = list(myTuple)\n",
    "# Print myTuple to a List\n",
    "print (\"Tuple: {} converted to a List: {} \".format(myTuple, myList))"
   ]
  },
  {
   "cell_type": "markdown",
   "metadata": {
    "collapsed": true
   },
   "source": [
    "### 8.converting strings to lists:"
   ]
  },
  {
   "cell_type": "code",
   "execution_count": 16,
   "metadata": {},
   "outputs": [
    {
     "name": "stdout",
     "output_type": "stream",
     "text": [
      "['I', 'N', 'S', 'A', 'I', 'D']\n",
      "['I', 'N', 'S', 'A', 'I', 'D']\n"
     ]
    }
   ],
   "source": [
    "myString = 'INSAID'\n",
    "\n",
    "# Manual method:\n",
    "myList = [myString[0], myString[1], myString[2], myString[3], myString[4], myString[5]]\n",
    "print (myList)\n",
    "# Convert myString to List\n",
    "\n",
    "# Using for loop:\n",
    "myList = []\n",
    "for i in range (0, len(myString)):\n",
    "    myList.append(myString[i])\n",
    "print (myList)"
   ]
  },
  {
   "cell_type": "markdown",
   "metadata": {},
   "source": [
    "### 9.Assign different data types to a varibles"
   ]
  },
  {
   "cell_type": "code",
   "execution_count": 17,
   "metadata": {},
   "outputs": [
    {
     "name": "stdout",
     "output_type": "stream",
     "text": [
      "<class 'str'> <class 'float'> <class 'bool'> <class 'list'> <class 'tuple'> <class 'dict'>\n"
     ]
    }
   ],
   "source": [
    "# Try string, float, boolean, list, tuple, dictionary\n",
    "stringVar = 'Smaragdine Technologies'\n",
    "floatVar = 99.9999\n",
    "booleanVar = True\n",
    "listVar = [3, 6, 9, 12, 15, 18, 21, 24, 27, 30]\n",
    "tupleVar = (3, 6, 9, 12, 15, 18, 21, 24, 27, 30)\n",
    "dictionaryVar = {3:'Three', 6:'Six', 9:'Nine'}\n",
    "print (type(stringVar), type(floatVar), type(booleanVar), type(listVar), type(tupleVar), type(dictionaryVar))\n",
    "# print (type(floatVar))"
   ]
  },
  {
   "cell_type": "markdown",
   "metadata": {},
   "source": [
    "## Section"
   ]
  },
  {
   "cell_type": "markdown",
   "metadata": {
    "collapsed": true
   },
   "source": [
    "### Print out a string that uses a formatter"
   ]
  },
  {
   "cell_type": "code",
   "execution_count": 18,
   "metadata": {},
   "outputs": [
    {
     "name": "stdout",
     "output_type": "stream",
     "text": [
      "John as 5 cars\n"
     ]
    }
   ],
   "source": [
    "# Print \"john has 5 cars.\" using formatter\n",
    "carsVar = 5\n",
    "print (\"John as {} cars\".format(carsVar))"
   ]
  },
  {
   "cell_type": "markdown",
   "metadata": {},
   "source": [
    "### We can also assign a variable to be equal to the value of a string that has formatter placeholders:"
   ]
  },
  {
   "cell_type": "code",
   "execution_count": 19,
   "metadata": {},
   "outputs": [
    {
     "name": "stdout",
     "output_type": "stream",
     "text": [
      "john likes OpenSource.\n"
     ]
    }
   ],
   "source": [
    "open_string = \"john likes {}.\"\n",
    "stringVar = 'OpenSource'\n",
    "# Use format method to print the following output \"john likes open source.\"\n",
    "print (open_string.format(stringVar))"
   ]
  },
  {
   "cell_type": "markdown",
   "metadata": {},
   "source": [
    "### Using Formatters with Multiple Placeholders"
   ]
  },
  {
   "cell_type": "code",
   "execution_count": 20,
   "metadata": {},
   "outputs": [
    {
     "name": "stdout",
     "output_type": "stream",
     "text": [
      "john likes open-source software.\n"
     ]
    }
   ],
   "source": [
    "new_open_string = \"john likes {} {}.\"                      #2 {} placeholders\n",
    "stringVar1 = 'open-source'\n",
    "stringVar2 = 'software'\n",
    "print (new_open_string.format(stringVar1, stringVar2))\n",
    "# Pass 2 strings into format method, separated by a comma to get output \"john likes open-source software.\""
   ]
  },
  {
   "cell_type": "code",
   "execution_count": 21,
   "metadata": {},
   "outputs": [
    {
     "name": "stdout",
     "output_type": "stream",
     "text": [
      "john loves open-source software, and has 5 balloons.\n"
     ]
    }
   ],
   "source": [
    "sammy_string = \"john loves {} {}, and has {} {}.\"                      #4 {} placeholders\n",
    "stringVar1 = 'open-source'\n",
    "stringVar2 = 'software'\n",
    "stringVar3 = '5'\n",
    "stringVar4 = 'balloons'\n",
    "# Pass 4 strings into method to get output \"john loves open-source software, and has 5 balloons.\"\n",
    "print (sammy_string.format(stringVar1, stringVar2, stringVar3, stringVar4))"
   ]
  },
  {
   "cell_type": "markdown",
   "metadata": {},
   "source": [
    "### Reordering Formatters with Positional and Keyword Arguments\n"
   ]
  },
  {
   "cell_type": "code",
   "execution_count": 22,
   "metadata": {},
   "outputs": [
    {
     "name": "stdout",
     "output_type": "stream",
     "text": [
      "john the shark has a pet pilot fish!\n"
     ]
    }
   ],
   "source": [
    "# Reference sample\n",
    "print(\"john the {} has a pet {}!\".format(\"shark\", \"pilot fish\"))"
   ]
  },
  {
   "cell_type": "markdown",
   "metadata": {},
   "source": [
    "### We can pass these index numbers into the curly braces that serve as the placeholders in the original string:"
   ]
  },
  {
   "cell_type": "code",
   "execution_count": 23,
   "metadata": {},
   "outputs": [
    {
     "name": "stdout",
     "output_type": "stream",
     "text": [
      "john the shark has a pet pilot fish!\n",
      "john is a blue, shark, and smiling happy!\n"
     ]
    }
   ],
   "source": [
    "# Reference Sample\n",
    "print(\"john the {0} has a pet {1}!\".format(\"shark\", \"pilot fish\"))\n",
    "\n",
    "print(\"john is a {2}, {3}, and {1} {0}!\".format(\"happy\", \"smiling\", \"blue\", \"shark\"))\n"
   ]
  },
  {
   "cell_type": "markdown",
   "metadata": {},
   "source": [
    "### Python Program to Get String Input from User\n"
   ]
  },
  {
   "cell_type": "code",
   "execution_count": 24,
   "metadata": {},
   "outputs": [
    {
     "name": "stdout",
     "output_type": "stream",
     "text": [
      "Please enter any string: Smaragdine\n",
      "The entered string is: Smaragdine\n"
     ]
    }
   ],
   "source": [
    "#Enter any string and print it\n",
    "stringVar = input(\"Please enter any string: \")\n",
    "print (\"The entered string is:\", stringVar)"
   ]
  },
  {
   "cell_type": "markdown",
   "metadata": {
    "collapsed": true
   },
   "source": [
    "### Python program for conditional statements\n",
    "\n",
    "### 1)If the student receives over 65% on her test, report that her grade passes; if not, report that her grade fails"
   ]
  },
  {
   "cell_type": "code",
   "execution_count": 25,
   "metadata": {},
   "outputs": [
    {
     "name": "stdout",
     "output_type": "stream",
     "text": [
      "The students passed\n"
     ]
    }
   ],
   "source": [
    "grade = 70\n",
    "if grade > 65:\n",
    "    print (\"The students passed\")"
   ]
  },
  {
   "cell_type": "code",
   "execution_count": 26,
   "metadata": {},
   "outputs": [
    {
     "name": "stdout",
     "output_type": "stream",
     "text": [
      "The students fails\n"
     ]
    }
   ],
   "source": [
    "# Use only if\n",
    "grade = 60\n",
    "if grade < 65:\n",
    "    print (\"The students fails\")\n"
   ]
  },
  {
   "cell_type": "markdown",
   "metadata": {},
   "source": [
    "### Write a python program calculate whether a bank account balance is below 0 and print appropriate message."
   ]
  },
  {
   "cell_type": "code",
   "execution_count": 27,
   "metadata": {},
   "outputs": [
    {
     "name": "stdout",
     "output_type": "stream",
     "text": [
      "You have sufficient funds in your account\n"
     ]
    }
   ],
   "source": [
    "# Use if else\n",
    "balance = 522\n",
    "if balance >= 0:\n",
    "    print (\"You have sufficient funds in your account\")\n",
    "if balance < 0:\n",
    "    print (\"You have insufficient funds\")"
   ]
  },
  {
   "cell_type": "markdown",
   "metadata": {},
   "source": [
    "### Using Else if statement"
   ]
  },
  {
   "cell_type": "code",
   "execution_count": 28,
   "metadata": {},
   "outputs": [
    {
     "name": "stdout",
     "output_type": "stream",
     "text": [
      "You have sufficient funds in your account\n"
     ]
    }
   ],
   "source": [
    "balance = 522\n",
    "if balance >= 0:\n",
    "    print (\"You have sufficient funds in your account\")\n",
    "else:\n",
    "    print (\"You have insufficient funds\")"
   ]
  },
  {
   "cell_type": "markdown",
   "metadata": {},
   "source": [
    "### Python program to print  Fibonacci series between 0 to 50."
   ]
  },
  {
   "cell_type": "code",
   "execution_count": 29,
   "metadata": {},
   "outputs": [
    {
     "name": "stdout",
     "output_type": "stream",
     "text": [
      "Fibonacci Series 1 : 0\n",
      "Fibonacci Series 2 : 1\n",
      "Fibonacci Series 3 : 1\n",
      "Fibonacci Series 4 : 2\n",
      "Fibonacci Series 5 : 3\n",
      "Fibonacci Series 6 : 5\n",
      "Fibonacci Series 7 : 8\n",
      "Fibonacci Series 8 : 13\n",
      "Fibonacci Series 9 : 21\n",
      "Fibonacci Series 10 : 34\n",
      "Fibonacci Series 11 : 55\n",
      "Fibonacci Series 12 : 89\n",
      "Fibonacci Series 13 : 144\n",
      "Fibonacci Series 14 : 233\n",
      "Fibonacci Series 15 : 377\n",
      "Fibonacci Series 16 : 610\n",
      "Fibonacci Series 17 : 987\n",
      "Fibonacci Series 18 : 1597\n",
      "Fibonacci Series 19 : 2584\n",
      "Fibonacci Series 20 : 4181\n",
      "Fibonacci Series 21 : 6765\n",
      "Fibonacci Series 22 : 10946\n",
      "Fibonacci Series 23 : 17711\n",
      "Fibonacci Series 24 : 28657\n",
      "Fibonacci Series 25 : 46368\n",
      "Fibonacci Series 26 : 75025\n",
      "Fibonacci Series 27 : 121393\n",
      "Fibonacci Series 28 : 196418\n",
      "Fibonacci Series 29 : 317811\n",
      "Fibonacci Series 30 : 514229\n",
      "Fibonacci Series 31 : 832040\n",
      "Fibonacci Series 32 : 1346269\n",
      "Fibonacci Series 33 : 2178309\n",
      "Fibonacci Series 34 : 3524578\n",
      "Fibonacci Series 35 : 5702887\n",
      "Fibonacci Series 36 : 9227465\n",
      "Fibonacci Series 37 : 14930352\n",
      "Fibonacci Series 38 : 24157817\n",
      "Fibonacci Series 39 : 39088169\n",
      "Fibonacci Series 40 : 63245986\n",
      "Fibonacci Series 41 : 102334155\n",
      "Fibonacci Series 42 : 165580141\n",
      "Fibonacci Series 43 : 267914296\n",
      "Fibonacci Series 44 : 433494437\n",
      "Fibonacci Series 45 : 701408733\n",
      "Fibonacci Series 46 : 1134903170\n",
      "Fibonacci Series 47 : 1836311903\n",
      "Fibonacci Series 48 : 2971215073\n",
      "Fibonacci Series 49 : 4807526976\n",
      "Fibonacci Series 50 : 7778742049\n"
     ]
    }
   ],
   "source": [
    "# Initializing first two variables a and b with values '0' and '1'\n",
    "# Definition of fibonacci series can be found at: https://en.wikipedia.org/wiki/Fibonacci_number\n",
    "a = 0\n",
    "b = 1\n",
    "print (\"Fibonacci Series 1 :\",a)\n",
    "print (\"Fibonacci Series 2 :\", b)\n",
    "for i in range (48):\n",
    "    seriesVar = a + b\n",
    "    a = b\n",
    "    b = seriesVar\n",
    "    print (\"Fibonacci Series\", i+3, \":\", b)"
   ]
  },
  {
   "cell_type": "markdown",
   "metadata": {},
   "source": [
    "### Python program to find numbers which are divisible by 7 and multiple of 5 between a range 150 to 270"
   ]
  },
  {
   "cell_type": "code",
   "execution_count": 30,
   "metadata": {},
   "outputs": [
    {
     "name": "stdout",
     "output_type": "stream",
     "text": [
      "175\n",
      "210\n",
      "245\n"
     ]
    }
   ],
   "source": [
    "# The '%' operator gives the result of a division.\n",
    "# The logic applied here is: \n",
    "# 1. We are calling all numbers between the suggested range (150 - 270) into variable 'i'\n",
    "# 2. We are making use of '%' operator to find the number that is exactly divided by '7' and '5'\n",
    "# 3. With help of 'if' condition we are only printing those numbers which are divisible both by '7' and '5'\n",
    "for i in range (150, 270):\n",
    "    if i % 7 == 0 and i % 5 == 0:\n",
    "        print (i)"
   ]
  },
  {
   "cell_type": "markdown",
   "metadata": {},
   "source": [
    "### Python program to Sum all the items in a list"
   ]
  },
  {
   "cell_type": "code",
   "execution_count": 31,
   "metadata": {},
   "outputs": [
    {
     "name": "stdout",
     "output_type": "stream",
     "text": [
      "Sum of all elements in the list is: 74\n"
     ]
    }
   ],
   "source": [
    "# Code snippet to calculate sum of values in a list\n",
    "def sum_list(items):\n",
    "    \"\"\"\n",
    "    Function to calculate sum of all elements in a list\n",
    "    \"\"\"\n",
    "    # Your code here\n",
    "    TotalValuesInList = 0\n",
    "    for eachElement in items:\n",
    "        TotalValuesInList += eachElement\n",
    "    return TotalValuesInList # Your variable\n",
    "print(\"Sum of all elements in the list is:\", sum_list([20,12,20,22]))"
   ]
  },
  {
   "cell_type": "markdown",
   "metadata": {},
   "source": [
    "### Python program to Remove duplicates from a list."
   ]
  },
  {
   "cell_type": "code",
   "execution_count": 32,
   "metadata": {},
   "outputs": [
    {
     "name": "stdout",
     "output_type": "stream",
     "text": [
      "{70, 40, 10, 80, 50, 20, 60, 30}\n",
      "[10, 20, 30, 40, 50, 60, 70, 80]\n"
     ]
    }
   ],
   "source": [
    "# Set stores unique values only, hence converting 'list' to a 'set' will allow us remove duplicate values.\n",
    "# sort function is not allowed with 'set', hence we can once again convert into a 'list' and then apply sort to it.\n",
    "a = [10,20,30,40,50,60,70,40,80,50,40]\n",
    "b = set(a)\n",
    "print (b)\n",
    "c = list(b)\n",
    "c.sort()\n",
    "print (c)"
   ]
  },
  {
   "cell_type": "markdown",
   "metadata": {},
   "source": [
    "### Python program to Get the largest number from a list."
   ]
  },
  {
   "cell_type": "code",
   "execution_count": 33,
   "metadata": {},
   "outputs": [
    {
     "name": "stdout",
     "output_type": "stream",
     "text": [
      "28\n"
     ]
    }
   ],
   "source": [
    "# The simpler way would be to return the \n",
    "def max_num_in_list( list ):\n",
    "    # Your code\n",
    "    list.sort()\n",
    "    maxValue = list[len(list) - 1]\n",
    "    return maxValue # Maximum value\n",
    "print(max_num_in_list([1, 12, 28, 0]))"
   ]
  },
  {
   "cell_type": "markdown",
   "metadata": {},
   "source": [
    "### Concatenation of Tuples."
   ]
  },
  {
   "cell_type": "code",
   "execution_count": 34,
   "metadata": {},
   "outputs": [
    {
     "name": "stdout",
     "output_type": "stream",
     "text": [
      "(0, 1, 2, 3, 'python', 'code') <class 'tuple'>\n",
      "Result after concatenating two tuples is: (0, 1, 2, 3, 'python', 'code')\n"
     ]
    }
   ],
   "source": [
    "# This code shippet will concatenate two tupples. \n",
    "# We can directly print them by mentioning 'tuple1 + tuple2' in the print statement\n",
    "# For a clear understanding I made use of a third variable and print the results after concatenation\n",
    "\n",
    "# Code for concatenating 2 tuples\n",
    " \n",
    "tuple1 = (0, 1, 2, 3)\n",
    "tuple2 = ('python', 'code')\n",
    "tuple3 = tuple1 + tuple2\n",
    "print (tuple3, type(tuple3))\n",
    "# Concatenating above two\n",
    "print(\"Result after concatenating two tuples is:\", tuple1 + tuple2)"
   ]
  },
  {
   "cell_type": "markdown",
   "metadata": {},
   "source": [
    "### Nesting of Tuples."
   ]
  },
  {
   "cell_type": "code",
   "execution_count": 35,
   "metadata": {},
   "outputs": [
    {
     "name": "stdout",
     "output_type": "stream",
     "text": [
      "((0, 1, 2, 3), ('python', 'code'))\n"
     ]
    }
   ],
   "source": [
    "# In this case pass on the first two tuples as elements to 'tuple3'\n",
    "\n",
    "# Code for creating nested tuples\n",
    " \n",
    "tuple1 = (0, 1, 2, 3)\n",
    "tuple2 = ('python', 'code')\n",
    "tuple3 = (tuple1, tuple2) # Your code goes here\n",
    "print(tuple3)\n"
   ]
  },
  {
   "cell_type": "markdown",
   "metadata": {},
   "source": [
    "### Write a Python program to add an item in a tuple."
   ]
  },
  {
   "cell_type": "code",
   "execution_count": 36,
   "metadata": {},
   "outputs": [
    {
     "name": "stdout",
     "output_type": "stream",
     "text": [
      "(3, 6, 9, 12, 15, 18, 21, 24, 27, 30)\n",
      "(3, 6, 9, 12, 15, 18, 21, 24, 27, 30, 33)\n"
     ]
    }
   ],
   "source": [
    "# Create a tuple & print\n",
    "tuple1 = (3, 6, 9, 12, 15, 18, 21, 24, 27, 30)\n",
    "print (tuple1)\n",
    "\n",
    "#tuples are immutable, so you can not add new elements\n",
    "#using merge of tuples with the + operator you can add an element and it will create a new tuple\n",
    "\n",
    "# Adding items in a specific index\n",
    "tuple1 = tuple1[:10] + (33,)\n",
    "print (tuple1)"
   ]
  },
  {
   "cell_type": "markdown",
   "metadata": {},
   "source": [
    "### Write a Python program to remove an item from a tuple."
   ]
  },
  {
   "cell_type": "code",
   "execution_count": 37,
   "metadata": {},
   "outputs": [
    {
     "name": "stdout",
     "output_type": "stream",
     "text": [
      "(3, 6, 9, 12, 15, 18, 21, 24, 27, 30)\n",
      "[3, 6, 9, 12, 15, 18, 21, 24, 27]\n",
      "(3, 6, 9, 12, 15, 18, 21, 24, 27)\n"
     ]
    }
   ],
   "source": [
    "# Create a tuple and print it\n",
    "tuple1 = (3, 6, 9, 12, 15, 18, 21, 24, 27, 30)\n",
    "print (tuple1)\n",
    "\n",
    "# Find a way to remove an item of the tuple (Hint: Use other data types)\n",
    "myList = list(tuple1)\n",
    "myList.remove(30)\n",
    "print (myList)\n",
    "tuple1 = tuple(myList)\n",
    "print(tuple1)"
   ]
  },
  {
   "cell_type": "markdown",
   "metadata": {},
   "source": [
    "### Python Program to Check if a given key already exists in a dictionary."
   ]
  },
  {
   "cell_type": "code",
   "execution_count": 38,
   "metadata": {},
   "outputs": [
    {
     "name": "stdout",
     "output_type": "stream",
     "text": [
      "Following key is present\n",
      "5\n",
      "Following key is not present\n",
      "9\n"
     ]
    }
   ],
   "source": [
    "d = {1: 10, 2: 20, 3: 30, 4: 40, 5: 50, 6: 60}\n",
    "def is_key_present(x):\n",
    "    if x in d:            # Your code goes here\n",
    "        print (\"Following key is present\")\n",
    "    else:\n",
    "        print (\"Following key is not present\")\n",
    "    return print(x) # Your observation\n",
    "is_key_present(5)\n",
    "is_key_present(9)"
   ]
  },
  {
   "cell_type": "markdown",
   "metadata": {},
   "source": [
    "### Write a Python script to merge two Python dictionaries."
   ]
  },
  {
   "cell_type": "code",
   "execution_count": 39,
   "metadata": {},
   "outputs": [
    {
     "name": "stdout",
     "output_type": "stream",
     "text": [
      "Resultant dictionary:  {'a': 100, 'b': 200, 'x': 300, 'y': 200}\n"
     ]
    }
   ],
   "source": [
    "# With help of 'update()' function, we can add two dictionary items\n",
    "d1 = {'a': 100, 'b': 200}\n",
    "d2 = {'x': 300, 'y': 200}\n",
    "d1.update(d2)        # Your code\n",
    "print (\"Resultant dictionary: \", d1)\n"
   ]
  },
  {
   "cell_type": "markdown",
   "metadata": {},
   "source": [
    "### Write a Python function to find the Max of three numbers."
   ]
  },
  {
   "cell_type": "code",
   "execution_count": 51,
   "metadata": {},
   "outputs": [
    {
     "name": "stdout",
     "output_type": "stream",
     "text": [
      "Maximum of two values: 9.99, 9.9 is: 9.99\n",
      "None\n",
      "Maximum of three values: 13, 26, -5 is: 26\n",
      "None\n"
     ]
    }
   ],
   "source": [
    "def max_of_two(x, y):\n",
    "    max(x, y)    # Your code here\n",
    "    return print(\"Maximum of two values: {}, {} is: {}\".format(x, y, max(x, y)))    # Your answer\n",
    "def max_of_three(x, y, z):\n",
    "    max(x, y, z)    # Your code here use max_of_two\n",
    "    return print(\"Maximum of three values: {}, {}, {} is: {}\".format(x, y, z, max(x, y, z)))    # Your answer\n",
    "print(max_of_two(9.99, 9.9))\n",
    "print(max_of_three(13, 26, -5))"
   ]
  },
  {
   "cell_type": "markdown",
   "metadata": {
    "collapsed": true
   },
   "source": [
    "### Write a Python program to reverse a string."
   ]
  },
  {
   "cell_type": "code",
   "execution_count": 52,
   "metadata": {},
   "outputs": [
    {
     "name": "stdout",
     "output_type": "stream",
     "text": [
      "['I', 'N', 'S', 'A', 'I', 'D']\n",
      "None\n"
     ]
    }
   ],
   "source": [
    "def string_reverse(str1):\n",
    "    myList = list(str1)    # Your code goes here\n",
    "    print (myList)\n",
    "    myList.\n",
    "    return # Your answer\n",
    "print(string_reverse('INSAID'))\n"
   ]
  },
  {
   "cell_type": "code",
   "execution_count": null,
   "metadata": {},
   "outputs": [],
   "source": []
  },
  {
   "cell_type": "markdown",
   "metadata": {
    "collapsed": true
   },
   "source": [
    "### Write a Python function to calculate the factorial of a number "
   ]
  },
  {
   "cell_type": "code",
   "execution_count": 43,
   "metadata": {},
   "outputs": [
    {
     "name": "stdout",
     "output_type": "stream",
     "text": [
      "Input a number to compute the factiorial : 2\n",
      "None\n"
     ]
    }
   ],
   "source": [
    "def factorial(n):\n",
    "    # Your code here\n",
    "    return # The answer\n",
    "n=int(input(\"Input a number to compute the factiorial : \"))\n",
    "print(factorial(n))"
   ]
  },
  {
   "cell_type": "markdown",
   "metadata": {},
   "source": [
    "### Write a Python function to sum all the numbers in a list."
   ]
  },
  {
   "cell_type": "code",
   "execution_count": 44,
   "metadata": {},
   "outputs": [
    {
     "name": "stdout",
     "output_type": "stream",
     "text": [
      "None\n"
     ]
    }
   ],
   "source": [
    "def sum(numbers):\n",
    "    # Your code goes here\n",
    "    return # Your Answer\n",
    "print(sum((8, 2, 3, 0, 7)))"
   ]
  },
  {
   "cell_type": "markdown",
   "metadata": {
    "collapsed": true
   },
   "source": [
    "### Write a Python function to check whether a number is in a given range."
   ]
  },
  {
   "cell_type": "code",
   "execution_count": 45,
   "metadata": {},
   "outputs": [],
   "source": [
    "def test_range(n):\n",
    "    # Your code\n",
    "    return # Your answer \n",
    "test_range(5)"
   ]
  },
  {
   "cell_type": "markdown",
   "metadata": {},
   "source": [
    "### Find the value of pi using math module."
   ]
  },
  {
   "cell_type": "code",
   "execution_count": 46,
   "metadata": {},
   "outputs": [],
   "source": [
    "# import statement example\n",
    "# to import standard module math\n",
    "\n",
    "import math\n"
   ]
  },
  {
   "cell_type": "markdown",
   "metadata": {},
   "source": [
    "### Write a Python program to read an entire text file.\n",
    "\n",
    "### Content of text.txt.\n",
    "\n",
    "### What is Python language?      \n",
    "\n",
    "#### Python is a widely used high-level, general-purpose, interpreted, dynamic programming language."
   ]
  },
  {
   "cell_type": "code",
   "execution_count": 47,
   "metadata": {},
   "outputs": [],
   "source": [
    "def file_read(fname):\n",
    "    # Your code goes in here\n",
    "    return\n",
    "\n",
    "file_read('test.txt')"
   ]
  },
  {
   "cell_type": "markdown",
   "metadata": {
    "collapsed": true
   },
   "source": [
    "### Write a Python program to read a file line by line and store it into a list."
   ]
  },
  {
   "cell_type": "code",
   "execution_count": 48,
   "metadata": {},
   "outputs": [],
   "source": [
    "def file_read(fname):\n",
    "        # Your code goes in here\n",
    "        return\n",
    "\n",
    "file_read('test.txt')"
   ]
  },
  {
   "cell_type": "markdown",
   "metadata": {},
   "source": [
    "### A python program to create user-defined exception."
   ]
  },
  {
   "cell_type": "code",
   "execution_count": 49,
   "metadata": {},
   "outputs": [
    {
     "ename": "TypeError",
     "evalue": "__str__ returned non-string (type NoneType)",
     "output_type": "error",
     "traceback": [
      "\u001b[1;31m---------------------------------------------------------------------------\u001b[0m",
      "\u001b[1;31mMyError\u001b[0m                                   Traceback (most recent call last)",
      "\u001b[1;32m<ipython-input-49-9696f685bee8>\u001b[0m in \u001b[0;36m<module>\u001b[1;34m\u001b[0m\n\u001b[0;32m     11\u001b[0m \u001b[1;32mtry\u001b[0m\u001b[1;33m:\u001b[0m\u001b[1;33m\u001b[0m\u001b[1;33m\u001b[0m\u001b[0m\n\u001b[1;32m---> 12\u001b[1;33m     \u001b[1;32mraise\u001b[0m\u001b[1;33m(\u001b[0m\u001b[0mMyError\u001b[0m\u001b[1;33m(\u001b[0m\u001b[1;36m3\u001b[0m\u001b[1;33m/\u001b[0m\u001b[1;36m7\u001b[0m\u001b[1;33m)\u001b[0m\u001b[1;33m)\u001b[0m\u001b[1;33m\u001b[0m\u001b[1;33m\u001b[0m\u001b[0m\n\u001b[0m\u001b[0;32m     13\u001b[0m \u001b[1;33m\u001b[0m\u001b[0m\n",
      "\u001b[1;31m<class 'str'>\u001b[0m: (<class 'TypeError'>, TypeError('__str__ returned non-string (type NoneType)'))",
      "\nDuring handling of the above exception, another exception occurred:\n",
      "\u001b[1;31mTypeError\u001b[0m                                 Traceback (most recent call last)",
      "\u001b[1;32m<ipython-input-49-9696f685bee8>\u001b[0m in \u001b[0;36m<module>\u001b[1;34m\u001b[0m\n\u001b[0;32m     13\u001b[0m \u001b[1;33m\u001b[0m\u001b[0m\n\u001b[0;32m     14\u001b[0m \u001b[1;32mexcept\u001b[0m \u001b[0mMyError\u001b[0m \u001b[1;32mas\u001b[0m \u001b[0merror\u001b[0m\u001b[1;33m:\u001b[0m\u001b[1;33m\u001b[0m\u001b[1;33m\u001b[0m\u001b[0m\n\u001b[1;32m---> 15\u001b[1;33m     \u001b[0mprint\u001b[0m\u001b[1;33m(\u001b[0m\u001b[0merror\u001b[0m\u001b[1;33m)\u001b[0m\u001b[1;33m\u001b[0m\u001b[1;33m\u001b[0m\u001b[0m\n\u001b[0m",
      "\u001b[1;31mTypeError\u001b[0m: __str__ returned non-string (type NoneType)"
     ]
    }
   ],
   "source": [
    "class MyError(Exception):\n",
    " \n",
    "    # Constructor or Initializer\n",
    "    def __init__(self, value):\n",
    "        self.value = value\n",
    " \n",
    "    # __str__ is to print() the value\n",
    "    def __str__(self):\n",
    "        return # Your code goes here to get -> 'A New Exception occured: 0.42857142857142855'\n",
    " \n",
    "try:\n",
    "    raise(MyError(3/7))\n",
    " \n",
    "except MyError as error:\n",
    "    print(error)\n"
   ]
  },
  {
   "cell_type": "markdown",
   "metadata": {},
   "source": [
    "### Write a Python program to calculate the discriminant value. (b <sup>2</sup> - 4ac)"
   ]
  },
  {
   "cell_type": "code",
   "execution_count": null,
   "metadata": {},
   "outputs": [],
   "source": [
    "def discriminant():\n",
    "    a_value = float(input('The a value: '))\n",
    "    b_value = float(input('The b value: '))\n",
    "    c_value = float(input('The c value: '))\n",
    "    \n",
    "    # Calculate the discriminant here\n",
    "    \n",
    "    return # The value\n",
    "\n",
    "\n",
    "discriminant()\n"
   ]
  },
  {
   "cell_type": "code",
   "execution_count": null,
   "metadata": {},
   "outputs": [],
   "source": [
    "print('Hello World')"
   ]
  },
  {
   "cell_type": "code",
   "execution_count": null,
   "metadata": {},
   "outputs": [],
   "source": [
    "print('What am I typing are you able to see?')"
   ]
  }
 ],
 "metadata": {
  "kernelspec": {
   "display_name": "Python 3",
   "language": "python",
   "name": "python3"
  },
  "language_info": {
   "codemirror_mode": {
    "name": "ipython",
    "version": 3
   },
   "file_extension": ".py",
   "mimetype": "text/x-python",
   "name": "python",
   "nbconvert_exporter": "python",
   "pygments_lexer": "ipython3",
   "version": "3.7.6"
  }
 },
 "nbformat": 4,
 "nbformat_minor": 2
}
