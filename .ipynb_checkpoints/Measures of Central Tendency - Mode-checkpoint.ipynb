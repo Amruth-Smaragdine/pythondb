{
 "cells": [
  {
   "cell_type": "code",
   "execution_count": 5,
   "metadata": {},
   "outputs": [
    {
     "data": {
      "application/javascript": [
       "IPython.notebook.set_autosave_interval(180000)"
      ]
     },
     "metadata": {},
     "output_type": "display_data"
    },
    {
     "name": "stdout",
     "output_type": "stream",
     "text": [
      "Autosaving every 180 seconds\n"
     ]
    }
   ],
   "source": [
    "%autosave 180"
   ]
  },
  {
   "cell_type": "code",
   "execution_count": 4,
   "metadata": {},
   "outputs": [
    {
     "name": "stdout",
     "output_type": "stream",
     "text": [
      "Mode for dataset (1, 1, 1, 2, 2, 2, 3, 3, 3, 3, 4, 4, 4, 4, 5, 5, 6, 6, 6) is: [3, 4]\n",
      "The data is Bi-Modal.\n"
     ]
    }
   ],
   "source": [
    "# This code snippet will help us find 'Mode' from set of values.\n",
    "# a = (1, 2, 2, 3, 3, 3, 4, 4, 4, 4, 5, 5, 5, 5, 5, 6, 6, 6, 6, 6, 6)       # Sample 1\n",
    "a = (1, 1, 1, 2, 2, 2, 3, 3, 3, 3, 4, 4, 4, 4, 5, 5, 6, 6, 6)                     # Sample 2\n",
    "\n",
    "# Main reason of having the elements included to a set is to have unique values.\n",
    "b = set()\n",
    "for EachElement in a:\n",
    "    b.add(EachElement)\n",
    "\n",
    "# Reason for having a 'Dictionary' is to capture information of the element & number of times it appears in the data set.\n",
    "dictMode = {}\n",
    "for EachElementb in b:\n",
    "    count = 0\n",
    "    for EachElementa in a:\n",
    "        if EachElementb == EachElementa:\n",
    "            count += 1\n",
    "    dictMode.update({EachElementb : count})\n",
    "\n",
    "# Finally it is time to find the 'Mode' and classify our finding.\n",
    "# The code will attempt to populate a blank list which will help us in classifying the 'Mode'.\n",
    "val = max(dictMode.values())\n",
    "myList = []\n",
    "for key, value in dictMode.items():\n",
    "    if val == value:\n",
    "        myList.append(key)\n",
    "print (\"Mode for dataset {} is:\".format(a) ,myList)\n",
    "if (len(myList) == 1):\n",
    "    print (\"The data is Uni-Modal.\")\n",
    "elif (len(myList) == 2):\n",
    "    print (\"The data is Bi-Modal.\")\n",
    "elif (len(myList) == 3):\n",
    "    print (\"The data is Tri-Modal.\")\n",
    "elif (len(myList) > 3):\n",
    "    print (\"The data is Multi-Modal.\")\n",
    "else:\n",
    "    print (\"The data has no Mode.\")"
   ]
  }
 ],
 "metadata": {
  "kernelspec": {
   "display_name": "Python 3",
   "language": "python",
   "name": "python3"
  },
  "language_info": {
   "codemirror_mode": {
    "name": "ipython",
    "version": 3
   },
   "file_extension": ".py",
   "mimetype": "text/x-python",
   "name": "python",
   "nbconvert_exporter": "python",
   "pygments_lexer": "ipython3",
   "version": "3.7.6"
  }
 },
 "nbformat": 4,
 "nbformat_minor": 4
}
