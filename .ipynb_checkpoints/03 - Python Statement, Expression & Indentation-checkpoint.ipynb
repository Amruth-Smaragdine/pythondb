{
 "cells": [
  {
   "cell_type": "markdown",
   "metadata": {},
   "source": [
    "# Python Statement, Expression & Indentation"
   ]
  },
  {
   "cell_type": "code",
   "execution_count": 1,
   "metadata": {},
   "outputs": [
    {
     "name": "stdout",
     "output_type": "stream",
     "text": [
      "--Return--\n",
      "> <ipython-input-1-53e771752b7e>(2)<module>()->None\n",
      "-> pdb.set_trace()\n",
      "(Pdb) p locals()\n",
      "{'__name__': '__main__', '__doc__': 'Automatically created module for IPython interactive environment', '__package__': None, '__loader__': None, '__spec__': None, '__builtin__': <module 'builtins' (built-in)>, '__builtins__': <module 'builtins' (built-in)>, '_ih': ['', 'import pdb\\npdb.set_trace()\\na = 3\\nb = 6\\nx = a ** 2 + b ** 2 + 2 * ( a + b )\\nprint (x)'], '_oh': {}, '_dh': ['C:\\\\Users\\\\Smaragdine\\\\PythonSelfLearning'], 'In': ['', 'import pdb\\npdb.set_trace()\\na = 3\\nb = 6\\nx = a ** 2 + b ** 2 + 2 * ( a + b )\\nprint (x)'], 'Out': {}, 'get_ipython': <bound method InteractiveShell.get_ipython of <ipykernel.zmqshell.ZMQInteractiveShell object at 0x00000237A27DC788>>, 'exit': <IPython.core.autocall.ZMQExitAutocall object at 0x00000237A4BAB4C8>, 'quit': <IPython.core.autocall.ZMQExitAutocall object at 0x00000237A4BAB4C8>, '_': '', '__': '', '___': '', '_i': '', '_ii': '', '_iii': '', '_i1': 'import pdb\\npdb.set_trace()\\na = 3\\nb = 6\\nx = a ** 2 + b ** 2 + 2 * ( a + b )\\nprint (x)', 'pdb': <module 'pdb' from 'D:\\\\ProgramData\\\\Anaconda3\\\\lib\\\\pdb.py'>, '__return__': None}\n",
      "(Pdb) c\n",
      "63\n"
     ]
    }
   ],
   "source": [
    "import pdb\n",
    "pdb.set_trace()\n",
    "a = 3\n",
    "b = 6\n",
    "x = a ** 2 + b ** 2 + 2 * ( a + b )\n",
    "print (x)"
   ]
  },
  {
   "cell_type": "code",
   "execution_count": 2,
   "metadata": {},
   "outputs": [],
   "source": [
    "# Complete list of modules in Python.\n",
    "# help (\"modules\")                    # This can be used in case one needs information of all Python modules\n",
    "                                      # Intentionally commented as the execution takes lot of processing time. \n",
    "\n",
    "# Following code will give us similar output as above, but few are ignored.\n",
    "# for ListModules in help(\"modules\"):    # Intentionally commented following three lines. Execution will take time.\n",
    "#     print (ListModules)\n",
    "# print (len(ListModules))"
   ]
  },
  {
   "cell_type": "code",
   "execution_count": 12,
   "metadata": {},
   "outputs": [
    {
     "name": "stdout",
     "output_type": "stream",
     "text": [
      "Variable1: 9\n",
      "Variable1 ID: 140710005547664\n",
      "Variable2: 9\n",
      "Variable2 ID: 140710005547664\n"
     ]
    }
   ],
   "source": [
    "\"\"\"\n",
    "Code displays following output:\n",
    "\n",
    "Variable1: 9\n",
    "Variable1 ID: 140710005547664\n",
    "Variable2: 9\n",
    "Variable2 ID: 140710005547664\n",
    "\"\"\"\n",
    "Variable1 = 9\n",
    "print (\"Variable1:\", Variable1)\n",
    "print (\"Variable1 ID:\", id(Variable1))\n",
    "Variable2 = 9\n",
    "print (\"Variable2:\", Variable2)\n",
    "print (\"Variable2 ID:\", id(Variable2))"
   ]
  },
  {
   "cell_type": "code",
   "execution_count": 10,
   "metadata": {},
   "outputs": [
    {
     "name": "stdout",
     "output_type": "stream",
     "text": [
      "IntegerVar1 value: 9\n",
      "IntegerVar1 ID: 140710005547664\n",
      "IntegerVar1 value: 18\n",
      "IntegerVar1 ID: 140710005547952\n"
     ]
    }
   ],
   "source": [
    "\"\"\"\n",
    "Code Displays following output:\n",
    "\n",
    "IntegerVar1 value: 9\n",
    "IntegerVar1 ID: 140710005547664\n",
    "IntegerVar1 value: 18\n",
    "IntegerVar1 ID: 140710005547952\n",
    "\"\"\"\n",
    "IntegerVar1 = 9\n",
    "print (\"IntegerVar1 value:\", IntegerVar1)\n",
    "print (\"IntegerVar1 ID:\", id(IntegerVar1))\n",
    "IntegerVar1 = 18\n",
    "print (\"IntegerVar1 value:\", IntegerVar1)\n",
    "print (\"IntegerVar1 ID:\", id(IntegerVar1))"
   ]
  },
  {
   "cell_type": "code",
   "execution_count": 13,
   "metadata": {},
   "outputs": [
    {
     "name": "stdout",
     "output_type": "stream",
     "text": [
      "StrVariable1: Amruth\n",
      "StrVariable1 ID: 2438027583856\n",
      "StrVariable2: Amruth\n",
      "StrVariable2 ID: 2438027583856\n"
     ]
    }
   ],
   "source": [
    "\"\"\"\n",
    "Code Displays following output:\n",
    "\n",
    "StrVariable1: Amruth\n",
    "StrVariable1 ID: 2438027583856\n",
    "StrVariable2: Amruth\n",
    "StrVariable2 ID: 2438027583856\n",
    "StringVar1 = 'Smaragdine'\n",
    "\"\"\"\n",
    "StrVariable1 = 'Amruth'\n",
    "print (\"StrVariable1:\", StrVariable1)\n",
    "print (\"StrVariable1 ID:\", id(StrVariable1))\n",
    "StrVariable2 = 'Amruth'\n",
    "print (\"StrVariable2:\", StrVariable2)\n",
    "print (\"StrVariable2 ID:\", id(StrVariable2))"
   ]
  },
  {
   "cell_type": "code",
   "execution_count": 9,
   "metadata": {},
   "outputs": [
    {
     "name": "stdout",
     "output_type": "stream",
     "text": [
      "StringVar1 value: Smaragdine\n",
      "StringVar1 ID: 2438010093616\n",
      "StringVar1 value: Technologies\n",
      "StringVar1 ID: 2438028623984\n"
     ]
    }
   ],
   "source": [
    "\"\"\"\n",
    "Code displays following output:\n",
    "\n",
    "StringVar1 value: Smaragdine\n",
    "StringVar1 ID: 2438010093616\n",
    "StringVar1 value: Technologies\n",
    "StringVar1 ID: 2438028623984\n",
    "\"\"\"\n",
    "StringVar1 = 'Smaragdine'\n",
    "print (\"StringVar1 value:\", StringVar1)\n",
    "print (\"StringVar1 ID:\", id(StringVar1))\n",
    "StringVar1 = 'Technologies'\n",
    "print (\"StringVar1 value:\", StringVar1)\n",
    "print (\"StringVar1 ID:\", id(StringVar1))"
   ]
  },
  {
   "cell_type": "code",
   "execution_count": 16,
   "metadata": {},
   "outputs": [
    {
     "name": "stdout",
     "output_type": "stream",
     "text": [
      "FloatVar1 value: 1.8\n",
      "FloatVar1 ID: 2438030221552\n",
      "FloatVar2 value: 1.8\n",
      "FloatVar2 ID: 2438030224112\n"
     ]
    }
   ],
   "source": [
    "\"\"\"\n",
    "Code displays following output:\n",
    "\n",
    "FloatVar1 value: 1.8\n",
    "FloatVar1 ID: 2438030221552\n",
    "FloatVar2 value: 1.8\n",
    "FloatVar2 ID: 2438030224112\n",
    "\"\"\"\n",
    "FloatVar1 = 1.8\n",
    "print (\"FloatVar1 value:\", FloatVar1)\n",
    "print (\"FloatVar1 ID:\", id(FloatVar1))\n",
    "FloatVar2 = 1.8\n",
    "print (\"FloatVar2 value:\", FloatVar2)\n",
    "print (\"FloatVar2 ID:\", id(FloatVar2))"
   ]
  },
  {
   "cell_type": "code",
   "execution_count": 8,
   "metadata": {},
   "outputs": [
    {
     "name": "stdout",
     "output_type": "stream",
     "text": [
      "FloatVariable1 value: 12.6\n",
      "FloatVariable1 ID: 2438024873200\n",
      "FloatVariable1 value: 15.3\n",
      "FloatVariable1 ID: 2438010608496\n"
     ]
    }
   ],
   "source": [
    "\"\"\"\n",
    "Code displays following output:\n",
    "\n",
    "FloatVariable1 value: 12.6\n",
    "FloatVariable1 ID: 2438024873200\n",
    "FloatVariable1 value: 15.3\n",
    "FloatVariable1 ID: 2438010608496\n",
    "\"\"\"\n",
    "FloatVariable1 = 12.6\n",
    "print (\"FloatVariable1 value:\", FloatVariable1)\n",
    "print (\"FloatVariable1 ID:\", id(FloatVariable1))\n",
    "FloatVariable1 = 15.3\n",
    "print (\"FloatVariable1 value:\", FloatVariable1)\n",
    "print (\"FloatVariable1 ID:\", id(FloatVariable1))"
   ]
  },
  {
   "cell_type": "code",
   "execution_count": 33,
   "metadata": {},
   "outputs": [
    {
     "name": "stdout",
     "output_type": "stream",
     "text": [
      "Output of 'pow (2, 10)': 1024\n",
      "Output of 'eval (\"10 ** 2\")' is : 100\n"
     ]
    }
   ],
   "source": [
    "print (\"Output of 'pow (2, 10)':\", pow (2, 10))\n",
    "print (\"Output of\", \"'\" + 'eval (\"10 ** 2\")' \"'\", \"is :\", eval (\"10 ** 2\"))"
   ]
  },
  {
   "cell_type": "code",
   "execution_count": null,
   "metadata": {},
   "outputs": [],
   "source": []
  }
 ],
 "metadata": {
  "kernelspec": {
   "display_name": "Python 3",
   "language": "python",
   "name": "python3"
  },
  "language_info": {
   "codemirror_mode": {
    "name": "ipython",
    "version": 3
   },
   "file_extension": ".py",
   "mimetype": "text/x-python",
   "name": "python",
   "nbconvert_exporter": "python",
   "pygments_lexer": "ipython3",
   "version": "3.7.6"
  }
 },
 "nbformat": 4,
 "nbformat_minor": 4
}
