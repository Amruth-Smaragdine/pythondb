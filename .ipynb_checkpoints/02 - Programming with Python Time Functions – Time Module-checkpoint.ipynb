{
 "cells": [
  {
   "cell_type": "markdown",
   "metadata": {},
   "source": [
    "# Programming with Python Time Functions – Time Module"
   ]
  },
  {
   "cell_type": "code",
   "execution_count": 1,
   "metadata": {},
   "outputs": [
    {
     "data": {
      "text/plain": [
       "['_STRUCT_TM_ITEMS',\n",
       " '__doc__',\n",
       " '__loader__',\n",
       " '__name__',\n",
       " '__package__',\n",
       " '__spec__',\n",
       " 'altzone',\n",
       " 'asctime',\n",
       " 'clock',\n",
       " 'ctime',\n",
       " 'daylight',\n",
       " 'get_clock_info',\n",
       " 'gmtime',\n",
       " 'localtime',\n",
       " 'mktime',\n",
       " 'monotonic',\n",
       " 'monotonic_ns',\n",
       " 'perf_counter',\n",
       " 'perf_counter_ns',\n",
       " 'process_time',\n",
       " 'process_time_ns',\n",
       " 'sleep',\n",
       " 'strftime',\n",
       " 'strptime',\n",
       " 'struct_time',\n",
       " 'thread_time',\n",
       " 'thread_time_ns',\n",
       " 'time',\n",
       " 'time_ns',\n",
       " 'timezone',\n",
       " 'tzname']"
      ]
     },
     "execution_count": 1,
     "metadata": {},
     "output_type": "execute_result"
    }
   ],
   "source": [
    "import time\n",
    "dir(time)\n",
    "# time.__doc__"
   ]
  },
  {
   "cell_type": "code",
   "execution_count": 2,
   "metadata": {},
   "outputs": [
    {
     "data": {
      "text/plain": [
       "11"
      ]
     },
     "execution_count": 2,
     "metadata": {},
     "output_type": "execute_result"
    }
   ],
   "source": [
    "time._STRUCT_TM_ITEMS"
   ]
  },
  {
   "cell_type": "code",
   "execution_count": 3,
   "metadata": {},
   "outputs": [
    {
     "data": {
      "text/plain": [
       "'This module provides various functions to manipulate time values.\\n\\nThere are two standard representations of time.  One is the number\\nof seconds since the Epoch, in UTC (a.k.a. GMT).  It may be an integer\\nor a floating point number (to represent fractions of seconds).\\nThe Epoch is system-defined; on Unix, it is generally January 1st, 1970.\\nThe actual value can be retrieved by calling gmtime(0).\\n\\nThe other representation is a tuple of 9 integers giving local time.\\nThe tuple items are:\\n  year (including century, e.g. 1998)\\n  month (1-12)\\n  day (1-31)\\n  hours (0-23)\\n  minutes (0-59)\\n  seconds (0-59)\\n  weekday (0-6, Monday is 0)\\n  Julian day (day in the year, 1-366)\\n  DST (Daylight Savings Time) flag (-1, 0 or 1)\\nIf the DST flag is 0, the time is given in the regular time zone;\\nif it is 1, the time is given in the DST time zone;\\nif it is -1, mktime() should guess based on the date and time.\\n'"
      ]
     },
     "execution_count": 3,
     "metadata": {},
     "output_type": "execute_result"
    }
   ],
   "source": [
    "# This helps us with the document string of 'time' package \n",
    "time.__doc__"
   ]
  },
  {
   "cell_type": "code",
   "execution_count": 4,
   "metadata": {},
   "outputs": [
    {
     "data": {
      "text/plain": [
       "_frozen_importlib.BuiltinImporter"
      ]
     },
     "execution_count": 4,
     "metadata": {},
     "output_type": "execute_result"
    }
   ],
   "source": [
    "time.__loader__"
   ]
  },
  {
   "cell_type": "code",
   "execution_count": 5,
   "metadata": {},
   "outputs": [
    {
     "data": {
      "text/plain": [
       "'time'"
      ]
     },
     "execution_count": 5,
     "metadata": {},
     "output_type": "execute_result"
    }
   ],
   "source": [
    "time.__name__"
   ]
  },
  {
   "cell_type": "code",
   "execution_count": 6,
   "metadata": {},
   "outputs": [
    {
     "data": {
      "text/plain": [
       "''"
      ]
     },
     "execution_count": 6,
     "metadata": {},
     "output_type": "execute_result"
    }
   ],
   "source": [
    "time.__package__"
   ]
  },
  {
   "cell_type": "code",
   "execution_count": 7,
   "metadata": {},
   "outputs": [
    {
     "data": {
      "text/plain": [
       "ModuleSpec(name='time', loader=<class '_frozen_importlib.BuiltinImporter'>, origin='built-in')"
      ]
     },
     "execution_count": 7,
     "metadata": {},
     "output_type": "execute_result"
    }
   ],
   "source": [
    "time.__spec__"
   ]
  },
  {
   "cell_type": "code",
   "execution_count": 8,
   "metadata": {},
   "outputs": [
    {
     "data": {
      "text/plain": [
       "-23400"
      ]
     },
     "execution_count": 8,
     "metadata": {},
     "output_type": "execute_result"
    }
   ],
   "source": [
    "time.altzone"
   ]
  },
  {
   "cell_type": "code",
   "execution_count": 9,
   "metadata": {},
   "outputs": [
    {
     "name": "stdout",
     "output_type": "stream",
     "text": [
      "<built-in function asctime>\n",
      "Sat Jun 13 05:34:31 2020\n"
     ]
    }
   ],
   "source": [
    "# Function 'asctime'\n",
    "print (time.asctime)          # This just prints the function name and it's type (built-in)\n",
    "print (time.asctime())        # This retuns the value: 'Fri Jun 12 10:26:00 2020'. Output format is:  Day Month Date, Hours:Minutes:Seconds Year'"
   ]
  },
  {
   "cell_type": "code",
   "execution_count": 10,
   "metadata": {},
   "outputs": [
    {
     "name": "stderr",
     "output_type": "stream",
     "text": [
      "D:\\ProgramData\\Anaconda3\\lib\\site-packages\\ipykernel_launcher.py:3: DeprecationWarning: time.clock has been deprecated in Python 3.3 and will be removed from Python 3.8: use time.perf_counter or time.process_time instead\n",
      "  This is separate from the ipykernel package so we can avoid doing imports until\n"
     ]
    },
    {
     "data": {
      "text/plain": [
       "4.090638689"
      ]
     },
     "execution_count": 10,
     "metadata": {},
     "output_type": "execute_result"
    }
   ],
   "source": [
    "# function clock() - Deprecated from Python 3.3\n",
    "time.clock\n",
    "time.clock()"
   ]
  },
  {
   "cell_type": "code",
   "execution_count": 11,
   "metadata": {},
   "outputs": [
    {
     "name": "stdout",
     "output_type": "stream",
     "text": [
      "<built-in function ctime>\n",
      "Sat Jun 13 05:34:32 2020\n"
     ]
    }
   ],
   "source": [
    "# Function 'ctime'\n",
    "print (time.ctime)          # This just prints the function name and it's type (built-in)\n",
    "print (time.ctime())        # This retuns the value: 'Fri Jun 12 10:26:00 2020'. Output format is:  Day Month Date, Hours:Minutes:Seconds Year'"
   ]
  },
  {
   "cell_type": "code",
   "execution_count": 12,
   "metadata": {},
   "outputs": [
    {
     "data": {
      "text/plain": [
       "0"
      ]
     },
     "execution_count": 12,
     "metadata": {},
     "output_type": "execute_result"
    }
   ],
   "source": [
    "# Method 'daylight'\n",
    "time.daylight = 0\n",
    "time.daylight"
   ]
  },
  {
   "cell_type": "code",
   "execution_count": 13,
   "metadata": {},
   "outputs": [
    {
     "name": "stderr",
     "output_type": "stream",
     "text": [
      "D:\\ProgramData\\Anaconda3\\lib\\site-packages\\ipykernel_launcher.py:3: DeprecationWarning: time.clock has been deprecated in Python 3.3 and will be removed from Python 3.8: use time.perf_counter or time.process_time instead\n",
      "  This is separate from the ipykernel package so we can avoid doing imports until\n"
     ]
    },
    {
     "data": {
      "text/plain": [
       "namespace(adjustable=False, implementation='QueryPerformanceCounter()', monotonic=True, resolution=5.131847424017867e-07)"
      ]
     },
     "execution_count": 13,
     "metadata": {},
     "output_type": "execute_result"
    }
   ],
   "source": [
    "# Function 'get_clock_info' - Deprecated from Python 3.3\n",
    "time.get_clock_info\n",
    "time.get_clock_info('clock')"
   ]
  },
  {
   "cell_type": "code",
   "execution_count": 14,
   "metadata": {},
   "outputs": [
    {
     "name": "stdout",
     "output_type": "stream",
     "text": [
      "<built-in function gmtime>\n",
      "time.struct_time(tm_year=2020, tm_mon=6, tm_mday=13, tm_hour=0, tm_min=4, tm_sec=32, tm_wday=5, tm_yday=165, tm_isdst=0)\n",
      "time.struct_time(tm_year=1970, tm_mon=1, tm_mday=1, tm_hour=0, tm_min=0, tm_sec=0, tm_wday=3, tm_yday=1, tm_isdst=0)\n"
     ]
    }
   ],
   "source": [
    "# Function 'gmtime'\n",
    "# gmtime() displays: time.struct_time(tm_year=2020, tm_mon=6, tm_mday=12, tm_hour=9, tm_min=6, tm_sec=11, tm_wday=4, tm_yday=164, tm_isdst=0)\n",
    "print (time.gmtime)\n",
    "print (time.gmtime())\n",
    "print (time.gmtime(0))          # Displays EPOCH time."
   ]
  },
  {
   "cell_type": "code",
   "execution_count": 15,
   "metadata": {},
   "outputs": [
    {
     "name": "stdout",
     "output_type": "stream",
     "text": [
      "<built-in function localtime>\n",
      "time.struct_time(tm_year=2020, tm_mon=6, tm_mday=13, tm_hour=5, tm_min=34, tm_sec=32, tm_wday=5, tm_yday=165, tm_isdst=0)\n"
     ]
    }
   ],
   "source": [
    "# Function 'localtime' \n",
    "# displays: time.struct_time(tm_year=2020, tm_mon=6, tm_mday=12, tm_hour=14, tm_min=38, tm_sec=58, tm_wday=4, tm_yday=164, tm_isdst=0)\n",
    "print (time.localtime)\n",
    "print (time.localtime())"
   ]
  },
  {
   "cell_type": "code",
   "execution_count": 16,
   "metadata": {},
   "outputs": [
    {
     "name": "stdout",
     "output_type": "stream",
     "text": [
      "1592006672.3584764\n",
      "time.struct_time(tm_year=2020, tm_mon=6, tm_mday=13, tm_hour=5, tm_min=34, tm_sec=32, tm_wday=5, tm_yday=165, tm_isdst=0)\n",
      "1592006672.0\n"
     ]
    }
   ],
   "source": [
    "# Function 'mkitme'\n",
    "\n",
    "# following line of code displays:1591953528.0539095\n",
    "print (time.time())\n",
    "\n",
    "# following line of code dispyals: time.struct_time(tm_year=2020, tm_mon=6, tm_mday=12, tm_hour=14, tm_min=48, tm_sec=48, tm_wday=4, tm_yday=164, tm_isdst=0)\n",
    "print (time.localtime())\n",
    "\n",
    "# following line of code displays:1591953528.0\n",
    "print (time.mktime(time.localtime()))"
   ]
  },
  {
   "cell_type": "code",
   "execution_count": 17,
   "metadata": {},
   "outputs": [
    {
     "name": "stdout",
     "output_type": "stream",
     "text": [
      "<built-in function monotonic>\n",
      "777498.265\n",
      "time.struct_time(tm_year=1970, tm_mon=1, tm_mday=10, tm_hour=5, tm_min=28, tm_sec=18, tm_wday=5, tm_yday=10, tm_isdst=0)\n",
      "777498.0\n"
     ]
    }
   ],
   "source": [
    "# function 'monotonic'\n",
    "print (time.monotonic)\n",
    "print (time.monotonic())\n",
    "print (time.localtime(time.monotonic()))\n",
    "print (time.mktime(time.localtime(time.monotonic())))"
   ]
  },
  {
   "cell_type": "code",
   "execution_count": 18,
   "metadata": {},
   "outputs": [
    {
     "name": "stdout",
     "output_type": "stream",
     "text": [
      "<built-in function monotonic_ns>\n",
      "777498390000000\n",
      "time.struct_time(tm_year=1970, tm_mon=1, tm_mday=10, tm_hour=5, tm_min=28, tm_sec=18, tm_wday=5, tm_yday=10, tm_isdst=0)\n"
     ]
    }
   ],
   "source": [
    "# function 'monotonic_ns'.\n",
    "# One nano second is 10 to the power of 9 second\n",
    "print (time.monotonic_ns)\n",
    "print (time.monotonic_ns())\n",
    "print (time.localtime(time.monotonic_ns()/10**9))"
   ]
  },
  {
   "cell_type": "code",
   "execution_count": 19,
   "metadata": {},
   "outputs": [
    {
     "name": "stdout",
     "output_type": "stream",
     "text": [
      "<built-in function perf_counter>\n",
      "4.764432807\n",
      "time.struct_time(tm_year=1970, tm_mon=1, tm_mday=1, tm_hour=5, tm_min=30, tm_sec=4, tm_wday=3, tm_yday=1, tm_isdst=0)\n"
     ]
    }
   ],
   "source": [
    "# function 'perfcounter'\n",
    "print (time.perf_counter)\n",
    "print (time.perf_counter())\n",
    "print (time.localtime(time.perf_counter()))"
   ]
  },
  {
   "cell_type": "code",
   "execution_count": 20,
   "metadata": {},
   "outputs": [
    {
     "name": "stdout",
     "output_type": "stream",
     "text": [
      "<built-in function perf_counter_ns>\n",
      "4813874565\n",
      "time.struct_time(tm_year=1970, tm_mon=1, tm_mday=1, tm_hour=5, tm_min=30, tm_sec=4, tm_wday=3, tm_yday=1, tm_isdst=0)\n"
     ]
    }
   ],
   "source": [
    "# function 'perfcounter_ns'\n",
    "print (time.perf_counter_ns)\n",
    "print (time.perf_counter_ns())\n",
    "print (time.localtime(time.perf_counter_ns()/10**9))"
   ]
  },
  {
   "cell_type": "code",
   "execution_count": 21,
   "metadata": {},
   "outputs": [
    {
     "name": "stdout",
     "output_type": "stream",
     "text": [
      "<built-in function process_time>\n",
      "3.09375\n",
      "time.struct_time(tm_year=1970, tm_mon=1, tm_mday=1, tm_hour=5, tm_min=30, tm_sec=3, tm_wday=3, tm_yday=1, tm_isdst=0)\n"
     ]
    }
   ],
   "source": [
    "# function 'process_time'\n",
    "print (time.process_time)\n",
    "print (time.process_time())\n",
    "print (time.localtime(time.process_time()))"
   ]
  },
  {
   "cell_type": "code",
   "execution_count": 22,
   "metadata": {},
   "outputs": [
    {
     "name": "stdout",
     "output_type": "stream",
     "text": [
      "<built-in function process_time_ns>\n",
      "3109375000\n",
      "time.struct_time(tm_year=1970, tm_mon=1, tm_mday=1, tm_hour=5, tm_min=30, tm_sec=3, tm_wday=3, tm_yday=1, tm_isdst=0)\n"
     ]
    }
   ],
   "source": [
    "# function 'process_time_ns'\n",
    "print (time.process_time_ns)\n",
    "print (time.process_time_ns())\n",
    "print (time.localtime(time.process_time_ns()/10**9))"
   ]
  },
  {
   "cell_type": "code",
   "execution_count": 23,
   "metadata": {},
   "outputs": [
    {
     "name": "stdout",
     "output_type": "stream",
     "text": [
      "<built-in function sleep>\n",
      "time.struct_time(tm_year=2020, tm_mon=6, tm_mday=13, tm_hour=5, tm_min=34, tm_sec=33, tm_wday=5, tm_yday=165, tm_isdst=0)\n",
      "None\n",
      "time.struct_time(tm_year=2020, tm_mon=6, tm_mday=13, tm_hour=5, tm_min=34, tm_sec=43, tm_wday=5, tm_yday=165, tm_isdst=0)\n"
     ]
    }
   ],
   "source": [
    "# function 'sleep'\n",
    "print (time.sleep)\n",
    "print (time.localtime())\n",
    "print (time.sleep(10))\n",
    "print (time.localtime())"
   ]
  },
  {
   "cell_type": "code",
   "execution_count": 24,
   "metadata": {},
   "outputs": [
    {
     "name": "stdout",
     "output_type": "stream",
     "text": [
      "<built-in function strftime>\n",
      "Jan 01 1970 00:00:00\n",
      "Jun 13 2020 00:04:43\n",
      "Jun 13 2020 05:34:43\n"
     ]
    }
   ],
   "source": [
    "# function 'strftime'\n",
    "print (time.strftime)\n",
    "print (time.strftime(\"%b %d %Y %H:%M:%S\", time.gmtime(0)))\n",
    "print (time.strftime(\"%b %d %Y %H:%M:%S\", time.gmtime()))\n",
    "print (time.strftime(\"%b %d %Y %H:%M:%S\", time.localtime()))"
   ]
  },
  {
   "cell_type": "code",
   "execution_count": 25,
   "metadata": {},
   "outputs": [
    {
     "data": {
      "text/plain": [
       "time.struct_time(tm_year=2020, tm_mon=6, tm_mday=12, tm_hour=0, tm_min=0, tm_sec=0, tm_wday=4, tm_yday=164, tm_isdst=-1)"
      ]
     },
     "execution_count": 25,
     "metadata": {},
     "output_type": "execute_result"
    }
   ],
   "source": [
    "# function 'strptime'\n",
    "time.strptime\n",
    "time.strptime(\"12:06:20\", \"%d:%m:%y\")"
   ]
  },
  {
   "cell_type": "code",
   "execution_count": 26,
   "metadata": {},
   "outputs": [
    {
     "data": {
      "text/plain": [
       "time.struct_time(tm_year=2020, tm_mon=6, tm_mday=13, tm_hour=5, tm_min=34, tm_sec=43, tm_wday=5, tm_yday=165, tm_isdst=0)"
      ]
     },
     "execution_count": 26,
     "metadata": {},
     "output_type": "execute_result"
    }
   ],
   "source": [
    "# function 'struct_time'\n",
    "time.struct_time(time.localtime())"
   ]
  },
  {
   "cell_type": "code",
   "execution_count": 27,
   "metadata": {},
   "outputs": [
    {
     "name": "stdout",
     "output_type": "stream",
     "text": [
      "<built-in function thread_time>\n",
      "2.796875\n"
     ]
    }
   ],
   "source": [
    "# function 'thread_time'\n",
    "print (time.thread_time)\n",
    "print (time.thread_time())"
   ]
  },
  {
   "cell_type": "code",
   "execution_count": 28,
   "metadata": {},
   "outputs": [
    {
     "name": "stdout",
     "output_type": "stream",
     "text": [
      "<built-in function thread_time_ns>\n",
      "2828125000\n",
      "2.84375\n"
     ]
    }
   ],
   "source": [
    "# function 'thread_time_ns'\n",
    "print (time.thread_time_ns)\n",
    "print (time.thread_time_ns())\n",
    "print (time.thread_time_ns()/10**9)"
   ]
  },
  {
   "cell_type": "code",
   "execution_count": 29,
   "metadata": {},
   "outputs": [
    {
     "name": "stdout",
     "output_type": "stream",
     "text": [
      "<built-in function time>\n",
      "1592006683.3877664\n",
      "time.struct_time(tm_year=2020, tm_mon=6, tm_mday=13, tm_hour=5, tm_min=34, tm_sec=43, tm_wday=5, tm_yday=165, tm_isdst=0)\n"
     ]
    }
   ],
   "source": [
    "# function 'time'\n",
    "print (time.time)\n",
    "print (time.time())\n",
    "print (time.localtime(time.time()))"
   ]
  },
  {
   "cell_type": "code",
   "execution_count": 30,
   "metadata": {},
   "outputs": [
    {
     "name": "stdout",
     "output_type": "stream",
     "text": [
      "<built-in function time_ns>\n",
      "1592006683433740600\n",
      "time.struct_time(tm_year=2020, tm_mon=6, tm_mday=13, tm_hour=5, tm_min=34, tm_sec=43, tm_wday=5, tm_yday=165, tm_isdst=0)\n"
     ]
    }
   ],
   "source": [
    "# function 'time_ns'\n",
    "print (time.time_ns)\n",
    "print (time.time_ns())\n",
    "print (time.localtime(time.time_ns()/10**9))"
   ]
  },
  {
   "cell_type": "code",
   "execution_count": 31,
   "metadata": {},
   "outputs": [
    {
     "data": {
      "text/plain": [
       "-19800"
      ]
     },
     "execution_count": 31,
     "metadata": {},
     "output_type": "execute_result"
    }
   ],
   "source": [
    "# function 'timezone'\n",
    "time.timezone"
   ]
  },
  {
   "cell_type": "code",
   "execution_count": 32,
   "metadata": {},
   "outputs": [
    {
     "data": {
      "text/plain": [
       "('India Standard Time', 'India Daylight Time')"
      ]
     },
     "execution_count": 32,
     "metadata": {},
     "output_type": "execute_result"
    }
   ],
   "source": [
    "time.tzname"
   ]
  },
  {
   "cell_type": "code",
   "execution_count": 33,
   "metadata": {},
   "outputs": [
    {
     "name": "stdout",
     "output_type": "stream",
     "text": [
      "1592006683.5716615\n",
      "System powered on\n",
      "Working\n",
      "System turned off\n",
      "1592006692.5925148\n"
     ]
    }
   ],
   "source": [
    "# Important functions of package 'time'\n",
    "\n",
    "# Example 01 with 'time.time()'\n",
    "import time\n",
    "print (time.time())\n",
    "print (\"System powered on\")\n",
    "print (\"Working\")\n",
    "time.sleep(9)\n",
    "print (\"System turned off\")\n",
    "print (time.time())"
   ]
  },
  {
   "cell_type": "code",
   "execution_count": 34,
   "metadata": {},
   "outputs": [
    {
     "name": "stdout",
     "output_type": "stream",
     "text": [
      "Fri Jun 12 15:49:18 2020\n",
      "Fri Jun 12 15:49:27 2020\n"
     ]
    }
   ],
   "source": [
    "# Important functions of package 'time'\n",
    "\n",
    "# Example 02 with 'time.ctime()'\n",
    "print (time.ctime(1591957158.039473))\n",
    "print (time.ctime(1591957167.043127))"
   ]
  },
  {
   "cell_type": "code",
   "execution_count": 35,
   "metadata": {},
   "outputs": [
    {
     "name": "stdout",
     "output_type": "stream",
     "text": [
      "Begin Execution : of Smaragdine ERP\n",
      "Waiting. . .\n",
      "Done Executing : Smaragdine ERP\n"
     ]
    }
   ],
   "source": [
    "# Important functions of package 'time'\n",
    "\n",
    "# Example 03 with 'time.sleep()'\n",
    "print (\"Begin Execution : \",end=\"\")\n",
    "print (\"of Smaragdine ERP\")\n",
    "print (\"Waiting. . .\")\n",
    "time.sleep(18)\n",
    "print (\"Done Executing : \",end=\"\")\n",
    "print (\"Smaragdine ERP\")"
   ]
  },
  {
   "cell_type": "code",
   "execution_count": 36,
   "metadata": {},
   "outputs": [
    {
     "name": "stdout",
     "output_type": "stream",
     "text": [
      "Local Date & Time: Sat Jun 13 05:35:10 2020\n",
      "Day of the Month: 13\n",
      "Day of the Week: 5\n",
      "Day of the Year: 165\n"
     ]
    }
   ],
   "source": [
    "# Important functions of package 'time'\n",
    "\n",
    "# Example 04 with 'time.struct_time'\n",
    "print (\"Local Date & Time:\", time.ctime())\n",
    "t = time.localtime()\n",
    "print (\"Day of the Month:\", t.tm_mday)\n",
    "print (\"Day of the Week:\", t.tm_wday)\n",
    "print (\"Day of the Year:\", t.tm_yday)"
   ]
  },
  {
   "cell_type": "code",
   "execution_count": 37,
   "metadata": {},
   "outputs": [
    {
     "name": "stdout",
     "output_type": "stream",
     "text": [
      "Output of 'time.ctime()' Sat Jun 13 05:35:10 2020\n",
      "time.struct_time(tm_year=2020, tm_mon=6, tm_mday=13, tm_hour=5, tm_min=35, tm_sec=10, tm_wday=5, tm_yday=165, tm_isdst=0)\n",
      "Sat Jun 13 05:35:10 2020\n",
      "13th 06 20 05:35:10\n",
      "Sat Jun 13 06 2020\n",
      "Sat Jun 13 05:35:10 2020\n",
      "05 AM\n",
      "06/13/20 - India Standard Time\n"
     ]
    }
   ],
   "source": [
    "# Important functions of package 'time'\n",
    "\n",
    "# Example 05 with 'time.strftime'\n",
    "print (\"Output of 'time.ctime()'\", time.ctime())          # In this case there is no input required\n",
    "now = time.localtime()\n",
    "print (now)                                               # Displays all parameters of 'struct_time' stored in variable 'now'\n",
    "print (time.asctime(now))                                 # In this case input in the form of tuple is required\n",
    "print (time.strftime(\"%dth %m %y %H:%M:%S\", now))\n",
    "print (time.strftime(\"%a %b %d %m %Y\", now))\n",
    "print (time.strftime(\"%c\", now))\n",
    "print (time.strftime(\"%I %p\", now))\n",
    "print (time.strftime(\"%D - %Z\", now))"
   ]
  },
  {
   "cell_type": "code",
   "execution_count": 38,
   "metadata": {},
   "outputs": [
    {
     "name": "stdout",
     "output_type": "stream",
     "text": [
      "Current timezone is ('India Standard Time', 'India Daylight Time')\n",
      "New timezone is ('India Standard Time', 'India Daylight Time')\n"
     ]
    }
   ],
   "source": [
    "# Important functions of package 'time'\n",
    "\n",
    "# Example 05 with 'time.tzset'\n",
    "import os, time\n",
    "\n",
    "print('Current timezone is', time.tzname)\n",
    "os.environ['TZ'] = 'Europe/London'\n",
    "# time.tzset()\n",
    "print('New timezone is', time.tzname)"
   ]
  },
  {
   "cell_type": "code",
   "execution_count": 39,
   "metadata": {},
   "outputs": [
    {
     "name": "stdout",
     "output_type": "stream",
     "text": [
      "time.struct_time(tm_year=2020, tm_mon=6, tm_mday=12, tm_hour=10, tm_min=19, tm_sec=18, tm_wday=4, tm_yday=164, tm_isdst=0)\n",
      "time.struct_time(tm_year=2020, tm_mon=6, tm_mday=12, tm_hour=10, tm_min=19, tm_sec=27, tm_wday=4, tm_yday=164, tm_isdst=0)\n"
     ]
    }
   ],
   "source": [
    "print (time.gmtime(1591957158.039473))\n",
    "print (time.gmtime(1591957167.043127))"
   ]
  }
 ],
 "metadata": {
  "kernelspec": {
   "display_name": "Python 3",
   "language": "python",
   "name": "python3"
  },
  "language_info": {
   "codemirror_mode": {
    "name": "ipython",
    "version": 3
   },
   "file_extension": ".py",
   "mimetype": "text/x-python",
   "name": "python",
   "nbconvert_exporter": "python",
   "pygments_lexer": "ipython3",
   "version": "3.7.6"
  }
 },
 "nbformat": 4,
 "nbformat_minor": 4
}
