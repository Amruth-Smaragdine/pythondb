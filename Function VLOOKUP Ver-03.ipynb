{
 "cells": [
  {
   "cell_type": "code",
   "execution_count": 1,
   "metadata": {},
   "outputs": [
    {
     "data": {
      "application/javascript": [
       "IPython.notebook.set_autosave_interval(30000)"
      ]
     },
     "metadata": {},
     "output_type": "display_data"
    },
    {
     "name": "stdout",
     "output_type": "stream",
     "text": [
      "Autosaving every 30 seconds\n"
     ]
    }
   ],
   "source": [
    "%autosave 30"
   ]
  },
  {
   "cell_type": "code",
   "execution_count": 2,
   "metadata": {},
   "outputs": [
    {
     "name": "stdout",
     "output_type": "stream",
     "text": [
      "Input the Part Number:a123\n",
      "Error: Invalid Part Number\n"
     ]
    }
   ],
   "source": [
    "\"\"\"\n",
    "Following code snippet helps us search for a Part Number and provide us its details if found.\n",
    "This file analyses data from a CSV file (vlookup.csv). \n",
    "Before executing this code, it is suggested to have the CSV file in the same directory\n",
    "\"\"\"\n",
    "try: \n",
    "    fileVlookup = open(\"vlookup.csv\", \"r\")       # Opens CSV file in Read mode, assigns the file to 'fileVlookup' variable. \n",
    "                                                 # Throws a 'FileNotFoundError' if file does not exist\n",
    "    myString = ''                                # Why Create a New empty String variable ?\n",
    "    mySet = set()                                # Why Create a New Empty Set variable ?\n",
    "    partNum = input(\"Input the Part Number:\")    # Allowing the user to Input part number for Python to lookup the values in Memory\n",
    "    for eachLine in fileVlookup:                 # iterating over each line in the file\n",
    "        if partNum.upper() in eachLine:          # iterating over each part number in eachline searching for the part number in each Line     \n",
    "            myString = eachLine.rstrip(\"\\n\") # Call str. rstrip(chars) on a string with \"\\n\" as chars to create a new string with the trailing newline removed.\n",
    "        else:\n",
    "            mySet.add(\"Error: Invalid Part Number\") # if part number not found prompt error (\"Invalid Part Number\")\n",
    "    myList = []                              # why create a Empty List at this stage ?\n",
    "    if myString:                            # using if condition \n",
    "        # print (myString.split(\",\"))\n",
    "        myList = myString.split(\",\")        # Here you have split the one string into different Strings from one column to 6 columns\n",
    "        SNo = myList[0]                     # From here on 1 Column S.No is created and stored under List S.No\n",
    "        SupID = myList[1]                   # From here on 2 Column SupID is created and stored under List SupID\n",
    "        PartNum = myList[2]                 # From here on 3 Column PartNum is created and stored under List PartNum\n",
    "        PartName = myList[3]                # From here on 4 Column PartName is created and stored under List PartName\n",
    "        PartUnitPrice = myList[4]           # From here on 5 Column PartUnitPrice is created and stored under List PartUnitPrice     \n",
    "        StockStatus = myList[5]             # From here on 6 Column StockStatus is created and stored under List StockStatus\n",
    "        print (\"The part ({}) with part ID: {} is {} and it's unit price is: {}\".format(PartName, PartNum, StockStatus, PartUnitPrice))\n",
    "    else:\n",
    "        print (str(mySet).rstrip(\"'}\").lstrip(\"{'\")) # why was this required ??\n",
    "except FileNotFoundError:\n",
    "    print (\"Error: File could not be found\")"
   ]
  },
  {
   "cell_type": "code",
   "execution_count": 3,
   "metadata": {},
   "outputs": [
    {
     "name": "stdout",
     "output_type": "stream",
     "text": [
      "Input the Part Number:a234\n",
      "Variable 'myString' stores the value:  \n",
      "Variable 'mySet' stores the value:  {'Error: Invalid Part Number'}\n"
     ]
    }
   ],
   "source": [
    "# First module \n",
    "\n",
    "fileVlookup = open(\"vlookup.csv\", \"r\")\n",
    "myString = ''\n",
    "mySet = set()\n",
    "partNum = input(\"Input the Part Number:\")\n",
    "for eachLine in fileVlookup:\n",
    "    if partNum in eachLine:\n",
    "        myString = eachLine.rstrip(\"\\n\")\n",
    "    else:\n",
    "        mySet.add(\"Error: Invalid Part Number\")\n",
    "print (\"Variable 'myString' stores the value: \", myString)\n",
    "print (\"Variable 'mySet' stores the value: \", mySet)"
   ]
  },
  {
   "cell_type": "code",
   "execution_count": 4,
   "metadata": {},
   "outputs": [
    {
     "name": "stdout",
     "output_type": "stream",
     "text": [
      "Input the Part Number:a345\n",
      "\n"
     ]
    }
   ],
   "source": [
    "# First Module - Second Iteration\n",
    "# If user enters the part number with a smaller 'a' we make use of upper() function \n",
    "\n",
    "fileVlookup = open(\"vlookup.csv\", \"r\")\n",
    "myString = ''\n",
    "mySet = set()\n",
    "partNum = input(\"Input the Part Number:\")\n",
    "for eachLine in fileVlookup:\n",
    "    if partNum.upper() in eachLine:\n",
    "        myString = eachLine.rstrip(\"\\n\")\n",
    "    else:\n",
    "        mySet.add(\"Error: Invalid Part Number\")\n",
    "print (myString)"
   ]
  },
  {
   "cell_type": "code",
   "execution_count": 5,
   "metadata": {},
   "outputs": [
    {
     "name": "stdout",
     "output_type": "stream",
     "text": [
      "Input the Part Number:a456\n",
      "\n"
     ]
    }
   ],
   "source": [
    "# First Module - Third Iteration\n",
    "# In this iteration, length of part number is checked & appropriate result is displayed if correct part number is entered. \n",
    "\n",
    "fileVlookup = open(\"vlookup.csv\", \"r\")\n",
    "myString = ''\n",
    "mySet = set()\n",
    "partNum = input(\"Input the Part Number:\")\n",
    "if len(partNum) != 4:\n",
    "    print (\"Error: You have entered an invalid Part Number\")\n",
    "else:\n",
    "    for eachLine in fileVlookup:\n",
    "        if partNum.upper() in eachLine:\n",
    "            myString = eachLine.rstrip(\"\\n\")\n",
    "        else:\n",
    "            mySet.add(\"Error: You have entered an invalid Part Number\")\n",
    "print (myString)"
   ]
  },
  {
   "cell_type": "code",
   "execution_count": 6,
   "metadata": {},
   "outputs": [
    {
     "name": "stdout",
     "output_type": "stream",
     "text": [
      "Error: You have entered an invalid Part Number\n"
     ]
    }
   ],
   "source": [
    "# Second Part\n",
    "myList = []\n",
    "if myString:\n",
    "    print (myString.split(\",\"))\n",
    "    myList = myString.split(\",\")\n",
    "    SNo = myList[0]\n",
    "    SupID = myList[1]\n",
    "    PartNum = myList[2]\n",
    "    PartName = myList[3]\n",
    "    PartUnitPrice = myList[4]\n",
    "    StockStatus = myList[5]\n",
    "    print (\"The part ({}) with part ID: {} is {} and it's unit price is: {}\".\\\n",
    "           format(PartName, PartNum, StockStatus, PartUnitPrice))\n",
    "else:\n",
    "    print (str(mySet).rstrip(\"'}\").lstrip(\"{'\")) # why was this required ??"
   ]
  },
  {
   "cell_type": "code",
   "execution_count": 7,
   "metadata": {},
   "outputs": [
    {
     "name": "stdout",
     "output_type": "stream",
     "text": [
      "Input the Part Number:a567\n",
      "Error: You have entered an invalid Part Number\n"
     ]
    }
   ],
   "source": [
    "# vLookup function - Version 03 \n",
    "try: \n",
    "    # First Module \n",
    "    fileVlookup = open(\"vlookup.csv\", \"r\")\n",
    "    myString = ''\n",
    "    mySet = set()\n",
    "    partNum = input(\"Input the Part Number:\")\n",
    "    if len(partNum) != 4:\n",
    "        print (\"Warning: Part number has 4 characters. You have entered only {}: {}. Please retry!!!\".\\\n",
    "               format(len(partNum), partNum))\n",
    "    else:\n",
    "        for eachLine in fileVlookup:\n",
    "            if partNum.upper() in eachLine:\n",
    "                myString = eachLine.rstrip(\"\\n\")\n",
    "            else:\n",
    "                mySet.add(\"Error: You have entered an invalid Part Number\")\n",
    "    # Second Module\n",
    "    myList = []\n",
    "    if myString:\n",
    "        # print (myString.split(\",\"))\n",
    "        myList = myString.split(\",\")\n",
    "        SNo = myList[0]\n",
    "        SupID = myList[1]\n",
    "        PartNum = myList[2]\n",
    "        PartName = myList[3]\n",
    "        PartUnitPrice = myList[4]\n",
    "        StockStatus = myList[5]\n",
    "        print (\"The part ({}) with part ID: {} is {} and it's unit price is: {}\".\\\n",
    "               format(PartName, PartNum, StockStatus, PartUnitPrice))\n",
    "    else:\n",
    "        if len(myList) == 0:\n",
    "            print (\"Error: You have entered an invalid Part Number\")\n",
    "            # print (str(mySet).rstrip(\"'}\").lstrip(\"{'\")) \n",
    "        else:\n",
    "            print (\"Error: You have entered an invalid Part Number\")\n",
    "except FileNotFoundError:\n",
    "        print (\"Error: File could not be found\")"
   ]
  }
 ],
 "metadata": {
  "kernelspec": {
   "display_name": "Python 3",
   "language": "python",
   "name": "python3"
  },
  "language_info": {
   "codemirror_mode": {
    "name": "ipython",
    "version": 3
   },
   "file_extension": ".py",
   "mimetype": "text/x-python",
   "name": "python",
   "nbconvert_exporter": "python",
   "pygments_lexer": "ipython3",
   "version": "3.7.6"
  }
 },
 "nbformat": 4,
 "nbformat_minor": 4
}
