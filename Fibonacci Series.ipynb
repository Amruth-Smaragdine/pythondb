{
 "cells": [
  {
   "cell_type": "code",
   "execution_count": 1,
   "metadata": {},
   "outputs": [
    {
     "data": {
      "application/javascript": [
       "IPython.notebook.set_autosave_interval(30000)"
      ]
     },
     "metadata": {},
     "output_type": "display_data"
    },
    {
     "name": "stdout",
     "output_type": "stream",
     "text": [
      "Autosaving every 30 seconds\n"
     ]
    }
   ],
   "source": [
    "%autosave 30"
   ]
  },
  {
   "cell_type": "code",
   "execution_count": 2,
   "metadata": {},
   "outputs": [
    {
     "name": "stdout",
     "output_type": "stream",
     "text": [
      "Position 1: Fibonacci Number: 0\n",
      "Position 2: Fibonacci Number: 1\n",
      "Position 3: Fibonacci Number: 1\n",
      "Position 4: Fibonacci Number: 2\n",
      "Position 5: Fibonacci Number: 3\n",
      "Position 6: Fibonacci Number: 5\n",
      "Position 7: Fibonacci Number: 8\n",
      "Position 8: Fibonacci Number: 13\n",
      "Position 9: Fibonacci Number: 21\n",
      "Position 10: Fibonacci Number: 34\n",
      "Position 11: Fibonacci Number: 55\n",
      "Position 12: Fibonacci Number: 89\n",
      "Position 13: Fibonacci Number: 144\n",
      "Position 14: Fibonacci Number: 233\n",
      "Position 15: Fibonacci Number: 377\n",
      "Position 16: Fibonacci Number: 610\n",
      "Position 17: Fibonacci Number: 987\n",
      "Position 18: Fibonacci Number: 1597\n",
      "Position 19: Fibonacci Number: 2584\n",
      "Position 20: Fibonacci Number: 4181\n",
      "Position 21: Fibonacci Number: 6765\n",
      "Position 22: Fibonacci Number: 10946\n",
      "Position 23: Fibonacci Number: 17711\n",
      "Position 24: Fibonacci Number: 28657\n",
      "Position 25: Fibonacci Number: 46368\n",
      "Position 26: Fibonacci Number: 75025\n",
      "Position 27: Fibonacci Number: 121393\n",
      "Position 28: Fibonacci Number: 196418\n",
      "Position 29: Fibonacci Number: 317811\n",
      "Position 30: Fibonacci Number: 514229\n",
      "Position 31: Fibonacci Number: 832040\n",
      "Position 32: Fibonacci Number: 1346269\n",
      "Position 33: Fibonacci Number: 2178309\n",
      "Position 34: Fibonacci Number: 3524578\n",
      "Position 35: Fibonacci Number: 5702887\n",
      "Position 36: Fibonacci Number: 9227465\n",
      "Position 37: Fibonacci Number: 14930352\n",
      "Position 38: Fibonacci Number: 24157817\n",
      "Position 39: Fibonacci Number: 39088169\n",
      "Position 40: Fibonacci Number: 63245986\n",
      "Position 41: Fibonacci Number: 102334155\n",
      "Position 42: Fibonacci Number: 165580141\n",
      "Position 43: Fibonacci Number: 267914296\n",
      "Position 44: Fibonacci Number: 433494437\n",
      "Position 45: Fibonacci Number: 701408733\n",
      "Position 46: Fibonacci Number: 1134903170\n",
      "Position 47: Fibonacci Number: 1836311903\n",
      "Position 48: Fibonacci Number: 2971215073\n",
      "Position 49: Fibonacci Number: 4807526976\n",
      "Position 50: Fibonacci Number: 7778742049\n",
      "Position 51: Fibonacci Number: 12586269025\n",
      "Position 52: Fibonacci Number: 20365011074\n"
     ]
    }
   ],
   "source": [
    "#Code Snippet to print Fibonacci Series from 0-50 \n",
    "\n",
    "a = 0\n",
    "b = 1\n",
    "print (\"Position 1: Fibonacci Number:\", a)\n",
    "print (\"Position 2: Fibonacci Number:\", b)\n",
    "for i in range (0,50):\n",
    "    new = a + b\n",
    "    print (\"Position {}: Fibonacci Number: {}\".format(i+3,new))\n",
    "    a = b \n",
    "    b = new"
   ]
  }
 ],
 "metadata": {
  "kernelspec": {
   "display_name": "Python 3",
   "language": "python",
   "name": "python3"
  },
  "language_info": {
   "codemirror_mode": {
    "name": "ipython",
    "version": 3
   },
   "file_extension": ".py",
   "mimetype": "text/x-python",
   "name": "python",
   "nbconvert_exporter": "python",
   "pygments_lexer": "ipython3",
   "version": "3.7.6"
  }
 },
 "nbformat": 4,
 "nbformat_minor": 4
}
