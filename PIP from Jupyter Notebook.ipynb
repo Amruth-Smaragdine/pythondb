{
 "cells": [
  {
   "cell_type": "code",
   "execution_count": 1,
   "metadata": {},
   "outputs": [
    {
     "data": {
      "application/javascript": [
       "IPython.notebook.set_autosave_interval(30000)"
      ]
     },
     "metadata": {},
     "output_type": "display_data"
    },
    {
     "name": "stdout",
     "output_type": "stream",
     "text": [
      "Autosaving every 30 seconds\n"
     ]
    }
   ],
   "source": [
    "%autosave 30"
   ]
  },
  {
   "cell_type": "code",
   "execution_count": 2,
   "metadata": {},
   "outputs": [
    {
     "name": "stdout",
     "output_type": "stream",
     "text": [
      "Collecting indic_transliteration\n",
      "  Using cached indic_transliteration-1.9.6-py3-none-any.whl (97 kB)\n",
      "Collecting selenium\n",
      "  Using cached selenium-3.141.0-py2.py3-none-any.whl (904 kB)\n",
      "Collecting regex\n",
      "  Downloading regex-2020.6.8-cp37-cp37m-win_amd64.whl (268 kB)\n",
      "Requirement already satisfied: backports.functools-lru-cache in d:\\programdata\\anaconda3\\lib\\site-packages (from indic_transliteration) (1.6.1)\n",
      "Requirement already satisfied: urllib3 in d:\\programdata\\anaconda3\\lib\\site-packages (from selenium->indic_transliteration) (1.25.8)\n",
      "Installing collected packages: selenium, regex, indic-transliteration\n",
      "Successfully installed indic-transliteration-1.9.6 regex-2020.6.8 selenium-3.141.0\n"
     ]
    }
   ],
   "source": [
    "import sys\n",
    "!{sys.executable} -m pip install indic_transliteration"
   ]
  },
  {
   "cell_type": "code",
   "execution_count": 7,
   "metadata": {},
   "outputs": [
    {
     "name": "stdout",
     "output_type": "stream",
     "text": [
      "इदम् अद्भुतम्\n"
     ]
    }
   ],
   "source": [
    "from indic_transliteration import sanscript\n",
    "from indic_transliteration.sanscript import SchemeMap, SCHEMES, transliterate\n",
    "data = 'idam adbhutam'\n",
    "print(transliterate(data, sanscript.HK, sanscript.DEVANAGARI))"
   ]
  }
 ],
 "metadata": {
  "kernelspec": {
   "display_name": "Python 3",
   "language": "python",
   "name": "python3"
  },
  "language_info": {
   "codemirror_mode": {
    "name": "ipython",
    "version": 3
   },
   "file_extension": ".py",
   "mimetype": "text/x-python",
   "name": "python",
   "nbconvert_exporter": "python",
   "pygments_lexer": "ipython3",
   "version": "3.7.6"
  }
 },
 "nbformat": 4,
 "nbformat_minor": 4
}
