{
 "cells": [
  {
   "cell_type": "code",
   "execution_count": 2,
   "metadata": {
    "scrolled": false
   },
   "outputs": [
    {
     "data": {
      "application/javascript": [
       "IPython.notebook.set_autosave_interval(90000)"
      ]
     },
     "metadata": {},
     "output_type": "display_data"
    },
    {
     "name": "stdout",
     "output_type": "stream",
     "text": [
      "Autosaving every 90 seconds\n"
     ]
    }
   ],
   "source": [
    "%autosave 90"
   ]
  },
  {
   "cell_type": "code",
   "execution_count": 2,
   "metadata": {},
   "outputs": [
    {
     "name": "stdout",
     "output_type": "stream",
     "text": [
      "The data type of variable 'a' is: <class 'dict'>\n",
      "The data type of variable 'a' is: <class 'set'>\n"
     ]
    }
   ],
   "source": [
    "# An empty set cannot be created as follows:\n",
    "a = {}\n",
    "print (\"The data type of variable 'a' is:\", type(a))\n",
    "# This will create a variable which is recognized as a 'dictionary' data type.\n",
    "# We can create an empty set as follows:\n",
    "a = set()\n",
    "print (\"The data type of variable 'a' is:\", type(a))"
   ]
  },
  {
   "cell_type": "code",
   "execution_count": 3,
   "metadata": {},
   "outputs": [
    {
     "name": "stdout",
     "output_type": "stream",
     "text": [
      "<class 'set'>\n",
      "{'Apricot', 'Apple', 'Avocado'}\n"
     ]
    }
   ],
   "source": [
    "# Following code will help us filter fruits identified by a starting alphabet.\n",
    "a = ['Apple', 'Apricot', 'Avocado', 'Banana', 'Bilberry', 'Blackberry', 'Blackcurrant', 'Black Sapote', 'Blueberry', 'Boysenberry', 'Breadfruit', \"Buddha's hand\", 'Cactus pear', 'Crab apple', 'Currant', 'Cherry', 'Cherimoya', 'Chico fruit', 'Cloudberry', 'Coconut', 'Cranberry']\n",
    "c = set()\n",
    "print (type(c))\n",
    "for EachElement in a:\n",
    "    # print (EachElement)               # Intermediate print statement to check value assigned to variable 'EachElement'\n",
    "    b = EachElement\n",
    "    for i in range (0, len(b)):\n",
    "        if b[0] == 'A':\n",
    "            # print (b)                # Intermediate print statement to check value assigned to variable 'b'\n",
    "            c.add(b)\n",
    "print (c)"
   ]
  },
  {
   "cell_type": "code",
   "execution_count": 4,
   "metadata": {},
   "outputs": [
    {
     "name": "stdout",
     "output_type": "stream",
     "text": [
      "(1, 2, 2, 3, 3, 3, 4, 4, 4, 4, 5, 5, 5, 5, 5, 6, 6, 6, 6, 6, 6)\n",
      "Number of 2's in list: 2\n",
      "{1, 2, 3, 4, 5, 6}\n",
      "{1, 2, 3, 4, 5, 6, 9}\n"
     ]
    }
   ],
   "source": [
    "a = (1, 2, 2, 3, 3, 3, 4, 4, 4, 4, 5, 5, 5, 5, 5, 6, 6, 6, 6, 6, 6)\n",
    "print (a)\n",
    "type(a)\n",
    "print (\"Number of 2's in list:\", a.count(2))\n",
    "a = {1, 2, 2, 3, 3, 3, 4, 4, 4, 4, 5, 5, 5, 5, 5, 6, 6, 6, 6, 6, 6}\n",
    "print (a)\n",
    "a.add(9)\n",
    "print (a)\n"
   ]
  },
  {
   "cell_type": "code",
   "execution_count": 5,
   "metadata": {},
   "outputs": [
    {
     "name": "stdout",
     "output_type": "stream",
     "text": [
      "Mode 'A Measure of Central Tendency' for dataset (1, 1, 1, 1, 2, 2, 2, 3, 3, 4, 4, 4, 5, 5, 6, 6, 6) is: [1]\n",
      "The data is Uni-Modal.\n"
     ]
    }
   ],
   "source": [
    "# Following line of code will help us fetch central tendency 'mode' of the sample list of values. \n",
    "# The final goal is achieved in three phases. \n",
    "\n",
    "# Code: First Phase: Provide Sample data and place it in a Tuple\n",
    "# a = (1, 2, 2, 3, 3, 3, 4, 4, 4, 4, 5, 5, 5, 5, 5, 6, 6, 6, 6, 6, 6)       # Sample 1\n",
    "a = (1, 1, 1, 1, 2, 2, 2, 3, 3, 4, 4, 4, 5, 5, 6, 6, 6)                              # Sample 2\n",
    "# print (\"The data type of list 'a' is: \", type (a))                        # Intermediate print to check\n",
    "# print (a[1])                                                              # Intermediate print to check\n",
    "\n",
    "# Code: Second Phase: Add all elements of 'Tuple' to a 'Set' thereby capturing only unique values of sample data set. \n",
    "b = set()\n",
    "for EachElement in a:\n",
    "    b.add(EachElement)\n",
    "# print (b)                                      # Intermediate print to check\n",
    "# [print (EachElement) for EachElement in b]     # Intermediate print to check.\n",
    "\n",
    "# Code: Third Phase: Iterate the values in the 'Set' and find their occurrance in 'Tuple'.\n",
    "# Record occurrence of values in a 'Dictionary' with value and count as 'Key:Value' pairs.\n",
    "dictMode = {}\n",
    "# print (type(dictMode))                         # Intermediate statement to check\n",
    "for EachElementb in b:\n",
    "    # dictMode = {}                              # Intermediate line of code during troubleshoot process\n",
    "    # print (type(dictMode))                     # Intermediate line of code during troubleshoot process\n",
    "    count = 0\n",
    "    for EachElementa in a:\n",
    "        if EachElementb == EachElementa:\n",
    "            count += 1\n",
    "    dictMode.update({EachElementb : count})\n",
    "    # print (\"EEb:\", EachElementb, \"EEa:\", EachElementb, \"Count:\", count)            # Intermediate statement to check.\n",
    "# print (dictMode)\n",
    "# print (max(dictMode.values()))\n",
    "# print (dictMode.keys(max(dictMode.values())))\n",
    "# for EachElementd in dictMode:\n",
    "#     print (EachElementd)\n",
    "\n",
    "val = max(dictMode.values())\n",
    "# print (val)                                   # Intermediate print statement\n",
    "myList = []\n",
    "for key, value in dictMode.items():\n",
    "    if val == value:\n",
    "        myList.append(key)\n",
    "        # print (key)                           # Intermediate print statement\n",
    "print (\"Mode 'A Measure of Central Tendency' for dataset {} is:\".format(a) ,myList)\n",
    "if (len(myList) == 1):\n",
    "    print (\"The data is Uni-Modal.\")\n",
    "elif (len(myList) == 2):\n",
    "    print (\"The data is Bi-Modal.\")\n",
    "elif (len(myList) == 3):\n",
    "    print (\"The data is Tri-Modal.\")\n",
    "else:\n",
    "    print (\"The data is Multi-Modal.\")\n",
    "    "
   ]
  },
  {
   "cell_type": "code",
   "execution_count": 14,
   "metadata": {},
   "outputs": [
    {
     "name": "stdout",
     "output_type": "stream",
     "text": [
      "Mode 'A Measure of Central Tendency' for dataset (1, 1, 1, 2, 2, 2, 3, 3, 3, 3, 4, 4, 4, 5, 5, 6, 6, 6) is: [3]\n",
      "The data is Uni-Modal.\n"
     ]
    }
   ],
   "source": [
    "# This code snippet will help us find 'Mode' from set of values.\n",
    "# a = (1, 2, 2, 3, 3, 3, 4, 4, 4, 4, 5, 5, 5, 5, 5, 6, 6, 6, 6, 6, 6)       # Sample 1\n",
    "a = (1, 1, 1, 2, 2, 2, 3, 3, 3, 3, 4, 4, 4, 5, 5, 6, 6, 6)                     # Sample 2\n",
    "\n",
    "# Main reason of having the elements included to a set is to have unique values.\n",
    "b = set()\n",
    "for EachElement in a:\n",
    "    b.add(EachElement)\n",
    "\n",
    "# Reason for having a 'Dictionary' is to capture information of the element & number of times it appears in the data set.\n",
    "dictMode = {}\n",
    "for EachElementb in b:\n",
    "    count = 0\n",
    "    for EachElementa in a:\n",
    "        if EachElementb == EachElementa:\n",
    "            count += 1\n",
    "    dictMode.update({EachElementb : count})\n",
    "\n",
    "# Finally it is time to find the 'Mode' and classify our finding.\n",
    "# The code will attempt to populate a blank list which will help us in classifying the 'Mode'.\n",
    "val = max(dictMode.values())\n",
    "myList = []\n",
    "for key, value in dictMode.items():\n",
    "    if val == value:\n",
    "        myList.append(key)\n",
    "print (\"Mode 'A Measure of Central Tendency' for dataset {} is:\".format(a) ,myList)\n",
    "if (len(myList) == 1):\n",
    "    print (\"The data is Uni-Modal.\")\n",
    "elif (len(myList) == 2):\n",
    "    print (\"The data is Bi-Modal.\")\n",
    "elif (len(myList) == 3):\n",
    "    print (\"The data is Tri-Modal.\")\n",
    "elif (len(myList) > 3):\n",
    "    print (\"The data is Multi-Modal.\")\n",
    "else:\n",
    "    print (\"The data has no Mode.\")"
   ]
  },
  {
   "cell_type": "code",
   "execution_count": 9,
   "metadata": {},
   "outputs": [
    {
     "name": "stdout",
     "output_type": "stream",
     "text": [
      "[1, 2, 3, 6]\n"
     ]
    }
   ],
   "source": [
    "input_parm = [1, 1, 1, 2, 2, 2, 3, 3, 3, 4, 5, 6, 6, 6]\n",
    "mode = []\n",
    "unique_values_set = set(input_parm)\n",
    "ele_freq_dict = dict()\n",
    "for i in unique_values_set:\n",
    "    ele_freq_dict.update({i:input_parm.count(i)})\n",
    "max_freq = max(ele_freq_dict.values())\n",
    "for (key, value) in ele_freq_dict.items():\n",
    "    if value == max_freq:\n",
    "        mode.append(key)\n",
    "print (mode)"
   ]
  },
  {
   "cell_type": "code",
   "execution_count": 35,
   "metadata": {},
   "outputs": [
    {
     "name": "stdout",
     "output_type": "stream",
     "text": [
      "Enter the number of values for which 'Mean' needs to be calculated:3\n",
      "3\n",
      "Enter Value number 1: 1\n",
      "Enter Value number 2: 2\n",
      "Enter Value number 3: 3\n",
      "['1', '2', '3']\n",
      "Mean of values for values entered: ['1', '2', '3'] is: 2.0\n"
     ]
    }
   ],
   "source": [
    "# Following code snippet will collect information from end user of number of values he/she wishes to input\n",
    "# Furthermore, the code will collect individual values for which 'Mean' to be calculated\n",
    "# On completion of data entry by end user, the program displays the 'Mean' along with the numbers entered by him/her\n",
    "x = input(\"Enter the number of values for which 'Mean' needs to be calculated:\")\n",
    "print (x)\n",
    "myList = []\n",
    "sumElements = 0\n",
    "for i in range (0, int(x)):\n",
    "    y = input(\"Enter Value number {}: \".format(i+1))\n",
    "    myList.append(y)\n",
    "    sumElements += int(y)\n",
    "print (myList)\n",
    "print (\"Mean of values for values entered: {} is:\".format(myList), (sumElements/len(myList)))"
   ]
  },
  {
   "cell_type": "code",
   "execution_count": 3,
   "metadata": {},
   "outputs": [
    {
     "name": "stdout",
     "output_type": "stream",
     "text": [
      "{'orange', 'apple', 'grapes', 'mango', 'cherry', 'banana'}\n"
     ]
    }
   ],
   "source": [
    "# Add multiple elements of a 'list' to a 'set'\n",
    "fruits = {\"apple\", \"banana\", \"cherry\"}\n",
    "more_fruits = [\"orange\", \"mango\", \"grapes\"]\n",
    "fruits.update(more_fruits)\n",
    "print (fruits)"
   ]
  },
  {
   "cell_type": "code",
   "execution_count": 4,
   "metadata": {},
   "outputs": [
    {
     "name": "stdout",
     "output_type": "stream",
     "text": [
      "30\n",
      "24\n",
      "4\n",
      "22\n",
      "19\n",
      "21\n",
      "5\n",
      "11\n",
      "1\n",
      "2\n"
     ]
    }
   ],
   "source": [
    "# Learn to generate a list/set/tuple with random values\n",
    "# Observation: 'random.randint(1,30) gives an output when executed independently to standard output\n",
    "# While in a 'for' loop it has to be assigned to a variable.\n",
    "import random                           # Importing package 'random'\n",
    "for i in range (0, 10):\n",
    "    n = random.randint(1,30)            # Generates a random number in range 1 to 30 \n",
    "    print (n)"
   ]
  }
 ],
 "metadata": {
  "kernelspec": {
   "display_name": "Python 3",
   "language": "python",
   "name": "python3"
  },
  "language_info": {
   "codemirror_mode": {
    "name": "ipython",
    "version": 3
   },
   "file_extension": ".py",
   "mimetype": "text/x-python",
   "name": "python",
   "nbconvert_exporter": "python",
   "pygments_lexer": "ipython3",
   "version": "3.7.6"
  }
 },
 "nbformat": 4,
 "nbformat_minor": 4
}
