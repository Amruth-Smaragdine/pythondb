{
 "cells": [
  {
   "cell_type": "code",
   "execution_count": 3,
   "metadata": {},
   "outputs": [
    {
     "data": {
      "application/javascript": [
       "IPython.notebook.set_autosave_interval(30000)"
      ]
     },
     "metadata": {},
     "output_type": "display_data"
    },
    {
     "name": "stdout",
     "output_type": "stream",
     "text": [
      "Autosaving every 30 seconds\n"
     ]
    }
   ],
   "source": [
    "%autosave 30"
   ]
  },
  {
   "cell_type": "code",
   "execution_count": 8,
   "metadata": {},
   "outputs": [
    {
     "name": "stdout",
     "output_type": "stream",
     "text": [
      "['S', 'm', 'a', 'r', 'a', 'g', 'd', 'i', 'n', 'e']\n",
      "['e', 'n', 'i', 'd', 'g', 'a', 'r', 'a', 'm', 'S']\n",
      "enidgaramS\n"
     ]
    }
   ],
   "source": [
    "# Print reverse of a string \n",
    "\n",
    "stringVar = 'Smaragdine'\n",
    "myList = list(stringVar)\n",
    "print (myList)\n",
    "myList.reverse()\n",
    "print(myList)\n",
    "stringVar = ''\n",
    "for eachElement in myList:\n",
    "    stringVar += eachElement\n",
    "print (stringVar)"
   ]
  },
  {
   "cell_type": "code",
   "execution_count": 10,
   "metadata": {},
   "outputs": [
    {
     "name": "stdout",
     "output_type": "stream",
     "text": [
      "['D', 'I', 'A', 'S', 'N', 'I']\n",
      "<class 'tuple'>\n",
      "Reverse of String 'INSAID' is: 'DIASNI':\n"
     ]
    }
   ],
   "source": [
    "# Print reverse of a string \n",
    "\n",
    "def string_reverse(str1):\n",
    "    myList = list(str1)    # Your code goes here\n",
    "    myList.reverse()\n",
    "    print (myList)\n",
    "    stringVar = ''\n",
    "    for eachElement in myList:\n",
    "        stringVar +=eachElement\n",
    "    return (str1, stringVar)    # Your answer\n",
    "tupleVar = string_reverse('INSAID')\n",
    "print (type(tupleVar))\n",
    "print(\"Reverse of String '{}' is: '{}':\".format(tupleVar[0], tupleVar[1]))"
   ]
  }
 ],
 "metadata": {
  "kernelspec": {
   "display_name": "Python 3",
   "language": "python",
   "name": "python3"
  },
  "language_info": {
   "codemirror_mode": {
    "name": "ipython",
    "version": 3
   },
   "file_extension": ".py",
   "mimetype": "text/x-python",
   "name": "python",
   "nbconvert_exporter": "python",
   "pygments_lexer": "ipython3",
   "version": "3.7.6"
  }
 },
 "nbformat": 4,
 "nbformat_minor": 4
}
