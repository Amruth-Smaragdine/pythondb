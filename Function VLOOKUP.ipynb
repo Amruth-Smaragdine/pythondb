{
 "cells": [
  {
   "cell_type": "code",
   "execution_count": 1,
   "metadata": {},
   "outputs": [
    {
     "data": {
      "application/javascript": [
       "IPython.notebook.set_autosave_interval(30000)"
      ]
     },
     "metadata": {},
     "output_type": "display_data"
    },
    {
     "name": "stdout",
     "output_type": "stream",
     "text": [
      "Autosaving every 30 seconds\n"
     ]
    }
   ],
   "source": [
    "%autosave 30"
   ]
  },
  {
   "cell_type": "code",
   "execution_count": 2,
   "metadata": {},
   "outputs": [
    {
     "name": "stdout",
     "output_type": "stream",
     "text": [
      "<_io.TextIOWrapper name='vlookup.csv' mode='r' encoding='cp1252'>\n",
      "vlookup.csv\n",
      "r\n",
      "S.No,Supplier ID,Part Number,Part Name,Part Price,Status\n",
      "1,SP301,A001,Water Pump,$68.39,In Stock\n",
      "2,SP302,A002,Alternator,$380.73,In Stock\n",
      "3,SP303,A003,Air Filter,$15.49,In Stock\n",
      "4,SP304,A004,Wheel Bearing,$35.16,In Stock\n",
      "5,SP305,A005,Muffler,$160.23,In Stock\n",
      "6,SP306,A006,Oil Pan,$101.89,Out Of Stock\n",
      "7,SP307,A007,Brake Pads,$65.99,In Stock\n",
      "8,SP308,A008,Brake Rotors,$85.73,Out Of Stock\n",
      "9,SP309,A009,Headlight,$35.19,In Stock\n",
      "10,SP310,A010,Brake Cable,$15.49,In Stock\n",
      "11,SP311,A011,Strut,$45.29,In Stock\n",
      "12,SP312,A012,Drive Shaft,$185.36,In Stock\n",
      "13,SP313,A013,CV Boot Kit,$26.27,In Stock\n",
      "14,SP314,A014,Oil Pump,$46.99,In Stock\n",
      "15,SP315,A015,Oil Filter,$4.39,In Stock\n",
      "16,SP316,A016,Fuel Filter,$12.89,In Stock\n",
      "17,SP317,A017,Tie Rod End,$18.73,In Stock\n",
      "18,SP318,A018,Ball Joint,$24.18,In Stock\n",
      "19,SP319,A019,Steering Rack,$285.33,Out Of Stock\n",
      "20,SP320,A020,Piston Ring,$45.99,Out Of Stock\n",
      "21,SP321,A021,Piston Ring,$65.78,In Stock\n",
      "22,SP322,A022,Head Gasket Set,$145.63,In Stock\n",
      "23,SP323,A023,Fuel Pump,$136.43,In Stock\n",
      "24,SP324,A024,Til Light Lens,$45.19,In Stock\n",
      "25,SP325,A025,Signal Flasher,$6.53,In Stock\n",
      "26,SP326,A026,Fuses,$8.29,In Stock\n",
      "27,SP327,A027,Shock,$35.44,In Stock\n",
      "28,SP328,A028,Speedometer,$18.89,In Stock\n",
      "29,SP329,A029,Lug Nut,$3.43,In Stock\n",
      "30,SP330,A030,Clutch Kit,$230.14,In Stock\n",
      "31,SP331,A031,Value Guides,$6.44,In Stock\n",
      "32,SP332,A032,Valve Seals,$2.09,In Stock\n",
      "33,SP333,A033,Power Steering,$360.32,In Stock\n",
      "34,SP334,A034,AC Pump,$425.36,In Stock\n",
      "35,SP335,A035,Brake Hose,$35.76,In Stock\n",
      "36,SP336,A036,Radiator,$276.32,Out Of Stock\n",
      "37,SP337,A037,Radiator Hose,$34.10,In Stock\n",
      "38,SP338,A038,Traction Bar,$185.09,In Stock\n",
      "39,SP339,A039,Bumper,$195.91,In Stock\n",
      "40,SP340,A040,Rear View Mirror,$75.43,In Stock\n",
      "41,SP341,A041,Fender,$359.06,In Stock\n",
      "42,SP342,A042,Grill,$65.91,In Stock\n",
      "43,SP343,A043,Marker Light,$35.62,In Stock\n",
      "44,SP344,A044,Hub Cap,$43.05,In Stock\n",
      "45,SP345,A045,Tail Pipe,$36.99,In Stock\n",
      "46,SP346,A046,Tail Pipe Bracket,$4.18,In Stock\n",
      "47,SP347,A047,Engine Drain Pipe,$7.07,In Stock\n",
      "48,SP348,A048,Oil Pan,$76.29,In Stock\n",
      "49,SP349,A049,Oil Pan Gasket,$12.82,In Stock\n",
      "50,SP350,A050,Fan Belt,$13.72,In Stock\n",
      "Total Number of Lines in the file are: 51\n"
     ]
    }
   ],
   "source": [
    "fileVlookup = open(\"vlookup.csv\", \"r\")\n",
    "print (fileVlookup)\n",
    "print (fileVlookup.name)\n",
    "print (fileVlookup.mode)\n",
    "# print (len(fileVlookup))\n",
    "# print (fileVlookup.readlines())\n",
    "myList = []\n",
    "lineCount = 0\n",
    "for eachLine in fileVlookup:\n",
    "    print (eachLine.rstrip(\"\\n\"))\n",
    "    lineCount += 1\n",
    "    # myList.append(eachLine)\n",
    "# print (myList)\n",
    "print (\"Total Number of Lines in the file are:\", lineCount)"
   ]
  },
  {
   "cell_type": "code",
   "execution_count": 3,
   "metadata": {},
   "outputs": [
    {
     "name": "stdout",
     "output_type": "stream",
     "text": [
      "S.No,Supplier ID,Part Number,Part Name,Part Price,Status\n",
      "1,SP301,A001,Water Pump,$68.39,In Stock\n",
      "2,SP302,A002,Alternator,$380.73,In Stock\n",
      "3,SP303,A003,Air Filter,$15.49,In Stock\n",
      "4,SP304,A004,Wheel Bearing,$35.16,In Stock\n",
      "5,SP305,A005,Muffler,$160.23,In Stock\n",
      "6,SP306,A006,Oil Pan,$101.89,Out Of Stock\n",
      "7,SP307,A007,Brake Pads,$65.99,In Stock\n",
      "8,SP308,A008,Brake Rotors,$85.73,Out Of Stock\n",
      "9,SP309,A009,Headlight,$35.19,In Stock\n",
      "10,SP310,A010,Brake Cable,$15.49,In Stock\n",
      "11,SP311,A011,Strut,$45.29,In Stock\n",
      "12,SP312,A012,Drive Shaft,$185.36,In Stock\n",
      "13,SP313,A013,CV Boot Kit,$26.27,In Stock\n",
      "14,SP314,A014,Oil Pump,$46.99,In Stock\n",
      "15,SP315,A015,Oil Filter,$4.39,In Stock\n",
      "16,SP316,A016,Fuel Filter,$12.89,In Stock\n",
      "17,SP317,A017,Tie Rod End,$18.73,In Stock\n",
      "18,SP318,A018,Ball Joint,$24.18,In Stock\n",
      "19,SP319,A019,Steering Rack,$285.33,Out Of Stock\n",
      "20,SP320,A020,Piston Ring,$45.99,Out Of Stock\n",
      "21,SP321,A021,Piston Ring,$65.78,In Stock\n",
      "22,SP322,A022,Head Gasket Set,$145.63,In Stock\n",
      "23,SP323,A023,Fuel Pump,$136.43,In Stock\n",
      "24,SP324,A024,Til Light Lens,$45.19,In Stock\n",
      "25,SP325,A025,Signal Flasher,$6.53,In Stock\n",
      "26,SP326,A026,Fuses,$8.29,In Stock\n",
      "27,SP327,A027,Shock,$35.44,In Stock\n",
      "28,SP328,A028,Speedometer,$18.89,In Stock\n",
      "29,SP329,A029,Lug Nut,$3.43,In Stock\n",
      "30,SP330,A030,Clutch Kit,$230.14,In Stock\n",
      "31,SP331,A031,Value Guides,$6.44,In Stock\n",
      "32,SP332,A032,Valve Seals,$2.09,In Stock\n",
      "33,SP333,A033,Power Steering,$360.32,In Stock\n",
      "34,SP334,A034,AC Pump,$425.36,In Stock\n",
      "35,SP335,A035,Brake Hose,$35.76,In Stock\n",
      "36,SP336,A036,Radiator,$276.32,Out Of Stock\n",
      "37,SP337,A037,Radiator Hose,$34.10,In Stock\n",
      "38,SP338,A038,Traction Bar,$185.09,In Stock\n",
      "39,SP339,A039,Bumper,$195.91,In Stock\n",
      "40,SP340,A040,Rear View Mirror,$75.43,In Stock\n",
      "41,SP341,A041,Fender,$359.06,In Stock\n",
      "42,SP342,A042,Grill,$65.91,In Stock\n",
      "43,SP343,A043,Marker Light,$35.62,In Stock\n",
      "44,SP344,A044,Hub Cap,$43.05,In Stock\n",
      "45,SP345,A045,Tail Pipe,$36.99,In Stock\n",
      "46,SP346,A046,Tail Pipe Bracket,$4.18,In Stock\n",
      "47,SP347,A047,Engine Drain Pipe,$7.07,In Stock\n",
      "48,SP348,A048,Oil Pan,$76.29,In Stock\n",
      "49,SP349,A049,Oil Pan Gasket,$12.82,In Stock\n",
      "50,SP350,A050,Fan Belt,$13.72,In Stock\n",
      "['S.No,Supplier ID,Part Number,Part Name,Part Price,Status', '1,SP301,A001,Water Pump,$68.39,In Stock', '2,SP302,A002,Alternator,$380.73,In Stock', '3,SP303,A003,Air Filter,$15.49,In Stock', '4,SP304,A004,Wheel Bearing,$35.16,In Stock', '5,SP305,A005,Muffler,$160.23,In Stock', '6,SP306,A006,Oil Pan,$101.89,Out Of Stock', '7,SP307,A007,Brake Pads,$65.99,In Stock', '8,SP308,A008,Brake Rotors,$85.73,Out Of Stock', '9,SP309,A009,Headlight,$35.19,In Stock', '10,SP310,A010,Brake Cable,$15.49,In Stock', '11,SP311,A011,Strut,$45.29,In Stock', '12,SP312,A012,Drive Shaft,$185.36,In Stock', '13,SP313,A013,CV Boot Kit,$26.27,In Stock', '14,SP314,A014,Oil Pump,$46.99,In Stock', '15,SP315,A015,Oil Filter,$4.39,In Stock', '16,SP316,A016,Fuel Filter,$12.89,In Stock', '17,SP317,A017,Tie Rod End,$18.73,In Stock', '18,SP318,A018,Ball Joint,$24.18,In Stock', '19,SP319,A019,Steering Rack,$285.33,Out Of Stock', '20,SP320,A020,Piston Ring,$45.99,Out Of Stock', '21,SP321,A021,Piston Ring,$65.78,In Stock', '22,SP322,A022,Head Gasket Set,$145.63,In Stock', '23,SP323,A023,Fuel Pump,$136.43,In Stock', '24,SP324,A024,Til Light Lens,$45.19,In Stock', '25,SP325,A025,Signal Flasher,$6.53,In Stock', '26,SP326,A026,Fuses,$8.29,In Stock', '27,SP327,A027,Shock,$35.44,In Stock', '28,SP328,A028,Speedometer,$18.89,In Stock', '29,SP329,A029,Lug Nut,$3.43,In Stock', '30,SP330,A030,Clutch Kit,$230.14,In Stock', '31,SP331,A031,Value Guides,$6.44,In Stock', '32,SP332,A032,Valve Seals,$2.09,In Stock', '33,SP333,A033,Power Steering,$360.32,In Stock', '34,SP334,A034,AC Pump,$425.36,In Stock', '35,SP335,A035,Brake Hose,$35.76,In Stock', '36,SP336,A036,Radiator,$276.32,Out Of Stock', '37,SP337,A037,Radiator Hose,$34.10,In Stock', '38,SP338,A038,Traction Bar,$185.09,In Stock', '39,SP339,A039,Bumper,$195.91,In Stock', '40,SP340,A040,Rear View Mirror,$75.43,In Stock', '41,SP341,A041,Fender,$359.06,In Stock', '42,SP342,A042,Grill,$65.91,In Stock', '43,SP343,A043,Marker Light,$35.62,In Stock', '44,SP344,A044,Hub Cap,$43.05,In Stock', '45,SP345,A045,Tail Pipe,$36.99,In Stock', '46,SP346,A046,Tail Pipe Bracket,$4.18,In Stock', '47,SP347,A047,Engine Drain Pipe,$7.07,In Stock', '48,SP348,A048,Oil Pan,$76.29,In Stock', '49,SP349,A049,Oil Pan Gasket,$12.82,In Stock', '50,SP350,A050,Fan Belt,$13.72,In Stock']\n"
     ]
    },
    {
     "data": {
      "text/plain": [
       "['Smaragdine', 'Technologies', 'Pvt.', 'Ltd.']"
      ]
     },
     "execution_count": 3,
     "metadata": {},
     "output_type": "execute_result"
    }
   ],
   "source": [
    "fileVlookup = open(\"vlookup.csv\", \"r\")\n",
    "myList = []\n",
    "for eachLine in fileVlookup:\n",
    "    print (eachLine.rstrip(\"\\n\"))\n",
    "    myList.append(eachLine.rstrip(\"\\n\"))\n",
    "print (myList)\n",
    "stringVar = 'Smaragdine Technologies Pvt. Ltd.'\n",
    "stringVar.split()"
   ]
  },
  {
   "cell_type": "code",
   "execution_count": 4,
   "metadata": {},
   "outputs": [
    {
     "name": "stdout",
     "output_type": "stream",
     "text": [
      "[['S.No', 'Supplier ID', 'Part Number', 'Part Name', 'Part Price', 'Status'], ['1', 'SP301', 'A001', 'Water Pump', '$68.39', 'In Stock'], ['2', 'SP302', 'A002', 'Alternator', '$380.73', 'In Stock'], ['3', 'SP303', 'A003', 'Air Filter', '$15.49', 'In Stock'], ['4', 'SP304', 'A004', 'Wheel Bearing', '$35.16', 'In Stock'], ['5', 'SP305', 'A005', 'Muffler', '$160.23', 'In Stock'], ['6', 'SP306', 'A006', 'Oil Pan', '$101.89', 'Out Of Stock'], ['7', 'SP307', 'A007', 'Brake Pads', '$65.99', 'In Stock'], ['8', 'SP308', 'A008', 'Brake Rotors', '$85.73', 'Out Of Stock'], ['9', 'SP309', 'A009', 'Headlight', '$35.19', 'In Stock'], ['10', 'SP310', 'A010', 'Brake Cable', '$15.49', 'In Stock'], ['11', 'SP311', 'A011', 'Strut', '$45.29', 'In Stock'], ['12', 'SP312', 'A012', 'Drive Shaft', '$185.36', 'In Stock'], ['13', 'SP313', 'A013', 'CV Boot Kit', '$26.27', 'In Stock'], ['14', 'SP314', 'A014', 'Oil Pump', '$46.99', 'In Stock'], ['15', 'SP315', 'A015', 'Oil Filter', '$4.39', 'In Stock'], ['16', 'SP316', 'A016', 'Fuel Filter', '$12.89', 'In Stock'], ['17', 'SP317', 'A017', 'Tie Rod End', '$18.73', 'In Stock'], ['18', 'SP318', 'A018', 'Ball Joint', '$24.18', 'In Stock'], ['19', 'SP319', 'A019', 'Steering Rack', '$285.33', 'Out Of Stock'], ['20', 'SP320', 'A020', 'Piston Ring', '$45.99', 'Out Of Stock'], ['21', 'SP321', 'A021', 'Piston Ring', '$65.78', 'In Stock'], ['22', 'SP322', 'A022', 'Head Gasket Set', '$145.63', 'In Stock'], ['23', 'SP323', 'A023', 'Fuel Pump', '$136.43', 'In Stock'], ['24', 'SP324', 'A024', 'Til Light Lens', '$45.19', 'In Stock'], ['25', 'SP325', 'A025', 'Signal Flasher', '$6.53', 'In Stock'], ['26', 'SP326', 'A026', 'Fuses', '$8.29', 'In Stock'], ['27', 'SP327', 'A027', 'Shock', '$35.44', 'In Stock'], ['28', 'SP328', 'A028', 'Speedometer', '$18.89', 'In Stock'], ['29', 'SP329', 'A029', 'Lug Nut', '$3.43', 'In Stock'], ['30', 'SP330', 'A030', 'Clutch Kit', '$230.14', 'In Stock'], ['31', 'SP331', 'A031', 'Value Guides', '$6.44', 'In Stock'], ['32', 'SP332', 'A032', 'Valve Seals', '$2.09', 'In Stock'], ['33', 'SP333', 'A033', 'Power Steering', '$360.32', 'In Stock'], ['34', 'SP334', 'A034', 'AC Pump', '$425.36', 'In Stock'], ['35', 'SP335', 'A035', 'Brake Hose', '$35.76', 'In Stock'], ['36', 'SP336', 'A036', 'Radiator', '$276.32', 'Out Of Stock'], ['37', 'SP337', 'A037', 'Radiator Hose', '$34.10', 'In Stock'], ['38', 'SP338', 'A038', 'Traction Bar', '$185.09', 'In Stock'], ['39', 'SP339', 'A039', 'Bumper', '$195.91', 'In Stock'], ['40', 'SP340', 'A040', 'Rear View Mirror', '$75.43', 'In Stock'], ['41', 'SP341', 'A041', 'Fender', '$359.06', 'In Stock'], ['42', 'SP342', 'A042', 'Grill', '$65.91', 'In Stock'], ['43', 'SP343', 'A043', 'Marker Light', '$35.62', 'In Stock'], ['44', 'SP344', 'A044', 'Hub Cap', '$43.05', 'In Stock'], ['45', 'SP345', 'A045', 'Tail Pipe', '$36.99', 'In Stock'], ['46', 'SP346', 'A046', 'Tail Pipe Bracket', '$4.18', 'In Stock'], ['47', 'SP347', 'A047', 'Engine Drain Pipe', '$7.07', 'In Stock'], ['48', 'SP348', 'A048', 'Oil Pan', '$76.29', 'In Stock'], ['49', 'SP349', 'A049', 'Oil Pan Gasket', '$12.82', 'In Stock'], ['50', 'SP350', 'A050', 'Fan Belt', '$13.72', 'In Stock']]\n",
      "51\n",
      "['S.No', 'Supplier ID', 'Part Number', 'Part Name', 'Part Price', 'Status']\n",
      "['1', 'SP301', 'A001', 'Water Pump', '$68.39', 'In Stock']\n",
      "['2', 'SP302', 'A002', 'Alternator', '$380.73', 'In Stock']\n",
      "['3', 'SP303', 'A003', 'Air Filter', '$15.49', 'In Stock']\n",
      "['4', 'SP304', 'A004', 'Wheel Bearing', '$35.16', 'In Stock']\n",
      "['5', 'SP305', 'A005', 'Muffler', '$160.23', 'In Stock']\n",
      "['6', 'SP306', 'A006', 'Oil Pan', '$101.89', 'Out Of Stock']\n",
      "['7', 'SP307', 'A007', 'Brake Pads', '$65.99', 'In Stock']\n",
      "['8', 'SP308', 'A008', 'Brake Rotors', '$85.73', 'Out Of Stock']\n",
      "['9', 'SP309', 'A009', 'Headlight', '$35.19', 'In Stock']\n",
      "['10', 'SP310', 'A010', 'Brake Cable', '$15.49', 'In Stock']\n",
      "['11', 'SP311', 'A011', 'Strut', '$45.29', 'In Stock']\n",
      "['12', 'SP312', 'A012', 'Drive Shaft', '$185.36', 'In Stock']\n",
      "['13', 'SP313', 'A013', 'CV Boot Kit', '$26.27', 'In Stock']\n",
      "['14', 'SP314', 'A014', 'Oil Pump', '$46.99', 'In Stock']\n",
      "['15', 'SP315', 'A015', 'Oil Filter', '$4.39', 'In Stock']\n",
      "['16', 'SP316', 'A016', 'Fuel Filter', '$12.89', 'In Stock']\n",
      "['17', 'SP317', 'A017', 'Tie Rod End', '$18.73', 'In Stock']\n",
      "['18', 'SP318', 'A018', 'Ball Joint', '$24.18', 'In Stock']\n",
      "['19', 'SP319', 'A019', 'Steering Rack', '$285.33', 'Out Of Stock']\n",
      "['20', 'SP320', 'A020', 'Piston Ring', '$45.99', 'Out Of Stock']\n",
      "['21', 'SP321', 'A021', 'Piston Ring', '$65.78', 'In Stock']\n",
      "['22', 'SP322', 'A022', 'Head Gasket Set', '$145.63', 'In Stock']\n",
      "['23', 'SP323', 'A023', 'Fuel Pump', '$136.43', 'In Stock']\n",
      "['24', 'SP324', 'A024', 'Til Light Lens', '$45.19', 'In Stock']\n",
      "['25', 'SP325', 'A025', 'Signal Flasher', '$6.53', 'In Stock']\n",
      "['26', 'SP326', 'A026', 'Fuses', '$8.29', 'In Stock']\n",
      "['27', 'SP327', 'A027', 'Shock', '$35.44', 'In Stock']\n",
      "['28', 'SP328', 'A028', 'Speedometer', '$18.89', 'In Stock']\n",
      "['29', 'SP329', 'A029', 'Lug Nut', '$3.43', 'In Stock']\n",
      "['30', 'SP330', 'A030', 'Clutch Kit', '$230.14', 'In Stock']\n",
      "['31', 'SP331', 'A031', 'Value Guides', '$6.44', 'In Stock']\n",
      "['32', 'SP332', 'A032', 'Valve Seals', '$2.09', 'In Stock']\n",
      "['33', 'SP333', 'A033', 'Power Steering', '$360.32', 'In Stock']\n",
      "['34', 'SP334', 'A034', 'AC Pump', '$425.36', 'In Stock']\n",
      "['35', 'SP335', 'A035', 'Brake Hose', '$35.76', 'In Stock']\n",
      "['36', 'SP336', 'A036', 'Radiator', '$276.32', 'Out Of Stock']\n",
      "['37', 'SP337', 'A037', 'Radiator Hose', '$34.10', 'In Stock']\n",
      "['38', 'SP338', 'A038', 'Traction Bar', '$185.09', 'In Stock']\n",
      "['39', 'SP339', 'A039', 'Bumper', '$195.91', 'In Stock']\n",
      "['40', 'SP340', 'A040', 'Rear View Mirror', '$75.43', 'In Stock']\n",
      "['41', 'SP341', 'A041', 'Fender', '$359.06', 'In Stock']\n",
      "['42', 'SP342', 'A042', 'Grill', '$65.91', 'In Stock']\n",
      "['43', 'SP343', 'A043', 'Marker Light', '$35.62', 'In Stock']\n",
      "['44', 'SP344', 'A044', 'Hub Cap', '$43.05', 'In Stock']\n",
      "['45', 'SP345', 'A045', 'Tail Pipe', '$36.99', 'In Stock']\n",
      "['46', 'SP346', 'A046', 'Tail Pipe Bracket', '$4.18', 'In Stock']\n",
      "['47', 'SP347', 'A047', 'Engine Drain Pipe', '$7.07', 'In Stock']\n",
      "['48', 'SP348', 'A048', 'Oil Pan', '$76.29', 'In Stock']\n",
      "['49', 'SP349', 'A049', 'Oil Pan Gasket', '$12.82', 'In Stock']\n",
      "['50', 'SP350', 'A050', 'Fan Belt', '$13.72', 'In Stock']\n"
     ]
    }
   ],
   "source": [
    "fileVlookup = open(\"vlookup.csv\", \"r\")\n",
    "myList = []\n",
    "for eachLine in fileVlookup:\n",
    "    # print (eachLine.rstrip(\"\\n\"))\n",
    "    myList.append(eachLine.rstrip(\"\\n\").split(\",\"))\n",
    "print (myList)\n",
    "print (len(myList))\n",
    "for eachElement in myList:\n",
    "    print (eachElement)"
   ]
  },
  {
   "cell_type": "code",
   "execution_count": 5,
   "metadata": {},
   "outputs": [
    {
     "name": "stdout",
     "output_type": "stream",
     "text": [
      "[['S.No', 'Supplier ID', 'Part Number', 'Part Name', 'Part Price', 'Status'], ['1', 'SP301', 'A001', 'Water Pump', '$68.39', 'In Stock'], ['2', 'SP302', 'A002', 'Alternator', '$380.73', 'In Stock'], ['3', 'SP303', 'A003', 'Air Filter', '$15.49', 'In Stock'], ['4', 'SP304', 'A004', 'Wheel Bearing', '$35.16', 'In Stock'], ['5', 'SP305', 'A005', 'Muffler', '$160.23', 'In Stock'], ['6', 'SP306', 'A006', 'Oil Pan', '$101.89', 'Out Of Stock'], ['7', 'SP307', 'A007', 'Brake Pads', '$65.99', 'In Stock'], ['8', 'SP308', 'A008', 'Brake Rotors', '$85.73', 'Out Of Stock'], ['9', 'SP309', 'A009', 'Headlight', '$35.19', 'In Stock'], ['10', 'SP310', 'A010', 'Brake Cable', '$15.49', 'In Stock'], ['11', 'SP311', 'A011', 'Strut', '$45.29', 'In Stock'], ['12', 'SP312', 'A012', 'Drive Shaft', '$185.36', 'In Stock'], ['13', 'SP313', 'A013', 'CV Boot Kit', '$26.27', 'In Stock'], ['14', 'SP314', 'A014', 'Oil Pump', '$46.99', 'In Stock'], ['15', 'SP315', 'A015', 'Oil Filter', '$4.39', 'In Stock'], ['16', 'SP316', 'A016', 'Fuel Filter', '$12.89', 'In Stock'], ['17', 'SP317', 'A017', 'Tie Rod End', '$18.73', 'In Stock'], ['18', 'SP318', 'A018', 'Ball Joint', '$24.18', 'In Stock'], ['19', 'SP319', 'A019', 'Steering Rack', '$285.33', 'Out Of Stock'], ['20', 'SP320', 'A020', 'Piston Ring', '$45.99', 'Out Of Stock'], ['21', 'SP321', 'A021', 'Piston Ring', '$65.78', 'In Stock'], ['22', 'SP322', 'A022', 'Head Gasket Set', '$145.63', 'In Stock'], ['23', 'SP323', 'A023', 'Fuel Pump', '$136.43', 'In Stock'], ['24', 'SP324', 'A024', 'Til Light Lens', '$45.19', 'In Stock'], ['25', 'SP325', 'A025', 'Signal Flasher', '$6.53', 'In Stock'], ['26', 'SP326', 'A026', 'Fuses', '$8.29', 'In Stock'], ['27', 'SP327', 'A027', 'Shock', '$35.44', 'In Stock'], ['28', 'SP328', 'A028', 'Speedometer', '$18.89', 'In Stock'], ['29', 'SP329', 'A029', 'Lug Nut', '$3.43', 'In Stock'], ['30', 'SP330', 'A030', 'Clutch Kit', '$230.14', 'In Stock'], ['31', 'SP331', 'A031', 'Value Guides', '$6.44', 'In Stock'], ['32', 'SP332', 'A032', 'Valve Seals', '$2.09', 'In Stock'], ['33', 'SP333', 'A033', 'Power Steering', '$360.32', 'In Stock'], ['34', 'SP334', 'A034', 'AC Pump', '$425.36', 'In Stock'], ['35', 'SP335', 'A035', 'Brake Hose', '$35.76', 'In Stock'], ['36', 'SP336', 'A036', 'Radiator', '$276.32', 'Out Of Stock'], ['37', 'SP337', 'A037', 'Radiator Hose', '$34.10', 'In Stock'], ['38', 'SP338', 'A038', 'Traction Bar', '$185.09', 'In Stock'], ['39', 'SP339', 'A039', 'Bumper', '$195.91', 'In Stock'], ['40', 'SP340', 'A040', 'Rear View Mirror', '$75.43', 'In Stock'], ['41', 'SP341', 'A041', 'Fender', '$359.06', 'In Stock'], ['42', 'SP342', 'A042', 'Grill', '$65.91', 'In Stock'], ['43', 'SP343', 'A043', 'Marker Light', '$35.62', 'In Stock'], ['44', 'SP344', 'A044', 'Hub Cap', '$43.05', 'In Stock'], ['45', 'SP345', 'A045', 'Tail Pipe', '$36.99', 'In Stock'], ['46', 'SP346', 'A046', 'Tail Pipe Bracket', '$4.18', 'In Stock'], ['47', 'SP347', 'A047', 'Engine Drain Pipe', '$7.07', 'In Stock'], ['48', 'SP348', 'A048', 'Oil Pan', '$76.29', 'In Stock'], ['49', 'SP349', 'A049', 'Oil Pan Gasket', '$12.82', 'In Stock'], ['50', 'SP350', 'A050', 'Fan Belt', '$13.72', 'In Stock']]\n",
      "51\n",
      "Success\n",
      "['9', 'SP309', 'A009', 'Headlight', '$35.19', 'In Stock'] <class 'str'>\n"
     ]
    }
   ],
   "source": [
    "fileVlookup = open(\"vlookup.csv\", \"r\")\n",
    "myList = []\n",
    "for eachLine in fileVlookup:\n",
    "    # print (eachLine.rstrip(\"\\n\"))\n",
    "    myList.append(eachLine.rstrip(\"\\n\").split(\",\"))\n",
    "print (myList)\n",
    "print (len(myList))\n",
    "myStrint = ''\n",
    "for eachElement in myList:\n",
    "    if 'A009' in eachElement:\n",
    "        print (\"Success\")\n",
    "        myString = str(eachElement)\n",
    "        print (myString, type(myString))"
   ]
  },
  {
   "cell_type": "code",
   "execution_count": 6,
   "metadata": {},
   "outputs": [
    {
     "name": "stdout",
     "output_type": "stream",
     "text": [
      "['9', 'SP309', 'A009', 'Headlight', '$35.19', 'In Stock']\n"
     ]
    }
   ],
   "source": [
    "fileVlookup = open(\"vlookup.csv\", \"r\")\n",
    "for eachLine in fileVlookup:\n",
    "    if 'A009' in eachLine:\n",
    "        print (eachLine.rstrip(\"\\n\").split(\",\"))"
   ]
  },
  {
   "cell_type": "code",
   "execution_count": 7,
   "metadata": {},
   "outputs": [
    {
     "name": "stdout",
     "output_type": "stream",
     "text": [
      "Please enter the part number:A009\n"
     ]
    }
   ],
   "source": [
    "fileVlookup = open(\"vlookup.csv\", \"r\")\n",
    "partNum = input(\"Please enter the part number:\")\n",
    "for eachLine in fileVlookup:\n",
    "    if partNum in eachLine:\n",
    "        print (eachLine.rstrip(\"\\n\").split(\",\"))\n",
    "    if partNum not in eachLine:\n",
    "        break\n",
    "    print (\"Record Not Available\")"
   ]
  },
  {
   "cell_type": "code",
   "execution_count": 8,
   "metadata": {},
   "outputs": [
    {
     "name": "stdout",
     "output_type": "stream",
     "text": [
      "Please enter the part number:A009\n",
      "['9', 'SP309', 'A009', 'Headlight', '$35.19', 'In Stock']\n"
     ]
    }
   ],
   "source": [
    "fileVlookup = open(\"vlookup.csv\", \"r\")\n",
    "partNum = input(\"Please enter the part number:\")\n",
    "for eachLine in fileVlookup:\n",
    "    if partNum in eachLine:\n",
    "        print (eachLine.rstrip(\"\\n\").split(\",\"))"
   ]
  },
  {
   "cell_type": "code",
   "execution_count": 9,
   "metadata": {
    "scrolled": true
   },
   "outputs": [
    {
     "name": "stdout",
     "output_type": "stream",
     "text": [
      "Please enter the part number:A009\n",
      "\n",
      "\n",
      "\n",
      "\n",
      "\n",
      "\n",
      "\n",
      "\n",
      "\n",
      "['9', 'SP309', 'A009', 'Headlight', '$35.19', 'In Stock']\n",
      "\n",
      "\n",
      "\n",
      "\n",
      "\n",
      "\n",
      "\n",
      "\n",
      "\n",
      "\n",
      "\n",
      "\n",
      "\n",
      "\n",
      "\n",
      "\n",
      "\n",
      "\n",
      "\n",
      "\n",
      "\n",
      "\n",
      "\n",
      "\n",
      "\n",
      "\n",
      "\n",
      "\n",
      "\n",
      "\n",
      "\n",
      "\n",
      "\n",
      "\n",
      "\n",
      "\n",
      "\n",
      "\n",
      "\n",
      "\n",
      "\n"
     ]
    }
   ],
   "source": [
    "fileVlookup = open(\"vlookup.csv\", \"r\")\n",
    "partNum = input(\"Please enter the part number:\")\n",
    "for eachLine in fileVlookup:\n",
    "    if partNum not in eachLine:\n",
    "        print ()\n",
    "    else:\n",
    "        print (eachLine.rstrip(\"\\n\").split(\",\"))"
   ]
  },
  {
   "cell_type": "code",
   "execution_count": 10,
   "metadata": {},
   "outputs": [],
   "source": [
    "from contextlib import contextmanager\n",
    "import sys, os\n",
    "\n",
    "@contextmanager\n",
    "def suppress_stdout():\n",
    "    with open(os.devnull, \"w\") as devnull:\n",
    "        old_stdout = sys.stdout\n",
    "        sys.stdout = devnull\n",
    "        try:  \n",
    "            yield\n",
    "        finally:\n",
    "            sys.stdout = old_stdout"
   ]
  },
  {
   "cell_type": "code",
   "execution_count": 11,
   "metadata": {},
   "outputs": [
    {
     "name": "stdout",
     "output_type": "stream",
     "text": [
      "['9', 'SP309', 'A009', 'Headlight', '$35.19', 'In Stock']\n"
     ]
    }
   ],
   "source": [
    "fileVlookup = open(\"vlookup.csv\", \"r\")\n",
    "for eachLine in fileVlookup:\n",
    "    if 'A009' in eachLine:\n",
    "        print (eachLine.rstrip(\"\\n\").split(\",\"))\n",
    "        break\n",
    "    else:\n",
    "        with suppress_stdout():\n",
    "            print (\"You cannot see this\")"
   ]
  },
  {
   "cell_type": "code",
   "execution_count": 12,
   "metadata": {},
   "outputs": [
    {
     "name": "stdout",
     "output_type": "stream",
     "text": [
      "Input the Part Number:dfsdfj\n",
      "{'String Not Found'}\n"
     ]
    }
   ],
   "source": [
    "\"\"\"\n",
    "Following code snippet helps us search for a Part Number and provide us it's details if found.\n",
    "This file analyses data from a CSV file (vlookup.csv). \n",
    "Before executing this code, it is suggested to have the CSV file in the same directory\n",
    "\"\"\"\n",
    "fileVlookup = open(\"vlookup.csv\", \"r\")\n",
    "myString = ''\n",
    "mySet = set()\n",
    "partNum = input(\"Input the Part Number:\")\n",
    "for eachLine in fileVlookup:\n",
    "    if partNum in eachLine:\n",
    "        myString = eachLine.rstrip(\"\\n\")\n",
    "    else:\n",
    "        mySet.add(\"String Not Found\")\n",
    "if myString:\n",
    "    print (myString)\n",
    "else:\n",
    "    print (mySet)"
   ]
  },
  {
   "cell_type": "code",
   "execution_count": 13,
   "metadata": {},
   "outputs": [
    {
     "name": "stdout",
     "output_type": "stream",
     "text": [
      "Input the Part Number:ld;lsakdj;fls\n",
      "String Not Found\n"
     ]
    }
   ],
   "source": [
    "\"\"\"\n",
    "Following code snippet helps us search for a Part Number and provide us it's details if found.\n",
    "This file analyses data from a CSV file (vlookup.csv). \n",
    "Before executing this code, it is suggested to have the CSV file in the same directory\n",
    "\"\"\"\n",
    "fileVlookup = open(\"vlookup.csv\", \"r\")\n",
    "myString = ''\n",
    "mySet = set()\n",
    "partNum = input(\"Input the Part Number:\")\n",
    "for eachLine in fileVlookup:\n",
    "    if partNum in eachLine:\n",
    "        myString = eachLine.rstrip(\"\\n\")\n",
    "    else:\n",
    "        mySet.add(\"String Not Found\")\n",
    "if myString:\n",
    "    print (myString)\n",
    "else:\n",
    "    print (str(mySet).rstrip(\"'}\").lstrip(\"{'\"))"
   ]
  },
  {
   "cell_type": "code",
   "execution_count": 20,
   "metadata": {},
   "outputs": [
    {
     "name": "stdout",
     "output_type": "stream",
     "text": [
      "Input the Part Number:flj;sdlfgj\n",
      "String Not Found\n"
     ]
    },
    {
     "ename": "IndexError",
     "evalue": "list index out of range",
     "output_type": "error",
     "traceback": [
      "\u001b[1;31m---------------------------------------------------------------------------\u001b[0m",
      "\u001b[1;31mIndexError\u001b[0m                                Traceback (most recent call last)",
      "\u001b[1;32m<ipython-input-20-f9fdb2ac999c>\u001b[0m in \u001b[0;36m<module>\u001b[1;34m\u001b[0m\n\u001b[0;32m     21\u001b[0m     \u001b[0mprint\u001b[0m \u001b[1;33m(\u001b[0m\u001b[0mstr\u001b[0m\u001b[1;33m(\u001b[0m\u001b[0mmySet\u001b[0m\u001b[1;33m)\u001b[0m\u001b[1;33m.\u001b[0m\u001b[0mrstrip\u001b[0m\u001b[1;33m(\u001b[0m\u001b[1;34m\"'}\"\u001b[0m\u001b[1;33m)\u001b[0m\u001b[1;33m.\u001b[0m\u001b[0mlstrip\u001b[0m\u001b[1;33m(\u001b[0m\u001b[1;34m\"{'\"\u001b[0m\u001b[1;33m)\u001b[0m\u001b[1;33m)\u001b[0m\u001b[1;33m\u001b[0m\u001b[1;33m\u001b[0m\u001b[0m\n\u001b[0;32m     22\u001b[0m \u001b[1;33m\u001b[0m\u001b[0m\n\u001b[1;32m---> 23\u001b[1;33m \u001b[0mSNo\u001b[0m \u001b[1;33m=\u001b[0m \u001b[0mmyList\u001b[0m\u001b[1;33m[\u001b[0m\u001b[1;36m0\u001b[0m\u001b[1;33m]\u001b[0m\u001b[1;33m\u001b[0m\u001b[1;33m\u001b[0m\u001b[0m\n\u001b[0m\u001b[0;32m     24\u001b[0m \u001b[0mSupID\u001b[0m \u001b[1;33m=\u001b[0m \u001b[0mmyList\u001b[0m\u001b[1;33m[\u001b[0m\u001b[1;36m1\u001b[0m\u001b[1;33m]\u001b[0m\u001b[1;33m\u001b[0m\u001b[1;33m\u001b[0m\u001b[0m\n\u001b[0;32m     25\u001b[0m \u001b[0mPartNum\u001b[0m \u001b[1;33m=\u001b[0m \u001b[0mmyList\u001b[0m\u001b[1;33m[\u001b[0m\u001b[1;36m2\u001b[0m\u001b[1;33m]\u001b[0m\u001b[1;33m\u001b[0m\u001b[1;33m\u001b[0m\u001b[0m\n",
      "\u001b[1;31mIndexError\u001b[0m: list index out of range"
     ]
    }
   ],
   "source": [
    "\"\"\"\n",
    "Following code snippet helps us search for a Part Number and provide us it's details if found.\n",
    "This file analyses data from a CSV file (vlookup.csv). \n",
    "Before executing this code, it is suggested to have the CSV file in the same directory\n",
    "\"\"\"\n",
    "fileVlookup = open(\"vlookup.csv\", \"r\")\n",
    "myString = ''\n",
    "mySet = set()\n",
    "partNum = input(\"Input the Part Number:\")\n",
    "for eachLine in fileVlookup:\n",
    "    if partNum in eachLine:\n",
    "        myString = eachLine.rstrip(\"\\n\")\n",
    "    else:\n",
    "        mySet.add(\"String Not Found\")\n",
    "\n",
    "myList = []\n",
    "if myString:\n",
    "    print (myString.split(\",\"))\n",
    "    myList = myString.split(\",\")\n",
    "else:\n",
    "    print (str(mySet).rstrip(\"'}\").lstrip(\"{'\"))\n",
    "    \n",
    "SNo = myList[0]\n",
    "SupID = myList[1]\n",
    "PartNum = myList[2]\n",
    "PartName = myList[3]\n",
    "PartUnitPrice = myList[4]\n",
    "StockStatus = myList[5]\n",
    "\n",
    "print (\"The part ({}) with number: {} is {} and it's unit price is: {}\".format(PartName, PartNum, StockStatus, PartUnitPrice))\n"
   ]
  },
  {
   "cell_type": "code",
   "execution_count": 25,
   "metadata": {},
   "outputs": [
    {
     "name": "stdout",
     "output_type": "stream",
     "text": [
      "Input the Part Number:adhifhsd\n",
      "Error: Invalid Part Number\n"
     ]
    }
   ],
   "source": [
    "\"\"\"\n",
    "Following code snippet helps us search for a Part Number and provide us it's details if found.\n",
    "This file analyses data from a CSV file (vlookup.csv). \n",
    "Before executing this code, it is suggested to have the CSV file in the same directory\n",
    "\"\"\"\n",
    "fileVlookup = open(\"vlookup.csv\", \"r\")\n",
    "myString = ''\n",
    "mySet = set()\n",
    "partNum = input(\"Input the Part Number:\")\n",
    "for eachLine in fileVlookup:\n",
    "    if partNum in eachLine:\n",
    "        myString = eachLine.rstrip(\"\\n\")\n",
    "    else:\n",
    "        mySet.add(\"Error: Invalid Part Number\")\n",
    "myList = []\n",
    "if myString:\n",
    "    # print (myString.split(\",\"))\n",
    "    myList = myString.split(\",\")\n",
    "    SNo = myList[0]\n",
    "    SupID = myList[1]\n",
    "    PartNum = myList[2]\n",
    "    PartName = myList[3]\n",
    "    PartUnitPrice = myList[4]\n",
    "    StockStatus = myList[5]\n",
    "    print (\"The part ({}) with part ID: {} is {} and it's unit price is: {}\".format(PartName, PartNum, StockStatus, PartUnitPrice))\n",
    "else:\n",
    "    print (str(mySet).rstrip(\"'}\").lstrip(\"{'\"))"
   ]
  }
 ],
 "metadata": {
  "kernelspec": {
   "display_name": "Python 3",
   "language": "python",
   "name": "python3"
  },
  "language_info": {
   "codemirror_mode": {
    "name": "ipython",
    "version": 3
   },
   "file_extension": ".py",
   "mimetype": "text/x-python",
   "name": "python",
   "nbconvert_exporter": "python",
   "pygments_lexer": "ipython3",
   "version": "3.7.6"
  }
 },
 "nbformat": 4,
 "nbformat_minor": 4
}
