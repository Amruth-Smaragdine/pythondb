{
 "cells": [
  {
   "cell_type": "code",
   "execution_count": 2,
   "metadata": {},
   "outputs": [
    {
     "data": {
      "application/javascript": [
       "IPython.notebook.set_autosave_interval(30000)"
      ]
     },
     "metadata": {},
     "output_type": "display_data"
    },
    {
     "name": "stdout",
     "output_type": "stream",
     "text": [
      "Autosaving every 30 seconds\n"
     ]
    }
   ],
   "source": [
    "%autosave 30"
   ]
  },
  {
   "cell_type": "code",
   "execution_count": 29,
   "metadata": {},
   "outputs": [],
   "source": [
    "def resultOfDiv(a, b):\n",
    "    \"\"\"\n",
    "    This function will return the result of division of two numbers\n",
    "    \"\"\"\n",
    "    print ( \"Result of '{} / {}' is: {}\".format( a, b, a / b ))            # Operator (/) returns a float value\n",
    "    print ( \"Result of '{} // {}' is: {}\".format( a, b, a // b ))            # Operator (//) returns an aboslute value"
   ]
  },
  {
   "cell_type": "code",
   "execution_count": 26,
   "metadata": {},
   "outputs": [
    {
     "name": "stdout",
     "output_type": "stream",
     "text": [
      "Result of '3 / 2' is: 1.5\n",
      "Result of '3 // 2' is: 1\n"
     ]
    }
   ],
   "source": [
    "resultOfDiv(3, 2)"
   ]
  },
  {
   "cell_type": "code",
   "execution_count": 24,
   "metadata": {},
   "outputs": [],
   "source": [
    "def quotientOfDiv(a, b):\n",
    "    \"\"\"\n",
    "    This funciton will return the quotient of division of two numbers\n",
    "    \"\"\"\n",
    "    print ( \"Quotient with dividend: {} and divisor: {}, is: {}\".format( a, b, a%b ) )"
   ]
  },
  {
   "cell_type": "code",
   "execution_count": 27,
   "metadata": {},
   "outputs": [
    {
     "name": "stdout",
     "output_type": "stream",
     "text": [
      "Quotient with dividend: 3 and divisor: 2, is: 1\n"
     ]
    }
   ],
   "source": [
    "quotientOfDiv( 3, 2 )"
   ]
  },
  {
   "cell_type": "code",
   "execution_count": 36,
   "metadata": {},
   "outputs": [],
   "source": [
    "def ResNdQuoOfDiv (a, b):\n",
    "    resultOfDiv (a, b)\n",
    "    quotientOfDiv (a, b)"
   ]
  },
  {
   "cell_type": "code",
   "execution_count": 37,
   "metadata": {},
   "outputs": [
    {
     "name": "stdout",
     "output_type": "stream",
     "text": [
      "Result of '3 / 2' is: 1.5\n",
      "Result of '3 // 2' is: 1\n",
      "Quotient with dividend: 3 and divisor: 2, is: 1\n"
     ]
    }
   ],
   "source": [
    "ResNdQuoOfDiv(3, 2)"
   ]
  },
  {
   "cell_type": "code",
   "execution_count": 12,
   "metadata": {},
   "outputs": [
    {
     "name": "stdout",
     "output_type": "stream",
     "text": [
      "Result of 3 divided by 2 is: \n"
     ]
    }
   ],
   "source": [
    "def resultOfDivBy2(n):\n",
    "    print (\"Result of {} divided by 2 is: \".format( n // 2 ))   \n",
    "resultOfDivBy2(6)"
   ]
  }
 ],
 "metadata": {
  "kernelspec": {
   "display_name": "Python 3",
   "language": "python",
   "name": "python3"
  },
  "language_info": {
   "codemirror_mode": {
    "name": "ipython",
    "version": 3
   },
   "file_extension": ".py",
   "mimetype": "text/x-python",
   "name": "python",
   "nbconvert_exporter": "python",
   "pygments_lexer": "ipython3",
   "version": "3.7.6"
  }
 },
 "nbformat": 4,
 "nbformat_minor": 4
}
