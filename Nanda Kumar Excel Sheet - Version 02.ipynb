{
 "cells": [
  {
   "cell_type": "code",
   "execution_count": 1,
   "metadata": {},
   "outputs": [
    {
     "data": {
      "application/javascript": [
       "IPython.notebook.set_autosave_interval(30000)"
      ]
     },
     "metadata": {},
     "output_type": "display_data"
    },
    {
     "name": "stdout",
     "output_type": "stream",
     "text": [
      "Autosaving every 30 seconds\n"
     ]
    }
   ],
   "source": [
    "%autosave 30"
   ]
  },
  {
   "cell_type": "code",
   "execution_count": 5,
   "metadata": {},
   "outputs": [
    {
     "name": "stdout",
     "output_type": "stream",
     "text": [
      "Total time in seconds to execute this code: 0.043974876403808594\n",
      "['ID0005', 116244.0, 'Adarsh Valamary', 'emp_name@mail.com5', 'B', 'Bangalore', 'No', 42644.0, '--', 'Front end UX/UI', 'WEBUI', 'Angular', 'MEAN', 'Govind Murari', 'PID0005', 'PN005', 'PM005', 'AC005', 43864.333333333336, 44001.708333333336, 43864.0, 44001.0, 43983.0, 44001.0, 15.0, 15.0, 17.0, 22.0, 22.0, 0.6818181818181818, 0.6818181818181818, 0.6818181818181818, 'Billable', 'DCX', 'INDIA', 'IN', 'IN71', 'Non-SEZ', 'Standard', '', 'No', 'External', 'CSS']\n",
      "{'String Not Found'}\n"
     ]
    }
   ],
   "source": [
    "# Code to extract employee data from MS Excel sheet using XLRD package - Iteration 05\n",
    "\n",
    "import xlrd\n",
    "import time\n",
    "\n",
    "try:\n",
    "    startTime = time.time()\n",
    "    wb = xlrd.open_workbook(\"01-EmployeeData-Sample.xlsx\")\n",
    "    ws = wb.sheet_by_index(0)\n",
    "    myList1 = []\n",
    "    myList2 = []\n",
    "    # startTime = time.time()\n",
    "    for j in range (0, ws.nrows):\n",
    "        for i in range (0, ws.ncols):\n",
    "            if ws.cell_value(j, i) == '' or ws.cell_value(j, i) == '--':\n",
    "                myList1.append(\"NO VALID DATA\")\n",
    "            else:\n",
    "                myList1.append(ws.cell_value(j, i))\n",
    "        myList2.append(myList1)\n",
    "        myList1 = []\n",
    "    # print (myList2)\n",
    "    endTime = time.time()\n",
    "    print (\"Total time in seconds to execute this code:\", (endTime - startTime))\n",
    "    \n",
    "    # Search employee ID\n",
    "    myList3 = []\n",
    "    mySet = set()\n",
    "    varImp = 0\n",
    "    for i in range (0, ws.nrows):\n",
    "        for j in range (0, ws.ncols):\n",
    "            if myList2[i][j] == 116244:\n",
    "                # print (\"This is just getting wonderful\", i, j)\n",
    "                varImp = i\n",
    "                # print (varImp)\n",
    "            else:\n",
    "                mySet.add ('String Not Found')\n",
    "                # print (\"String Found\")\n",
    "    for i in range (0, 43):\n",
    "        myList3.append(ws.cell_value(varImp, i))\n",
    "    del varImp\n",
    "    print (myList3)\n",
    "    print (mySet)\n",
    "except FileNotFoundError:\n",
    "    print (\"Error: FILE NOT FOUND\")\n",
    "    \n",
    "del myList1\n",
    "del myList2\n",
    "del myList3\n",
    "del mySet\n"
   ]
  }
 ],
 "metadata": {
  "kernelspec": {
   "display_name": "Python 3",
   "language": "python",
   "name": "python3"
  },
  "language_info": {
   "codemirror_mode": {
    "name": "ipython",
    "version": 3
   },
   "file_extension": ".py",
   "mimetype": "text/x-python",
   "name": "python",
   "nbconvert_exporter": "python",
   "pygments_lexer": "ipython3",
   "version": "3.7.6"
  }
 },
 "nbformat": 4,
 "nbformat_minor": 4
}
