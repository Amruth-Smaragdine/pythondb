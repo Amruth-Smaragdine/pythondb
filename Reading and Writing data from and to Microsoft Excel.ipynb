{
 "cells": [
  {
   "cell_type": "code",
   "execution_count": 2,
   "metadata": {},
   "outputs": [
    {
     "data": {
      "application/javascript": [
       "IPython.notebook.set_autosave_interval(30000)"
      ]
     },
     "metadata": {},
     "output_type": "display_data"
    },
    {
     "name": "stdout",
     "output_type": "stream",
     "text": [
      "Autosaving every 30 seconds\n"
     ]
    }
   ],
   "source": [
    "%autosave 30"
   ]
  },
  {
   "cell_type": "code",
   "execution_count": 1,
   "metadata": {},
   "outputs": [
    {
     "name": "stdout",
     "output_type": "stream",
     "text": [
      "openpyxl                           3.0.3              \n"
     ]
    }
   ],
   "source": [
    "import sys\n",
    "!{sys.executable} -m pip list | findstr openpyxl "
   ]
  },
  {
   "cell_type": "code",
   "execution_count": 44,
   "metadata": {},
   "outputs": [
    {
     "name": "stdout",
     "output_type": "stream",
     "text": [
      "<Worksheet \"Sheet1\">\n",
      "1000 Units\n"
     ]
    }
   ],
   "source": [
    "# Experiment 01 \n",
    "\n",
    "import openpyxl\n",
    "wb = openpyxl.load_workbook(\"SampleWorkbook.xlsx\")\n",
    "ws = wb.active\n",
    "ac = ws.cell(row=1, column=1).value\n",
    "# ac.data_type()\n",
    "# print (ac.value())\n",
    "# cv = ws.cell(row=0, column=0)\n",
    "print (ws)\n",
    "print (ac)"
   ]
  },
  {
   "cell_type": "code",
   "execution_count": 45,
   "metadata": {},
   "outputs": [
    {
     "name": "stdout",
     "output_type": "stream",
     "text": [
      "<Worksheet \"Sheet1\">\n",
      "1000 Units\n"
     ]
    }
   ],
   "source": [
    "# Experiment 01 - Iteration 01 \n",
    "# Observation: We will not need the entire package 'openpyxl'\n",
    "\n",
    "from openpyxl import Workbook\n",
    "wb = openpyxl.load_workbook(\"SampleWorkbook.xlsx\")\n",
    "ws = wb.active\n",
    "ac = ws.cell(row=1, column=1).value\n",
    "print (ws)\n",
    "print (ac)"
   ]
  },
  {
   "cell_type": "code",
   "execution_count": 54,
   "metadata": {},
   "outputs": [
    {
     "name": "stdout",
     "output_type": "stream",
     "text": [
      "Names of all Worksheets present in Workbook: ['Sheet1', 'Sheet2', 'Sheet3']\n",
      "Active Worksheet: <Worksheet \"Sheet1\">\n",
      "Contents in A1 of <Worksheet \"Sheet1\">: 1000 Units Sheet1 A1\n"
     ]
    }
   ],
   "source": [
    "# Experiment 01 \n",
    "# Observation: If we are to navigate to another worksheet, we have to assign a value to Workbook.active \n",
    "# Worksheets are fetched with help of their index number which starts with: 0\n",
    "\n",
    "import openpyxl\n",
    "wb = openpyxl.load_workbook(\"SampleWorkbookOpenpyxl.xlsx\")    # This will help us load the workbook to read & write\n",
    "print (\"Names of all Worksheets present in Workbook:\", wb.sheetnames)                                         # Print statement to list all the sheets in workbook\n",
    "wb.active = 0                                                 # This variable helps us activate desired worksheet\n",
    "print (\"Active Worksheet:\", wb.active)                                             # Print statement to check active sheet name. \n",
    "ws = wb.active                                                # Assigns active sheet to a variable\n",
    "ac = ws.cell(row=1, column=1).value                           # Content of a cell gets stored in variable \n",
    "print (\"Contents in A1 of {}: {}\".format(ws, ac))             # Prints the contents of desired cell"
   ]
  }
 ],
 "metadata": {
  "kernelspec": {
   "display_name": "Python 3",
   "language": "python",
   "name": "python3"
  },
  "language_info": {
   "codemirror_mode": {
    "name": "ipython",
    "version": 3
   },
   "file_extension": ".py",
   "mimetype": "text/x-python",
   "name": "python",
   "nbconvert_exporter": "python",
   "pygments_lexer": "ipython3",
   "version": "3.7.6"
  }
 },
 "nbformat": 4,
 "nbformat_minor": 4
}
