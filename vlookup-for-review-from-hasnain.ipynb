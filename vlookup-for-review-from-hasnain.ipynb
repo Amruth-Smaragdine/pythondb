{
 "cells": [
  {
   "cell_type": "code",
   "execution_count": 1,
   "metadata": {},
   "outputs": [
    {
     "data": {
      "application/javascript": [
       "IPython.notebook.set_autosave_interval(30000)"
      ]
     },
     "metadata": {},
     "output_type": "display_data"
    },
    {
     "name": "stdout",
     "output_type": "stream",
     "text": [
      "Autosaving every 30 seconds\n"
     ]
    }
   ],
   "source": [
    "%autosave 30"
   ]
  },
  {
   "cell_type": "code",
   "execution_count": 2,
   "metadata": {},
   "outputs": [
    {
     "name": "stdout",
     "output_type": "stream",
     "text": [
      "Please enter the part number:A009\n",
      "['9', 'SP309', 'A009', 'Headlight', '$35.19', 'In Stock']\n"
     ]
    }
   ],
   "source": [
    "fileVlookup = open(\"vlookup.csv\", \"r\")           # Using the \"Open\" Function store the data in python against the variable Filevlookup\n",
    "partNum = input(\"Please enter the part number:\") # Allow the user to Input value the value should be from .CSV file\n",
    "for eachLine in fileVlookup:                     # using For loop iterate over eachline in \"\".csv\"\n",
    "    if partNum in eachLine:                      # if partnumber found in line:\n",
    "        print (eachLine.rstrip(\"\\n\").split(\",\")) # Print the line"
   ]
  }
 ],
 "metadata": {
  "kernelspec": {
   "display_name": "Python 3",
   "language": "python",
   "name": "python3"
  },
  "language_info": {
   "codemirror_mode": {
    "name": "ipython",
    "version": 3
   },
   "file_extension": ".py",
   "mimetype": "text/x-python",
   "name": "python",
   "nbconvert_exporter": "python",
   "pygments_lexer": "ipython3",
   "version": "3.7.6"
  }
 },
 "nbformat": 4,
 "nbformat_minor": 4
}
